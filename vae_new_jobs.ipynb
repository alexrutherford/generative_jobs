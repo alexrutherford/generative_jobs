{
 "cells": [
  {
   "cell_type": "code",
   "execution_count": 319,
   "id": "f3ffa4b1-fb36-4199-a701-eaaa653042e5",
   "metadata": {},
   "outputs": [],
   "source": [
    "import numpy as np\n",
    "import matplotlib.pyplot as plt\n",
    "import seaborn as sns\n",
    "import pandas as pd\n",
    "from scipy.spatial import distance\n",
    "from sklearn.metrics import pairwise_distances\n",
    "\n",
    "import seaborn as sns\n",
    "import warnings"
   ]
  },
  {
   "cell_type": "markdown",
   "id": "3af3e63f-14bf-4f94-8830-b8053e3ddd70",
   "metadata": {},
   "source": [
    "Working from [this](https://towardsdatascience.com/variational-autoencoders-as-generative-models-with-keras-e0c79415a7eb)"
   ]
  },
  {
   "cell_type": "code",
   "execution_count": 362,
   "id": "997df7ab-22a1-4738-9e0b-2bd1209844cd",
   "metadata": {},
   "outputs": [
    {
     "name": "stdout",
     "output_type": "stream",
     "text": [
      "/Users/alexisrutherford/Desktop/foh_vae\n"
     ]
    }
   ],
   "source": [
    "!pwd"
   ]
  },
  {
   "cell_type": "markdown",
   "id": "ee964938-5fb9-43fb-aaa6-09327acd394d",
   "metadata": {},
   "source": [
    "Following [this example](https://towardsdatascience.com/variational-autoencoders-as-generative-models-with-keras-e0c79415a7eb)"
   ]
  },
  {
   "cell_type": "markdown",
   "id": "85af52ba-2619-4038-8ca6-75720f31a5e4",
   "metadata": {},
   "source": [
    "## Load the data"
   ]
  },
  {
   "cell_type": "code",
   "execution_count": 2,
   "id": "d421aebb-ec7d-4678-b9dd-a95eec96342a",
   "metadata": {},
   "outputs": [],
   "source": [
    "df = pd.read_csv('MergedData.csv')"
   ]
  },
  {
   "cell_type": "code",
   "execution_count": 4,
   "id": "98529b20-ace0-41ef-8a45-89f62532ae80",
   "metadata": {},
   "outputs": [
    {
     "data": {
      "text/html": [
       "<div>\n",
       "<style scoped>\n",
       "    .dataframe tbody tr th:only-of-type {\n",
       "        vertical-align: middle;\n",
       "    }\n",
       "\n",
       "    .dataframe tbody tr th {\n",
       "        vertical-align: top;\n",
       "    }\n",
       "\n",
       "    .dataframe thead th {\n",
       "        text-align: right;\n",
       "    }\n",
       "</style>\n",
       "<table border=\"1\" class=\"dataframe\">\n",
       "  <thead>\n",
       "    <tr style=\"text-align: right;\">\n",
       "      <th></th>\n",
       "      <th>Unnamed: 0</th>\n",
       "      <th>SOC</th>\n",
       "      <th>Probability</th>\n",
       "      <th>Achievement</th>\n",
       "      <th>Independence</th>\n",
       "      <th>Recognition</th>\n",
       "      <th>Relationships</th>\n",
       "      <th>Support</th>\n",
       "      <th>Working Conditions</th>\n",
       "    </tr>\n",
       "  </thead>\n",
       "  <tbody>\n",
       "    <tr>\n",
       "      <th>0</th>\n",
       "      <td>1</td>\n",
       "      <td>11-1011</td>\n",
       "      <td>0.015</td>\n",
       "      <td>6.50</td>\n",
       "      <td>6.835</td>\n",
       "      <td>6.500</td>\n",
       "      <td>5.00</td>\n",
       "      <td>4.33</td>\n",
       "      <td>6.33</td>\n",
       "    </tr>\n",
       "    <tr>\n",
       "      <th>1</th>\n",
       "      <td>2</td>\n",
       "      <td>11-1021</td>\n",
       "      <td>0.160</td>\n",
       "      <td>5.33</td>\n",
       "      <td>6.000</td>\n",
       "      <td>5.670</td>\n",
       "      <td>6.33</td>\n",
       "      <td>4.67</td>\n",
       "      <td>6.00</td>\n",
       "    </tr>\n",
       "    <tr>\n",
       "      <th>2</th>\n",
       "      <td>3</td>\n",
       "      <td>11-2011</td>\n",
       "      <td>0.039</td>\n",
       "      <td>5.33</td>\n",
       "      <td>5.330</td>\n",
       "      <td>5.165</td>\n",
       "      <td>5.00</td>\n",
       "      <td>4.00</td>\n",
       "      <td>5.08</td>\n",
       "    </tr>\n",
       "    <tr>\n",
       "      <th>3</th>\n",
       "      <td>4</td>\n",
       "      <td>11-2021</td>\n",
       "      <td>0.014</td>\n",
       "      <td>6.00</td>\n",
       "      <td>5.670</td>\n",
       "      <td>5.330</td>\n",
       "      <td>5.67</td>\n",
       "      <td>5.00</td>\n",
       "      <td>6.17</td>\n",
       "    </tr>\n",
       "    <tr>\n",
       "      <th>4</th>\n",
       "      <td>5</td>\n",
       "      <td>11-2022</td>\n",
       "      <td>0.013</td>\n",
       "      <td>5.33</td>\n",
       "      <td>5.670</td>\n",
       "      <td>4.670</td>\n",
       "      <td>4.00</td>\n",
       "      <td>5.33</td>\n",
       "      <td>5.50</td>\n",
       "    </tr>\n",
       "  </tbody>\n",
       "</table>\n",
       "</div>"
      ],
      "text/plain": [
       "   Unnamed: 0      SOC  Probability  Achievement  Independence  Recognition  \\\n",
       "0           1  11-1011        0.015         6.50         6.835        6.500   \n",
       "1           2  11-1021        0.160         5.33         6.000        5.670   \n",
       "2           3  11-2011        0.039         5.33         5.330        5.165   \n",
       "3           4  11-2021        0.014         6.00         5.670        5.330   \n",
       "4           5  11-2022        0.013         5.33         5.670        4.670   \n",
       "\n",
       "   Relationships  Support  Working Conditions  \n",
       "0           5.00     4.33                6.33  \n",
       "1           6.33     4.67                6.00  \n",
       "2           5.00     4.00                5.08  \n",
       "3           5.67     5.00                6.17  \n",
       "4           4.00     5.33                5.50  "
      ]
     },
     "execution_count": 4,
     "metadata": {},
     "output_type": "execute_result"
    }
   ],
   "source": [
    "df.head()"
   ]
  },
  {
   "cell_type": "code",
   "execution_count": 10,
   "id": "1a097335-47bd-4ada-af23-65deff75a143",
   "metadata": {},
   "outputs": [],
   "source": [
    "df = pd.read_csv('/Users/alexisrutherford/Desktop/fow_game/jobSkillMat.csv',delimiter='\\t')"
   ]
  },
  {
   "cell_type": "code",
   "execution_count": 11,
   "id": "9a4714cc-01f8-41de-a1c4-25a5b18722c8",
   "metadata": {},
   "outputs": [
    {
     "data": {
      "text/html": [
       "<div>\n",
       "<style scoped>\n",
       "    .dataframe tbody tr th:only-of-type {\n",
       "        vertical-align: middle;\n",
       "    }\n",
       "\n",
       "    .dataframe tbody tr th {\n",
       "        vertical-align: top;\n",
       "    }\n",
       "\n",
       "    .dataframe thead th {\n",
       "        text-align: right;\n",
       "    }\n",
       "</style>\n",
       "<table border=\"1\" class=\"dataframe\">\n",
       "  <thead>\n",
       "    <tr style=\"text-align: right;\">\n",
       "      <th></th>\n",
       "      <th>Job Code</th>\n",
       "      <th>Job Title</th>\n",
       "      <th>Oral Comprehension</th>\n",
       "      <th>Written Comprehension</th>\n",
       "      <th>Oral Expression</th>\n",
       "      <th>Written Expression</th>\n",
       "      <th>Fluency of Ideas</th>\n",
       "      <th>Originality</th>\n",
       "      <th>Problem Sensitivity</th>\n",
       "      <th>Deductive Reasoning</th>\n",
       "      <th>...</th>\n",
       "      <th>Freedom to Make Decisions</th>\n",
       "      <th>Degree of Automation</th>\n",
       "      <th>Importance of Being Exact or Accurate</th>\n",
       "      <th>Importance of Repeating Same Tasks</th>\n",
       "      <th>Structured versus Unstructured Work</th>\n",
       "      <th>Level of Competition</th>\n",
       "      <th>Time Pressure</th>\n",
       "      <th>Pace Determined by Speed of Equipment</th>\n",
       "      <th>Work Schedules</th>\n",
       "      <th>Duration of Typical Work Week</th>\n",
       "    </tr>\n",
       "  </thead>\n",
       "  <tbody>\n",
       "    <tr>\n",
       "      <th>0</th>\n",
       "      <td>13-2011</td>\n",
       "      <td>accountants and auditors</td>\n",
       "      <td>0.625714</td>\n",
       "      <td>0.625714</td>\n",
       "      <td>0.642857</td>\n",
       "      <td>0.588571</td>\n",
       "      <td>0.482857</td>\n",
       "      <td>0.445714</td>\n",
       "      <td>0.588571</td>\n",
       "      <td>0.642857</td>\n",
       "      <td>...</td>\n",
       "      <td>0.2800</td>\n",
       "      <td>0.0400</td>\n",
       "      <td>0.2800</td>\n",
       "      <td>0.2800</td>\n",
       "      <td>0.1600</td>\n",
       "      <td>0.1200</td>\n",
       "      <td>0.2400</td>\n",
       "      <td>0.0000</td>\n",
       "      <td>0.0800</td>\n",
       "      <td>0.8000</td>\n",
       "    </tr>\n",
       "    <tr>\n",
       "      <th>1</th>\n",
       "      <td>27-2011</td>\n",
       "      <td>actors</td>\n",
       "      <td>0.590000</td>\n",
       "      <td>0.518571</td>\n",
       "      <td>0.590000</td>\n",
       "      <td>0.518571</td>\n",
       "      <td>0.500000</td>\n",
       "      <td>0.464286</td>\n",
       "      <td>0.464286</td>\n",
       "      <td>0.447143</td>\n",
       "      <td>...</td>\n",
       "      <td>0.2379</td>\n",
       "      <td>0.0223</td>\n",
       "      <td>0.3677</td>\n",
       "      <td>0.1737</td>\n",
       "      <td>0.2502</td>\n",
       "      <td>0.5903</td>\n",
       "      <td>0.4411</td>\n",
       "      <td>0.0120</td>\n",
       "      <td>0.1738</td>\n",
       "      <td>0.2890</td>\n",
       "    </tr>\n",
       "    <tr>\n",
       "      <th>2</th>\n",
       "      <td>15-2011</td>\n",
       "      <td>actuaries</td>\n",
       "      <td>0.642857</td>\n",
       "      <td>0.697143</td>\n",
       "      <td>0.697143</td>\n",
       "      <td>0.607143</td>\n",
       "      <td>0.571429</td>\n",
       "      <td>0.517143</td>\n",
       "      <td>0.625714</td>\n",
       "      <td>0.660000</td>\n",
       "      <td>...</td>\n",
       "      <td>0.3030</td>\n",
       "      <td>0.0000</td>\n",
       "      <td>0.6667</td>\n",
       "      <td>0.1515</td>\n",
       "      <td>0.2424</td>\n",
       "      <td>0.2121</td>\n",
       "      <td>0.0606</td>\n",
       "      <td>0.0000</td>\n",
       "      <td>0.0303</td>\n",
       "      <td>0.6364</td>\n",
       "    </tr>\n",
       "    <tr>\n",
       "      <th>3</th>\n",
       "      <td>51-9191</td>\n",
       "      <td>adhesive bonding machine operators and tenders</td>\n",
       "      <td>0.445714</td>\n",
       "      <td>0.428571</td>\n",
       "      <td>0.428571</td>\n",
       "      <td>0.321429</td>\n",
       "      <td>0.250000</td>\n",
       "      <td>0.250000</td>\n",
       "      <td>0.428571</td>\n",
       "      <td>0.392857</td>\n",
       "      <td>...</td>\n",
       "      <td>0.4016</td>\n",
       "      <td>0.0845</td>\n",
       "      <td>0.2680</td>\n",
       "      <td>0.1639</td>\n",
       "      <td>0.1401</td>\n",
       "      <td>0.0754</td>\n",
       "      <td>0.4473</td>\n",
       "      <td>0.4077</td>\n",
       "      <td>0.0845</td>\n",
       "      <td>0.4659</td>\n",
       "    </tr>\n",
       "    <tr>\n",
       "      <th>4</th>\n",
       "      <td>23-1021</td>\n",
       "      <td>administrative law judges, adjudicators, and h...</td>\n",
       "      <td>0.731429</td>\n",
       "      <td>0.731429</td>\n",
       "      <td>0.750000</td>\n",
       "      <td>0.714286</td>\n",
       "      <td>0.464286</td>\n",
       "      <td>0.445714</td>\n",
       "      <td>0.588571</td>\n",
       "      <td>0.697143</td>\n",
       "      <td>...</td>\n",
       "      <td>0.7271</td>\n",
       "      <td>0.0000</td>\n",
       "      <td>0.8756</td>\n",
       "      <td>0.5055</td>\n",
       "      <td>0.5603</td>\n",
       "      <td>0.1157</td>\n",
       "      <td>0.6848</td>\n",
       "      <td>0.0053</td>\n",
       "      <td>0.0000</td>\n",
       "      <td>0.5751</td>\n",
       "    </tr>\n",
       "  </tbody>\n",
       "</table>\n",
       "<p>5 rows × 232 columns</p>\n",
       "</div>"
      ],
      "text/plain": [
       "  Job Code                                          Job Title  \\\n",
       "0  13-2011                           accountants and auditors   \n",
       "1  27-2011                                             actors   \n",
       "2  15-2011                                          actuaries   \n",
       "3  51-9191     adhesive bonding machine operators and tenders   \n",
       "4  23-1021  administrative law judges, adjudicators, and h...   \n",
       "\n",
       "    Oral Comprehension   Written Comprehension   Oral Expression  \\\n",
       "0             0.625714                0.625714          0.642857   \n",
       "1             0.590000                0.518571          0.590000   \n",
       "2             0.642857                0.697143          0.697143   \n",
       "3             0.445714                0.428571          0.428571   \n",
       "4             0.731429                0.731429          0.750000   \n",
       "\n",
       "    Written Expression   Fluency of Ideas   Originality   Problem Sensitivity  \\\n",
       "0             0.588571           0.482857      0.445714              0.588571   \n",
       "1             0.518571           0.500000      0.464286              0.464286   \n",
       "2             0.607143           0.571429      0.517143              0.625714   \n",
       "3             0.321429           0.250000      0.250000              0.428571   \n",
       "4             0.714286           0.464286      0.445714              0.588571   \n",
       "\n",
       "    Deductive Reasoning  ...   Freedom to Make Decisions  \\\n",
       "0              0.642857  ...                      0.2800   \n",
       "1              0.447143  ...                      0.2379   \n",
       "2              0.660000  ...                      0.3030   \n",
       "3              0.392857  ...                      0.4016   \n",
       "4              0.697143  ...                      0.7271   \n",
       "\n",
       "    Degree of Automation   Importance of Being Exact or Accurate  \\\n",
       "0                 0.0400                                  0.2800   \n",
       "1                 0.0223                                  0.3677   \n",
       "2                 0.0000                                  0.6667   \n",
       "3                 0.0845                                  0.2680   \n",
       "4                 0.0000                                  0.8756   \n",
       "\n",
       "    Importance of Repeating Same Tasks   Structured versus Unstructured Work  \\\n",
       "0                               0.2800                                0.1600   \n",
       "1                               0.1737                                0.2502   \n",
       "2                               0.1515                                0.2424   \n",
       "3                               0.1639                                0.1401   \n",
       "4                               0.5055                                0.5603   \n",
       "\n",
       "    Level of Competition   Time Pressure  \\\n",
       "0                 0.1200          0.2400   \n",
       "1                 0.5903          0.4411   \n",
       "2                 0.2121          0.0606   \n",
       "3                 0.0754          0.4473   \n",
       "4                 0.1157          0.6848   \n",
       "\n",
       "    Pace Determined by Speed of Equipment   Work Schedules  \\\n",
       "0                                  0.0000           0.0800   \n",
       "1                                  0.0120           0.1738   \n",
       "2                                  0.0000           0.0303   \n",
       "3                                  0.4077           0.0845   \n",
       "4                                  0.0053           0.0000   \n",
       "\n",
       "    Duration of Typical Work Week  \n",
       "0                          0.8000  \n",
       "1                          0.2890  \n",
       "2                          0.6364  \n",
       "3                          0.4659  \n",
       "4                          0.5751  \n",
       "\n",
       "[5 rows x 232 columns]"
      ]
     },
     "execution_count": 11,
     "metadata": {},
     "output_type": "execute_result"
    }
   ],
   "source": [
    "df.head()"
   ]
  },
  {
   "cell_type": "code",
   "execution_count": 43,
   "id": "6394f15e-61ca-49c8-a8a0-cefe5032811c",
   "metadata": {},
   "outputs": [
    {
     "name": "stdout",
     "output_type": "stream",
     "text": [
      "<class 'pandas.core.frame.DataFrame'>\n",
      "RangeIndex: 768 entries, 0 to 767\n",
      "Columns: 232 entries, Job Code to  Duration of Typical Work Week\n",
      "dtypes: float64(230), object(2)\n",
      "memory usage: 1.4+ MB\n"
     ]
    }
   ],
   "source": [
    "df.info()"
   ]
  },
  {
   "cell_type": "code",
   "execution_count": 19,
   "id": "44af0ac3-0e8f-4dc7-8265-153d365f3cc0",
   "metadata": {},
   "outputs": [
    {
     "data": {
      "text/plain": [
       "(768, 232)"
      ]
     },
     "execution_count": 19,
     "metadata": {},
     "output_type": "execute_result"
    }
   ],
   "source": [
    "df.shape"
   ]
  },
  {
   "cell_type": "markdown",
   "id": "44d31ff1-3268-408d-af40-24985220797e",
   "metadata": {},
   "source": [
    "## Which columns are sparse?"
   ]
  },
  {
   "cell_type": "code",
   "execution_count": 73,
   "id": "1b843d88-1bd0-4d3f-90cb-7c123ee5a911",
   "metadata": {},
   "outputs": [
    {
     "data": {
      "text/html": [
       "<div>\n",
       "<style scoped>\n",
       "    .dataframe tbody tr th:only-of-type {\n",
       "        vertical-align: middle;\n",
       "    }\n",
       "\n",
       "    .dataframe tbody tr th {\n",
       "        vertical-align: top;\n",
       "    }\n",
       "\n",
       "    .dataframe thead th {\n",
       "        text-align: right;\n",
       "    }\n",
       "</style>\n",
       "<table border=\"1\" class=\"dataframe\">\n",
       "  <thead>\n",
       "    <tr style=\"text-align: right;\">\n",
       "      <th></th>\n",
       "      <th>Oral Comprehension</th>\n",
       "      <th>Written Comprehension</th>\n",
       "      <th>Oral Expression</th>\n",
       "      <th>Written Expression</th>\n",
       "      <th>Fluency of Ideas</th>\n",
       "      <th>Originality</th>\n",
       "      <th>Problem Sensitivity</th>\n",
       "      <th>Deductive Reasoning</th>\n",
       "      <th>Inductive Reasoning</th>\n",
       "      <th>Information Ordering</th>\n",
       "      <th>...</th>\n",
       "      <th>Freedom to Make Decisions</th>\n",
       "      <th>Degree of Automation</th>\n",
       "      <th>Importance of Being Exact or Accurate</th>\n",
       "      <th>Importance of Repeating Same Tasks</th>\n",
       "      <th>Structured versus Unstructured Work</th>\n",
       "      <th>Level of Competition</th>\n",
       "      <th>Time Pressure</th>\n",
       "      <th>Pace Determined by Speed of Equipment</th>\n",
       "      <th>Work Schedules</th>\n",
       "      <th>Duration of Typical Work Week</th>\n",
       "    </tr>\n",
       "  </thead>\n",
       "  <tbody>\n",
       "    <tr>\n",
       "      <th>count</th>\n",
       "      <td>768.000000</td>\n",
       "      <td>768.000000</td>\n",
       "      <td>768.000000</td>\n",
       "      <td>768.000000</td>\n",
       "      <td>768.000000</td>\n",
       "      <td>768.000000</td>\n",
       "      <td>768.000000</td>\n",
       "      <td>768.000000</td>\n",
       "      <td>768.000000</td>\n",
       "      <td>768.000000</td>\n",
       "      <td>...</td>\n",
       "      <td>768.000000</td>\n",
       "      <td>768.000000</td>\n",
       "      <td>768.000000</td>\n",
       "      <td>768.000000</td>\n",
       "      <td>768.000000</td>\n",
       "      <td>768.000000</td>\n",
       "      <td>768.000000</td>\n",
       "      <td>768.000000</td>\n",
       "      <td>768.000000</td>\n",
       "      <td>768.000000</td>\n",
       "    </tr>\n",
       "    <tr>\n",
       "      <th>mean</th>\n",
       "      <td>0.554773</td>\n",
       "      <td>0.508798</td>\n",
       "      <td>0.546559</td>\n",
       "      <td>0.466678</td>\n",
       "      <td>0.401927</td>\n",
       "      <td>0.396213</td>\n",
       "      <td>0.494477</td>\n",
       "      <td>0.493205</td>\n",
       "      <td>0.477630</td>\n",
       "      <td>0.468465</td>\n",
       "      <td>...</td>\n",
       "      <td>0.440473</td>\n",
       "      <td>0.025094</td>\n",
       "      <td>0.453382</td>\n",
       "      <td>0.249605</td>\n",
       "      <td>0.387758</td>\n",
       "      <td>0.139125</td>\n",
       "      <td>0.368022</td>\n",
       "      <td>0.112800</td>\n",
       "      <td>0.034138</td>\n",
       "      <td>0.436528</td>\n",
       "    </tr>\n",
       "    <tr>\n",
       "      <th>std</th>\n",
       "      <td>0.095497</td>\n",
       "      <td>0.114504</td>\n",
       "      <td>0.101778</td>\n",
       "      <td>0.134376</td>\n",
       "      <td>0.109723</td>\n",
       "      <td>0.113059</td>\n",
       "      <td>0.093739</td>\n",
       "      <td>0.099233</td>\n",
       "      <td>0.101427</td>\n",
       "      <td>0.073374</td>\n",
       "      <td>...</td>\n",
       "      <td>0.220594</td>\n",
       "      <td>0.055567</td>\n",
       "      <td>0.210617</td>\n",
       "      <td>0.186610</td>\n",
       "      <td>0.211421</td>\n",
       "      <td>0.135400</td>\n",
       "      <td>0.211128</td>\n",
       "      <td>0.165543</td>\n",
       "      <td>0.073157</td>\n",
       "      <td>0.254916</td>\n",
       "    </tr>\n",
       "    <tr>\n",
       "      <th>min</th>\n",
       "      <td>0.000000</td>\n",
       "      <td>0.000000</td>\n",
       "      <td>0.000000</td>\n",
       "      <td>0.000000</td>\n",
       "      <td>0.000000</td>\n",
       "      <td>0.000000</td>\n",
       "      <td>0.000000</td>\n",
       "      <td>0.000000</td>\n",
       "      <td>0.000000</td>\n",
       "      <td>0.000000</td>\n",
       "      <td>...</td>\n",
       "      <td>0.000000</td>\n",
       "      <td>0.000000</td>\n",
       "      <td>0.000000</td>\n",
       "      <td>0.000000</td>\n",
       "      <td>0.000000</td>\n",
       "      <td>0.000000</td>\n",
       "      <td>0.000000</td>\n",
       "      <td>0.000000</td>\n",
       "      <td>0.000000</td>\n",
       "      <td>0.000000</td>\n",
       "    </tr>\n",
       "    <tr>\n",
       "      <th>25%</th>\n",
       "      <td>0.500000</td>\n",
       "      <td>0.428571</td>\n",
       "      <td>0.478214</td>\n",
       "      <td>0.357143</td>\n",
       "      <td>0.321429</td>\n",
       "      <td>0.304286</td>\n",
       "      <td>0.428571</td>\n",
       "      <td>0.428571</td>\n",
       "      <td>0.411429</td>\n",
       "      <td>0.428571</td>\n",
       "      <td>...</td>\n",
       "      <td>0.279375</td>\n",
       "      <td>0.000000</td>\n",
       "      <td>0.300000</td>\n",
       "      <td>0.109625</td>\n",
       "      <td>0.226350</td>\n",
       "      <td>0.037975</td>\n",
       "      <td>0.202400</td>\n",
       "      <td>0.000000</td>\n",
       "      <td>0.000000</td>\n",
       "      <td>0.222900</td>\n",
       "    </tr>\n",
       "    <tr>\n",
       "      <th>50%</th>\n",
       "      <td>0.554286</td>\n",
       "      <td>0.517143</td>\n",
       "      <td>0.554286</td>\n",
       "      <td>0.464286</td>\n",
       "      <td>0.411429</td>\n",
       "      <td>0.402143</td>\n",
       "      <td>0.482857</td>\n",
       "      <td>0.482857</td>\n",
       "      <td>0.464286</td>\n",
       "      <td>0.464286</td>\n",
       "      <td>...</td>\n",
       "      <td>0.427050</td>\n",
       "      <td>0.000000</td>\n",
       "      <td>0.435050</td>\n",
       "      <td>0.206400</td>\n",
       "      <td>0.356850</td>\n",
       "      <td>0.105800</td>\n",
       "      <td>0.352800</td>\n",
       "      <td>0.036200</td>\n",
       "      <td>0.000000</td>\n",
       "      <td>0.420750</td>\n",
       "    </tr>\n",
       "    <tr>\n",
       "      <th>75%</th>\n",
       "      <td>0.607143</td>\n",
       "      <td>0.588571</td>\n",
       "      <td>0.607143</td>\n",
       "      <td>0.571429</td>\n",
       "      <td>0.482857</td>\n",
       "      <td>0.482857</td>\n",
       "      <td>0.554286</td>\n",
       "      <td>0.571429</td>\n",
       "      <td>0.554286</td>\n",
       "      <td>0.517143</td>\n",
       "      <td>...</td>\n",
       "      <td>0.587625</td>\n",
       "      <td>0.027950</td>\n",
       "      <td>0.593150</td>\n",
       "      <td>0.346150</td>\n",
       "      <td>0.513000</td>\n",
       "      <td>0.200250</td>\n",
       "      <td>0.515100</td>\n",
       "      <td>0.162625</td>\n",
       "      <td>0.039100</td>\n",
       "      <td>0.631725</td>\n",
       "    </tr>\n",
       "    <tr>\n",
       "      <th>max</th>\n",
       "      <td>0.875714</td>\n",
       "      <td>0.840000</td>\n",
       "      <td>0.857143</td>\n",
       "      <td>0.804286</td>\n",
       "      <td>0.750000</td>\n",
       "      <td>0.785714</td>\n",
       "      <td>0.857143</td>\n",
       "      <td>0.785714</td>\n",
       "      <td>0.821429</td>\n",
       "      <td>0.732857</td>\n",
       "      <td>...</td>\n",
       "      <td>1.000000</td>\n",
       "      <td>0.569100</td>\n",
       "      <td>1.000000</td>\n",
       "      <td>1.000000</td>\n",
       "      <td>1.000000</td>\n",
       "      <td>0.880000</td>\n",
       "      <td>1.000000</td>\n",
       "      <td>0.858500</td>\n",
       "      <td>0.650000</td>\n",
       "      <td>0.991400</td>\n",
       "    </tr>\n",
       "  </tbody>\n",
       "</table>\n",
       "<p>8 rows × 230 columns</p>\n",
       "</div>"
      ],
      "text/plain": [
       "        Oral Comprehension   Written Comprehension   Oral Expression  \\\n",
       "count           768.000000              768.000000        768.000000   \n",
       "mean              0.554773                0.508798          0.546559   \n",
       "std               0.095497                0.114504          0.101778   \n",
       "min               0.000000                0.000000          0.000000   \n",
       "25%               0.500000                0.428571          0.478214   \n",
       "50%               0.554286                0.517143          0.554286   \n",
       "75%               0.607143                0.588571          0.607143   \n",
       "max               0.875714                0.840000          0.857143   \n",
       "\n",
       "        Written Expression   Fluency of Ideas   Originality  \\\n",
       "count           768.000000         768.000000    768.000000   \n",
       "mean              0.466678           0.401927      0.396213   \n",
       "std               0.134376           0.109723      0.113059   \n",
       "min               0.000000           0.000000      0.000000   \n",
       "25%               0.357143           0.321429      0.304286   \n",
       "50%               0.464286           0.411429      0.402143   \n",
       "75%               0.571429           0.482857      0.482857   \n",
       "max               0.804286           0.750000      0.785714   \n",
       "\n",
       "        Problem Sensitivity   Deductive Reasoning   Inductive Reasoning  \\\n",
       "count            768.000000            768.000000            768.000000   \n",
       "mean               0.494477              0.493205              0.477630   \n",
       "std                0.093739              0.099233              0.101427   \n",
       "min                0.000000              0.000000              0.000000   \n",
       "25%                0.428571              0.428571              0.411429   \n",
       "50%                0.482857              0.482857              0.464286   \n",
       "75%                0.554286              0.571429              0.554286   \n",
       "max                0.857143              0.785714              0.821429   \n",
       "\n",
       "        Information Ordering  ...   Freedom to Make Decisions  \\\n",
       "count             768.000000  ...                  768.000000   \n",
       "mean                0.468465  ...                    0.440473   \n",
       "std                 0.073374  ...                    0.220594   \n",
       "min                 0.000000  ...                    0.000000   \n",
       "25%                 0.428571  ...                    0.279375   \n",
       "50%                 0.464286  ...                    0.427050   \n",
       "75%                 0.517143  ...                    0.587625   \n",
       "max                 0.732857  ...                    1.000000   \n",
       "\n",
       "        Degree of Automation   Importance of Being Exact or Accurate  \\\n",
       "count             768.000000                              768.000000   \n",
       "mean                0.025094                                0.453382   \n",
       "std                 0.055567                                0.210617   \n",
       "min                 0.000000                                0.000000   \n",
       "25%                 0.000000                                0.300000   \n",
       "50%                 0.000000                                0.435050   \n",
       "75%                 0.027950                                0.593150   \n",
       "max                 0.569100                                1.000000   \n",
       "\n",
       "        Importance of Repeating Same Tasks  \\\n",
       "count                           768.000000   \n",
       "mean                              0.249605   \n",
       "std                               0.186610   \n",
       "min                               0.000000   \n",
       "25%                               0.109625   \n",
       "50%                               0.206400   \n",
       "75%                               0.346150   \n",
       "max                               1.000000   \n",
       "\n",
       "        Structured versus Unstructured Work   Level of Competition  \\\n",
       "count                            768.000000             768.000000   \n",
       "mean                               0.387758               0.139125   \n",
       "std                                0.211421               0.135400   \n",
       "min                                0.000000               0.000000   \n",
       "25%                                0.226350               0.037975   \n",
       "50%                                0.356850               0.105800   \n",
       "75%                                0.513000               0.200250   \n",
       "max                                1.000000               0.880000   \n",
       "\n",
       "        Time Pressure   Pace Determined by Speed of Equipment  \\\n",
       "count      768.000000                              768.000000   \n",
       "mean         0.368022                                0.112800   \n",
       "std          0.211128                                0.165543   \n",
       "min          0.000000                                0.000000   \n",
       "25%          0.202400                                0.000000   \n",
       "50%          0.352800                                0.036200   \n",
       "75%          0.515100                                0.162625   \n",
       "max          1.000000                                0.858500   \n",
       "\n",
       "        Work Schedules   Duration of Typical Work Week  \n",
       "count       768.000000                      768.000000  \n",
       "mean          0.034138                        0.436528  \n",
       "std           0.073157                        0.254916  \n",
       "min           0.000000                        0.000000  \n",
       "25%           0.000000                        0.222900  \n",
       "50%           0.000000                        0.420750  \n",
       "75%           0.039100                        0.631725  \n",
       "max           0.650000                        0.991400  \n",
       "\n",
       "[8 rows x 230 columns]"
      ]
     },
     "execution_count": 73,
     "metadata": {},
     "output_type": "execute_result"
    }
   ],
   "source": [
    "df.describe()"
   ]
  },
  {
   "cell_type": "code",
   "execution_count": 82,
   "id": "bdf1ade7-4fca-43e6-8123-b5e40f60dd08",
   "metadata": {},
   "outputs": [
    {
     "data": {
      "text/plain": [
       " Required Level of Education                         0.108073\n",
       " On-Site or In-Plant Training                        0.167969\n",
       " On-the-Job Training                                 0.183594\n",
       " Spend Time Climbing Ladders, Scaffolds, or Poles    0.203125\n",
       " Exposed to Whole Body Vibration                     0.279948\n",
       "                                                       ...   \n",
       " Updating and Using Relevant Knowledge               0.996094\n",
       " Thinking Creatively                                 0.996094\n",
       " Analyzing Data or Information                       0.996094\n",
       " Oral Comprehension                                  0.996094\n",
       " First Interest High-Point                           1.000000\n",
       "Length: 230, dtype: float64"
      ]
     },
     "execution_count": 82,
     "metadata": {},
     "output_type": "execute_result"
    }
   ],
   "source": [
    "(df.iloc[:,2:] > 0.001).sum().sort_values()/df.shape[0]"
   ]
  },
  {
   "cell_type": "code",
   "execution_count": 267,
   "id": "2c6f9b7e-879b-467b-ac2f-1056d06e04e0",
   "metadata": {},
   "outputs": [
    {
     "name": "stdout",
     "output_type": "stream",
     "text": [
      "0 :  Oral Comprehension - 0.55\n",
      "1 :  Written Comprehension - 0.51\n",
      "2 :  Oral Expression - 0.55\n",
      "3 :  Written Expression - 0.47\n",
      "4 :  Fluency of Ideas - 0.40\n",
      "5 :  Originality - 0.40\n",
      "6 :  Problem Sensitivity - 0.49\n",
      "7 :  Deductive Reasoning - 0.49\n",
      "8 :  Inductive Reasoning - 0.48\n",
      "9 :  Information Ordering - 0.47\n",
      "10 :  Category Flexibility - 0.45\n",
      "11 :  Mathematical Reasoning - 0.33\n",
      "12 :  Number Facility - 0.34\n",
      "13 :  Memorization - 0.32\n",
      "14 :  Speed of Closure - 0.34\n",
      "15 :  Flexibility of Closure - 0.40\n",
      "16 :  Perceptual Speed - 0.38\n",
      "17 :  Spatial Orientation - 0.12\n",
      "18 :  Visualization - 0.40\n",
      "19 :  Selective Attention - 0.42\n",
      "20 :  Time Sharing - 0.36\n",
      "21 :  Arm-Hand Steadiness - 0.32\n",
      "22 :  Manual Dexterity - 0.30\n",
      "23 :  Finger Dexterity - 0.38\n",
      "24 :  Control Precision - 0.32\n",
      "25 :  Multilimb Coordination - 0.28\n",
      "26 :  Response Orientation - 0.20\n",
      "27 :  Rate Control - 0.17\n",
      "28 :  Reaction Time - 0.23\n",
      "29 :  Wrist-Finger Speed - 0.16\n",
      "30 :  Speed of Limb Movement - 0.15\n",
      "31 :  Static Strength - 0.25\n",
      "32 :  Explosive Strength - 0.05\n",
      "33 :  Dynamic Strength - 0.17\n",
      "34 :  Trunk Strength - 0.29\n",
      "35 :  Stamina - 0.19\n",
      "36 :  Extent Flexibility - 0.24\n",
      "37 :  Dynamic Flexibility - 0.02\n",
      "38 :  Gross Body Coordination - 0.19\n",
      "39 :  Gross Body Equilibrium - 0.15\n",
      "40 :  Near Vision - 0.51\n",
      "41 :  Far Vision - 0.41\n",
      "42 :  Visual Color Discrimination - 0.35\n",
      "43 :  Night Vision - 0.08\n",
      "44 :  Peripheral Vision - 0.09\n",
      "45 :  Depth Perception - 0.27\n",
      "46 :  Glare Sensitivity - 0.11\n",
      "47 :  Hearing Sensitivity - 0.29\n",
      "48 :  Auditory Attention - 0.32\n",
      "49 :  Sound Localization - 0.09\n",
      "50 :  Speech Recognition - 0.46\n",
      "51 :  Speech Clarity - 0.46\n",
      "52 :  Required Level of Education - 0.02\n",
      "53 :  Related Work Experience - 0.04\n",
      "54 :  On-Site or In-Plant Training - 0.01\n",
      "55 :  On-the-Job Training - 0.01\n",
      "56 :  Realistic - 0.64\n",
      "57 :  Investigative - 0.37\n",
      "58 :  Artistic - 0.19\n",
      "59 :  Social - 0.32\n",
      "60 :  Enterprising - 0.40\n",
      "61 :  Conventional - 0.52\n",
      "62 :  First Interest High-Point - 0.47\n",
      "63 :  Second Interest High-Point - 0.64\n",
      "64 :  Third Interest High-Point - 0.32\n",
      "65 :  Administration and Management - 0.43\n",
      "66 :  Clerical - 0.40\n",
      "67 :  Economics and Accounting - 0.23\n",
      "68 :  Sales and Marketing - 0.29\n",
      "69 :  Customer and Personal Service - 0.54\n",
      "70 :  Personnel and Human Resources - 0.31\n",
      "71 :  Production and Processing - 0.31\n",
      "72 :  Food Production - 0.08\n",
      "73 :  Computers and Electronics - 0.45\n",
      "74 :  Engineering and Technology - 0.30\n",
      "75 :  Design - 0.27\n",
      "76 :  Building and Construction - 0.20\n",
      "77 :  Mechanical - 0.33\n",
      "78 :  Mathematics - 0.35\n",
      "79 :  Physics - 0.23\n",
      "80 :  Chemistry - 0.26\n",
      "81 :  Biology - 0.18\n",
      "82 :  Psychology - 0.34\n",
      "83 :  Sociology and Anthropology - 0.22\n",
      "84 :  Geography - 0.22\n",
      "85 :  Medicine and Dentistry - 0.17\n",
      "86 :  Therapy and Counseling - 0.19\n",
      "87 :  Education and Training - 0.49\n",
      "88 :  English Language - 0.51\n",
      "89 :  Foreign Language - 0.14\n",
      "90 :  Fine Arts - 0.09\n",
      "91 :  History and Archeology - 0.13\n",
      "92 :  Philosophy and Theology - 0.18\n",
      "93 :  Public Safety and Security - 0.35\n",
      "94 :  Law and Government - 0.31\n",
      "95 :  Telecommunications - 0.20\n",
      "96 :  Communications and Media - 0.30\n",
      "97 :  Transportation - 0.25\n",
      "98 :  Reading Comprehension - 0.50\n",
      "99 :  Active Listening - 0.49\n",
      "100 :  Writing - 0.45\n",
      "101 :  Speaking - 0.48\n",
      "102 :  Science - 0.20\n",
      "103 :  Critical Thinking - 0.50\n",
      "104 :  Active Learning - 0.44\n",
      "105 :  Learning Strategies - 0.39\n",
      "106 :  Monitoring - 0.47\n",
      "107 :  Social Perceptiveness - 0.43\n",
      "108 :  Coordination - 0.44\n",
      "109 :  Persuasion - 0.39\n",
      "110 :  Negotiation - 0.36\n",
      "111 :  Instructing - 0.41\n",
      "112 :  Service Orientation - 0.40\n",
      "113 :  Complex Problem Solving - 0.44\n",
      "114 :  Operations Analysis - 0.25\n",
      "115 :  Technology Design - 0.13\n",
      "116 :  Equipment Selection - 0.16\n",
      "117 :  Installation - 0.05\n",
      "118 :  Programming - 0.10\n",
      "119 :  Operation Monitoring - 0.32\n",
      "120 :  Operation and Control - 0.26\n",
      "121 :  Equipment Maintenance - 0.16\n",
      "122 :  Troubleshooting - 0.22\n",
      "123 :  Repairing - 0.15\n",
      "124 :  Quality Control Analysis - 0.31\n",
      "125 :  Judgment and Decision Making - 0.44\n",
      "126 :  Systems Analysis - 0.35\n",
      "127 :  Systems Evaluation - 0.35\n",
      "128 :  Time Management - 0.43\n",
      "129 :  Management of Financial Resources - 0.18\n",
      "130 :  Management of Material Resources - 0.20\n",
      "131 :  Management of Personnel Resources - 0.36\n",
      "132 :  Getting Information - 0.57\n",
      "133 :  Monitor Processes, Materials, or Surroundings - 0.56\n",
      "134 :  Identifying Objects, Actions, and Events - 0.57\n",
      "135 :  Inspecting Equipment, Structures, or Material - 0.42\n",
      "136 :  Estimating the Quantifiable Characteristics of Products, Events, or Information - 0.41\n",
      "137 :  Judging the Qualities of Things, Services, or People - 0.50\n",
      "138 :  Processing Information - 0.55\n",
      "139 :  Evaluating Information to Determine Compliance with Standards - 0.49\n",
      "140 :  Analyzing Data or Information - 0.49\n",
      "141 :  Making Decisions and Solving Problems - 0.60\n",
      "142 :  Thinking Creatively - 0.53\n",
      "143 :  Updating and Using Relevant Knowledge - 0.62\n",
      "144 :  Developing Objectives and Strategies - 0.42\n",
      "145 :  Scheduling Work and Activities - 0.47\n",
      "146 :  Organizing, Planning, and Prioritizing Work - 0.61\n",
      "147 :  Performing General Physical Activities - 0.44\n",
      "148 :  Handling and Moving Objects - 0.52\n",
      "149 :  Controlling Machines and Processes - 0.40\n",
      "150 :  Operating Vehicles, Mechanized Devices, or Equipment - 0.26\n",
      "151 :  Interacting With Computers - 0.41\n",
      "152 :  Drafting, Laying Out, and Specifying Technical Devices, Parts, and Equipment - 0.24\n",
      "153 :  Repairing and Maintaining Mechanical Equipment - 0.29\n",
      "154 :  Repairing and Maintaining Electronic Equipment - 0.25\n",
      "155 :  Documenting/Recording Information - 0.47\n",
      "156 :  Interpreting the Meaning of Information for Others - 0.44\n",
      "157 :  Communicating with Supervisors, Peers, or Subordinates - 0.60\n",
      "158 :  Communicating with Persons Outside Organization - 0.49\n",
      "159 :  Establishing and Maintaining Interpersonal Relationships - 0.63\n",
      "160 :  Assisting and Caring for Others - 0.41\n",
      "161 :  Selling or Influencing Others - 0.34\n",
      "162 :  Resolving Conflicts and Negotiating with Others - 0.46\n",
      "163 :  Performing for or Working Directly with the Public - 0.43\n",
      "164 :  Coordinating the Work and Activities of Others - 0.48\n",
      "165 :  Developing and Building Teams - 0.39\n",
      "166 :  Training and Teaching Others - 0.48\n",
      "167 :  Guiding, Directing, and Motivating Subordinates - 0.40\n",
      "168 :  Coaching and Developing Others - 0.46\n",
      "169 :  Provide Consultation and Advice to Others - 0.43\n",
      "170 :  Performing Administrative Activities - 0.38\n",
      "171 :  Staffing Organizational Units - 0.25\n",
      "172 :  Monitoring and Controlling Resources - 0.37\n",
      "173 :  Public Speaking - 0.08\n",
      "174 :  Telephone - 0.59\n",
      "175 :  Electronic Mail - 0.51\n",
      "176 :  Letters and Memos - 0.21\n",
      "177 :  Face-to-Face Discussions - 0.73\n",
      "178 :  Contact With Others - 0.60\n",
      "179 :  Work With Work Group or Team - 0.48\n",
      "180 :  Deal With External Customers - 0.33\n",
      "181 :  Coordinate or Lead Others - 0.26\n",
      "182 :  Responsible for Others' Health and Safety - 0.25\n",
      "183 :  Responsibility for Outcomes and Results - 0.22\n",
      "184 :  Frequency of Conflict Situations - 0.12\n",
      "185 :  Deal With Unpleasant or Angry People - 0.13\n",
      "186 :  Deal With Physically Aggressive People - 0.02\n",
      "187 :  Indoors, Environmentally Controlled - 0.61\n",
      "188 :  Indoors, Not Environmentally Controlled - 0.19\n",
      "189 :  Outdoors, Exposed to Weather - 0.18\n",
      "190 :  Outdoors, Under Cover - 0.07\n",
      "191 :  In an Open Vehicle or Equipment - 0.07\n",
      "192 :  In an Enclosed Vehicle or Equipment - 0.16\n",
      "193 :  Physical Proximity - 0.21\n",
      "194 :  Sounds, Noise Levels Are Distracting or Uncomfortable - 0.31\n",
      "195 :  Very Hot or Cold Temperatures - 0.15\n",
      "196 :  Extremely Bright or Inadequate Lighting - 0.14\n",
      "197 :  Exposed to Contaminants - 0.30\n",
      "198 :  Cramped Work Space, Awkward Positions - 0.09\n",
      "199 :  Exposed to Whole Body Vibration - 0.04\n",
      "200 :  Exposed to Radiation - 0.03\n",
      "201 :  Exposed to Disease or Infections - 0.12\n",
      "202 :  Exposed to High Places - 0.06\n",
      "203 :  Exposed to Hazardous Conditions - 0.15\n",
      "204 :  Exposed to Hazardous Equipment - 0.20\n",
      "205 :  Exposed to Minor Burns, Cuts, Bites, or Stings - 0.15\n",
      "206 :  Spend Time Sitting - 0.19\n",
      "207 :  Spend Time Standing - 0.22\n",
      "208 :  Spend Time Climbing Ladders, Scaffolds, or Poles - 0.02\n",
      "209 :  Spend Time Walking and Running - 0.12\n",
      "210 :  Spend Time Kneeling, Crouching, Stooping, or Crawling - 0.04\n",
      "211 :  Spend Time Keeping or Regaining Balance - 0.04\n",
      "212 :  Spend Time Using Your Hands to Handle, Control, or Feel Objects, Tools, or Controls - 0.40\n",
      "213 :  Spend Time Bending or Twisting the Body - 0.12\n",
      "214 :  Spend Time Making Repetitive Motions - 0.24\n",
      "215 :  Wear Common Protective or Safety Equipment such as Safety Shoes, Glasses, Gloves, Hearing Protection, Hard Hats, or Life Jackets - 0.37\n",
      "216 :  Wear Specialized Protective or Safety Equipment such as Breathing Apparatus, Safety Harness, Full Protection Suits, or Radiation Protection - 0.07\n",
      "217 :  Consequence of Error - 0.24\n",
      "218 :  Impact of Decisions on Co-workers or Company Results - 0.36\n",
      "219 :  Frequency of Decision Making - 0.49\n",
      "220 :  Freedom to Make Decisions - 0.44\n",
      "221 :  Degree of Automation - 0.03\n",
      "222 :  Importance of Being Exact or Accurate - 0.45\n",
      "223 :  Importance of Repeating Same Tasks - 0.25\n",
      "224 :  Structured versus Unstructured Work - 0.39\n",
      "225 :  Level of Competition - 0.14\n",
      "226 :  Time Pressure - 0.37\n",
      "227 :  Pace Determined by Speed of Equipment - 0.11\n",
      "228 :  Work Schedules - 0.03\n",
      "229 :  Duration of Typical Work Week - 0.44\n"
     ]
    },
    {
     "data": {
      "image/png": "[encoded data removed]",
      "text/plain": [
       "<Figure size 432x288 with 1 Axes>"
      ]
     },
     "metadata": {
      "needs_background": "light"
     },
     "output_type": "display_data"
    }
   ],
   "source": [
    "for n,col in enumerate(df.columns[2:]):\n",
    "    print('{:d} : {:s} - {:.2f}'.format(n,col,df[col].mean()))\n",
    "    \n",
    "    sns.kdeplot(df[col])"
   ]
  },
  {
   "cell_type": "markdown",
   "id": "1fc333ff-6f81-49dc-a821-6effd8b23acc",
   "metadata": {},
   "source": [
    "## Make the VAE"
   ]
  },
  {
   "cell_type": "code",
   "execution_count": 2,
   "id": "98a3bd1a-a9fb-4e83-90fa-d4cff417b6e3",
   "metadata": {},
   "outputs": [],
   "source": [
    "import tensorflow\n"
   ]
  },
  {
   "cell_type": "code",
   "execution_count": 29,
   "id": "a15bc7fd-d9ab-4be9-ad1b-ceefa20c9dc6",
   "metadata": {},
   "outputs": [
    {
     "data": {
      "text/plain": [
       "<tf.Tensor 'Const_9:0' shape=(230, 768) dtype=float64>"
      ]
     },
     "execution_count": 29,
     "metadata": {},
     "output_type": "execute_result"
    }
   ],
   "source": [
    "tensorflow.convert_to_tensor(df.iloc[:,2:].values.T.astype(float))"
   ]
  },
  {
   "cell_type": "code",
   "execution_count": 30,
   "id": "cb70ff53-3687-4615-874e-250e759c96e6",
   "metadata": {},
   "outputs": [
    {
     "data": {
      "text/plain": [
       "<tf.Tensor 'Const_10:0' shape=(230, 1) dtype=float64>"
      ]
     },
     "execution_count": 30,
     "metadata": {},
     "output_type": "execute_result"
    }
   ],
   "source": [
    "tensorflow.convert_to_tensor(df.iloc[1:2,2:].values.T.astype(float))"
   ]
  },
  {
   "cell_type": "code",
   "execution_count": 31,
   "id": "9bc01c79-10c4-4d1d-a6ac-dc5e36fc164b",
   "metadata": {},
   "outputs": [
    {
     "data": {
      "text/plain": [
       "<tf.Tensor 'Const_11:0' shape=(230,) dtype=float64>"
      ]
     },
     "execution_count": 31,
     "metadata": {},
     "output_type": "execute_result"
    }
   ],
   "source": [
    "tensorflow.convert_to_tensor(df.iloc[1,2:].values.T.astype(float))"
   ]
  },
  {
   "cell_type": "code",
   "execution_count": 32,
   "id": "279340b1-b1c4-4687-ac39-5fcc5560695f",
   "metadata": {},
   "outputs": [],
   "source": [
    "input_data = tensorflow.keras.layers.Input(shape=(230, ))\n",
    "# 230 skills/features"
   ]
  },
  {
   "cell_type": "code",
   "execution_count": 228,
   "id": "37c47c7e-b921-475f-95ee-1341d16b9a34",
   "metadata": {},
   "outputs": [],
   "source": [
    "nLatent = 5"
   ]
  },
  {
   "cell_type": "code",
   "execution_count": 229,
   "id": "44aad4d7-96e0-4714-bcf0-44c24be16746",
   "metadata": {},
   "outputs": [],
   "source": [
    "encoder = tensorflow.keras.layers.Dense(nLatent)(input_data)\n",
    "# Single layer for now"
   ]
  },
  {
   "cell_type": "code",
   "execution_count": 230,
   "id": "666b254c-4370-4563-9c77-e4e5a95e1059",
   "metadata": {},
   "outputs": [],
   "source": [
    "def sample_latent_features(distribution):\n",
    "    \n",
    "    distribution_mean, distribution_variance = distribution\n",
    "    \n",
    "    batch_size = tensorflow.shape(distribution_variance)[0]\n",
    "    \n",
    "    random = tensorflow.keras.backend.random_normal(shape=(batch_size, tensorflow.shape(distribution_variance)[1]))\n",
    "    \n",
    "    return distribution_mean + tensorflow.exp(0.5 * distribution_variance) * random"
   ]
  },
  {
   "cell_type": "code",
   "execution_count": 231,
   "id": "3ac511b7-d67d-4039-83af-f57b8b68035b",
   "metadata": {},
   "outputs": [],
   "source": [
    "distribution_mean = tensorflow.keras.layers.Dense(nLatent, name='mean')(encoder)\n",
    "distribution_variance = tensorflow.keras.layers.Dense(nLatent, name='log_variance')(encoder)\n",
    "latent_encoding = tensorflow.keras.layers.Lambda(sample_latent_features)([distribution_mean, distribution_variance])"
   ]
  },
  {
   "cell_type": "code",
   "execution_count": 232,
   "id": "c0832068-1e53-46ab-aec3-f3a1e280ca22",
   "metadata": {},
   "outputs": [
    {
     "name": "stdout",
     "output_type": "stream",
     "text": [
      "Model: \"model_5\"\n",
      "__________________________________________________________________________________________________\n",
      "Layer (type)                    Output Shape         Param #     Connected to                     \n",
      "==================================================================================================\n",
      "input_3 (InputLayer)            [(None, 230)]        0                                            \n",
      "__________________________________________________________________________________________________\n",
      "dense_5 (Dense)                 (None, 5)            1155        input_3[0][0]                    \n",
      "__________________________________________________________________________________________________\n",
      "mean (Dense)                    (None, 5)            30          dense_5[0][0]                    \n",
      "__________________________________________________________________________________________________\n",
      "log_variance (Dense)            (None, 5)            30          dense_5[0][0]                    \n",
      "__________________________________________________________________________________________________\n",
      "lambda_3 (Lambda)               (None, 5)            0           mean[0][0]                       \n",
      "                                                                 log_variance[0][0]               \n",
      "==================================================================================================\n",
      "Total params: 1,215\n",
      "Trainable params: 1,215\n",
      "Non-trainable params: 0\n",
      "__________________________________________________________________________________________________\n"
     ]
    }
   ],
   "source": [
    "encoder_model = tensorflow.keras.Model(input_data, latent_encoding)\n",
    "encoder_model.summary()"
   ]
  },
  {
   "cell_type": "markdown",
   "id": "1c7fe636-8374-41a0-af46-f513f5af3d7f",
   "metadata": {},
   "source": [
    "## Try calling the model"
   ]
  },
  {
   "cell_type": "code",
   "execution_count": 233,
   "id": "ef5afa2c-bac3-49ad-8dc6-53422f4b7c16",
   "metadata": {},
   "outputs": [],
   "source": [
    "out = encoder_model.call(tensorflow.convert_to_tensor(df.iloc[:,2:].values.astype(float)))"
   ]
  },
  {
   "cell_type": "markdown",
   "id": "140b0b66-3cac-4279-8cc8-b43b275f217a",
   "metadata": {},
   "source": [
    "## Decoder Layer"
   ]
  },
  {
   "cell_type": "code",
   "execution_count": 234,
   "id": "a001a349-63cc-4a2c-8b70-0a518ca02b13",
   "metadata": {},
   "outputs": [],
   "source": [
    "decoder_input = tensorflow.keras.layers.Input(shape=(nLatent))"
   ]
  },
  {
   "cell_type": "code",
   "execution_count": 235,
   "id": "e22b2ac1-72d5-4d47-a535-5b02a7d8e293",
   "metadata": {},
   "outputs": [],
   "source": [
    "decoder_output = tensorflow.keras.layers.Dense(230)(decoder_input)"
   ]
  },
  {
   "cell_type": "code",
   "execution_count": 236,
   "id": "56e5e1aa-5b33-43b3-a462-d86e99325805",
   "metadata": {},
   "outputs": [],
   "source": [
    "decoder_model = tensorflow.keras.Model(decoder_input, decoder_output)"
   ]
  },
  {
   "cell_type": "code",
   "execution_count": 237,
   "id": "a7363694-f991-4429-969c-ac6cb2cbd1ea",
   "metadata": {},
   "outputs": [
    {
     "name": "stdout",
     "output_type": "stream",
     "text": [
      "Model: \"model_6\"\n",
      "_________________________________________________________________\n",
      "Layer (type)                 Output Shape              Param #   \n",
      "=================================================================\n",
      "input_5 (InputLayer)         [(None, 5)]               0         \n",
      "_________________________________________________________________\n",
      "dense_6 (Dense)              (None, 230)               1380      \n",
      "=================================================================\n",
      "Total params: 1,380\n",
      "Trainable params: 1,380\n",
      "Non-trainable params: 0\n",
      "_________________________________________________________________\n"
     ]
    }
   ],
   "source": [
    "decoder_model.summary()"
   ]
  },
  {
   "cell_type": "markdown",
   "id": "2150e071-cd88-49f3-96e2-dbe16565ef6e",
   "metadata": {},
   "source": [
    "## Combine"
   ]
  },
  {
   "cell_type": "code",
   "execution_count": 238,
   "id": "9f8bd6b6-6bb0-4e91-bfb6-fbbc319165e4",
   "metadata": {},
   "outputs": [
    {
     "name": "stdout",
     "output_type": "stream",
     "text": [
      "Model: \"model_7\"\n",
      "_________________________________________________________________\n",
      "Layer (type)                 Output Shape              Param #   \n",
      "=================================================================\n",
      "input_3 (InputLayer)         [(None, 230)]             0         \n",
      "_________________________________________________________________\n",
      "model_5 (Model)              (None, 5)                 1215      \n",
      "_________________________________________________________________\n",
      "model_6 (Model)              (None, 230)               1380      \n",
      "=================================================================\n",
      "Total params: 2,595\n",
      "Trainable params: 2,595\n",
      "Non-trainable params: 0\n",
      "_________________________________________________________________\n"
     ]
    }
   ],
   "source": [
    "encoded = encoder_model(input_data)\n",
    "decoded = decoder_model(encoded)\n",
    "autoencoder = tensorflow.keras.models.Model(input_data, decoded)\n",
    "autoencoder.summary()"
   ]
  },
  {
   "cell_type": "markdown",
   "id": "f46abab3-f4ea-4ae2-a779-bc0a0628aa7c",
   "metadata": {},
   "source": [
    "## Make a loss function"
   ]
  },
  {
   "cell_type": "code",
   "execution_count": 239,
   "id": "0705b459-a832-426f-87c6-3ee5623da0ad",
   "metadata": {},
   "outputs": [],
   "source": [
    "def get_loss(dist_mean,dist_var):\n",
    "    def get_reconstruction_loss(y_true,y_pred):\n",
    "        reconstruction_loss = tensorflow.keras.losses.mse(y_true,y_pred)\n",
    "        reconstruction_loss_batch = tensorflow.reduce_mean(reconstruction_loss)\n",
    "        return reconstruction_loss_batch*230 # Think this refers to size of input???\n",
    "    \n",
    "    def get_kl_loss(dist_mean,dist_var):\n",
    "        kl_loss = 1 + dist_var - tensorflow.square(dist_mean) -tensorflow.exp(dist_var)\n",
    "        kl_loss_batch = tensorflow.reduce_mean(kl_loss)\n",
    "        return kl_loss_batch*(-0.5)\n",
    "    \n",
    "    def total_loss(y_true,y_pred):\n",
    "        reconstruction_loss_batch = get_reconstruction_loss(y_true,y_pred)\n",
    "        kl_loss_batch = get_kl_loss(dist_mean,dist_var)\n",
    "        return reconstruction_loss_batch + kl_loss_batch\n",
    "    return total_loss"
   ]
  },
  {
   "cell_type": "code",
   "execution_count": 240,
   "id": "49accf23-9a5c-4c11-96de-5517673df6f5",
   "metadata": {},
   "outputs": [],
   "source": [
    "autoencoder.compile(loss=get_loss(distribution_mean, distribution_variance), optimizer='adam')"
   ]
  },
  {
   "cell_type": "code",
   "execution_count": 241,
   "id": "4a27fd26-f877-4466-bb5c-a735f8d8458a",
   "metadata": {},
   "outputs": [],
   "source": [
    "train_data = tensorflow.convert_to_tensor(df.iloc[0:700,2:].values.astype(float))"
   ]
  },
  {
   "cell_type": "code",
   "execution_count": 242,
   "id": "bdde76f2-68ca-47d8-851f-93479a48262a",
   "metadata": {},
   "outputs": [],
   "source": [
    "test_data = tensorflow.convert_to_tensor(df.iloc[701:,2:].values.astype(float))"
   ]
  },
  {
   "cell_type": "code",
   "execution_count": 243,
   "id": "d1b4b60b-5097-4c6e-8be0-76f01f59083a",
   "metadata": {},
   "outputs": [
    {
     "name": "stdout",
     "output_type": "stream",
     "text": [
      "Train on 100 samples, validate on 67 samples\n",
      "Epoch 1/20\n",
      "100/100 [==============================] - 1s 9ms/step - loss: 23.2238 - val_loss: 8.8383\n",
      "Epoch 2/20\n",
      "100/100 [==============================] - 0s 2ms/step - loss: 8.4170 - val_loss: 7.7895\n",
      "Epoch 3/20\n",
      "100/100 [==============================] - 0s 2ms/step - loss: 7.4148 - val_loss: 6.6479\n",
      "Epoch 4/20\n",
      "100/100 [==============================] - 0s 2ms/step - loss: 6.4077 - val_loss: 6.0515\n",
      "Epoch 5/20\n",
      "100/100 [==============================] - 0s 2ms/step - loss: 6.0403 - val_loss: 5.8694\n",
      "Epoch 6/20\n",
      "100/100 [==============================] - 0s 2ms/step - loss: 5.8933 - val_loss: 5.7512\n",
      "Epoch 7/20\n",
      "100/100 [==============================] - 0s 2ms/step - loss: 5.7755 - val_loss: 5.6042\n",
      "Epoch 8/20\n",
      "100/100 [==============================] - 0s 2ms/step - loss: 5.6676 - val_loss: 5.5502\n",
      "Epoch 9/20\n",
      "100/100 [==============================] - 0s 2ms/step - loss: 5.5944 - val_loss: 5.4646\n",
      "Epoch 10/20\n",
      "100/100 [==============================] - 0s 2ms/step - loss: 5.5428 - val_loss: 5.4057\n",
      "Epoch 11/20\n",
      "100/100 [==============================] - 0s 2ms/step - loss: 5.4814 - val_loss: 5.3521\n",
      "Epoch 12/20\n",
      "100/100 [==============================] - 0s 2ms/step - loss: 5.3894 - val_loss: 5.2524\n",
      "Epoch 13/20\n",
      "100/100 [==============================] - 0s 2ms/step - loss: 5.1819 - val_loss: 5.0279\n",
      "Epoch 14/20\n",
      "100/100 [==============================] - 0s 2ms/step - loss: 4.9940 - val_loss: 4.9345\n",
      "Epoch 15/20\n",
      "100/100 [==============================] - 0s 2ms/step - loss: 4.9075 - val_loss: 4.8305\n",
      "Epoch 16/20\n",
      "100/100 [==============================] - 0s 2ms/step - loss: 4.8266 - val_loss: 4.7392\n",
      "Epoch 17/20\n",
      "100/100 [==============================] - 0s 2ms/step - loss: 4.7444 - val_loss: 4.6633\n",
      "Epoch 18/20\n",
      "100/100 [==============================] - 0s 2ms/step - loss: 4.6638 - val_loss: 4.5978\n",
      "Epoch 19/20\n",
      "100/100 [==============================] - 0s 2ms/step - loss: 4.6010 - val_loss: 4.5354\n",
      "Epoch 20/20\n",
      "100/100 [==============================] - 0s 2ms/step - loss: 4.5578 - val_loss: 4.4844\n"
     ]
    },
    {
     "data": {
      "text/plain": [
       "<tensorflow.python.keras.callbacks.History at 0x7f8dce824f10>"
      ]
     },
     "execution_count": 243,
     "metadata": {},
     "output_type": "execute_result"
    }
   ],
   "source": [
    "autoencoder.fit(train_data, train_data, epochs=20, batch_size=64, validation_data=(test_data, test_data),steps_per_epoch=100,\\\n",
    "                validation_steps=30)\n"
   ]
  },
  {
   "cell_type": "code",
   "execution_count": 244,
   "id": "c56d8641-b095-458d-9791-6f9ee9db2f39",
   "metadata": {},
   "outputs": [],
   "source": [
    "trial_data = df.sample(n = 2).iloc[:,2:]"
   ]
  },
  {
   "cell_type": "code",
   "execution_count": 245,
   "id": "ff0dc0e8-87e7-4da5-b53d-6f0dc050dca6",
   "metadata": {},
   "outputs": [
    {
     "data": {
      "text/plain": [
       "(2, 230)"
      ]
     },
     "execution_count": 245,
     "metadata": {},
     "output_type": "execute_result"
    }
   ],
   "source": [
    "trial_data.shape"
   ]
  },
  {
   "cell_type": "code",
   "execution_count": 274,
   "id": "5cf4cdee-1dad-4f41-8d50-a9737d19e176",
   "metadata": {},
   "outputs": [],
   "source": [
    "trial_data = df.iloc[4:6,2:].values.astype(float)"
   ]
  },
  {
   "cell_type": "code",
   "execution_count": 247,
   "id": "0dc28c95-5a9c-4345-9ed1-59996a6b6393",
   "metadata": {},
   "outputs": [
    {
     "data": {
      "text/plain": [
       "(2, 230)"
      ]
     },
     "execution_count": 247,
     "metadata": {},
     "output_type": "execute_result"
    }
   ],
   "source": [
    "trial_data.shape"
   ]
  },
  {
   "cell_type": "markdown",
   "id": "d3369d6d-407b-472e-912b-095e51418ef5",
   "metadata": {},
   "source": [
    "## Convert DF slice to TF"
   ]
  },
  {
   "cell_type": "code",
   "execution_count": 280,
   "id": "a2d5e9b5-d803-4f95-88ad-6cd9cf4908f9",
   "metadata": {},
   "outputs": [],
   "source": [
    "trial_data_tf = tensorflow.convert_to_tensor(trial_data)"
   ]
  },
  {
   "cell_type": "code",
   "execution_count": 281,
   "id": "073385e3-5170-433e-bcf0-b78fb840d6c8",
   "metadata": {},
   "outputs": [],
   "source": [
    "output = autoencoder.predict(trial_data_tf,steps=10)"
   ]
  },
  {
   "cell_type": "code",
   "execution_count": 282,
   "id": "5cf5f0e7-dadf-4785-9700-02debe2e8ead",
   "metadata": {},
   "outputs": [
    {
     "data": {
      "text/plain": [
       "Text(0.5, 1.0, 'Encoded & Decoded Original')"
      ]
     },
     "execution_count": 282,
     "metadata": {},
     "output_type": "execute_result"
    },
    {
     "data": {
      "image/png": "[encoded data removed]",
      "text/plain": [
       "<Figure size 432x288 with 1 Axes>"
      ]
     },
     "metadata": {
      "needs_background": "light"
     },
     "output_type": "display_data"
    }
   ],
   "source": [
    "plt.bar(range(len(output[0])),output[0])\n",
    "plt.title('Encoded & Decoded Original')"
   ]
  },
  {
   "cell_type": "code",
   "execution_count": 283,
   "id": "4d38ae1f-8ac5-4f8e-b520-023d77fecc69",
   "metadata": {},
   "outputs": [
    {
     "data": {
      "text/plain": [
       "Text(0.5, 1.0, 'Original')"
      ]
     },
     "execution_count": 283,
     "metadata": {},
     "output_type": "execute_result"
    },
    {
     "data": {
      "image/png": "[encoded data removed]",
      "text/plain": [
       "<Figure size 432x288 with 1 Axes>"
      ]
     },
     "metadata": {
      "needs_background": "light"
     },
     "output_type": "display_data"
    }
   ],
   "source": [
    "plt.bar(range(len(output[0])),trial_data[0,:])\n",
    "plt.title('Original')"
   ]
  },
  {
   "cell_type": "markdown",
   "id": "08121068-7c26-4287-8f9c-58539fa2e912",
   "metadata": {},
   "source": [
    "## Sample"
   ]
  },
  {
   "cell_type": "code",
   "execution_count": 253,
   "id": "1a6d5456-5f5f-4e5e-88be-4308840d7e51",
   "metadata": {},
   "outputs": [],
   "source": [
    "sample_data = tensorflow.convert_to_tensor([1]+[0]*9)"
   ]
  },
  {
   "cell_type": "code",
   "execution_count": 254,
   "id": "4261b1a9-20d4-4d54-8c57-d80222757bfd",
   "metadata": {},
   "outputs": [
    {
     "data": {
      "text/plain": [
       "TensorShape([Dimension(10)])"
      ]
     },
     "execution_count": 254,
     "metadata": {},
     "output_type": "execute_result"
    }
   ],
   "source": [
    "sample_data.shape"
   ]
  },
  {
   "cell_type": "code",
   "execution_count": 258,
   "id": "220a78ec-933f-4e1b-b292-5a1f57237cf8",
   "metadata": {},
   "outputs": [],
   "source": [
    "sample_data = np.array(([[1]+[0]*(nLatent-1)]))"
   ]
  },
  {
   "cell_type": "code",
   "execution_count": 259,
   "id": "dbeec59a-191d-4254-a072-d4d1bde33896",
   "metadata": {},
   "outputs": [
    {
     "name": "stdout",
     "output_type": "stream",
     "text": [
      "WARNING:tensorflow:When passing input data as arrays, do not specify `steps_per_epoch`/`steps` argument. Please use `batch_size` instead.\n"
     ]
    }
   ],
   "source": [
    "sample = decoder_model.predict(sample_data,steps=1)"
   ]
  },
  {
   "cell_type": "code",
   "execution_count": 260,
   "id": "426bd96e-5cf3-4a06-80bf-0d6964709ab7",
   "metadata": {},
   "outputs": [
    {
     "data": {
      "text/plain": [
       "<BarContainer object of 230 artists>"
      ]
     },
     "execution_count": 260,
     "metadata": {},
     "output_type": "execute_result"
    },
    {
     "data": {
      "image/png": "[encoded data removed]",
      "text/plain": [
       "<Figure size 432x288 with 1 Axes>"
      ]
     },
     "metadata": {
      "needs_background": "light"
     },
     "output_type": "display_data"
    }
   ],
   "source": [
    "plt.bar(range(len(output[0])),sample[0])"
   ]
  },
  {
   "cell_type": "code",
   "execution_count": 268,
   "id": "e4fc8a76-8fcf-47b5-82e9-b766db09ea5a",
   "metadata": {},
   "outputs": [
    {
     "data": {
      "image/png": "[encoded data removed]",
      "text/plain": [
       "<Figure size 432x288 with 1 Axes>"
      ]
     },
     "metadata": {
      "needs_background": "light"
     },
     "output_type": "display_data"
    },
    {
     "data": {
      "image/png": "[encoded data removed]",
      "text/plain": [
       "<Figure size 432x288 with 1 Axes>"
      ]
     },
     "metadata": {
      "needs_background": "light"
     },
     "output_type": "display_data"
    },
    {
     "data": {
      "image/png": "[encoded data removed]",
      "text/plain": [
       "<Figure size 432x288 with 1 Axes>"
      ]
     },
     "metadata": {
      "needs_background": "light"
     },
     "output_type": "display_data"
    },
    {
     "data": {
      "image/png": "[encoded data removed]",
      "text/plain": [
       "<Figure size 432x288 with 1 Axes>"
      ]
     },
     "metadata": {
      "needs_background": "light"
     },
     "output_type": "display_data"
    },
    {
     "data": {
      "image/png": "[encoded data removed]",
      "text/plain": [
       "<Figure size 432x288 with 1 Axes>"
      ]
     },
     "metadata": {
      "needs_background": "light"
     },
     "output_type": "display_data"
    }
   ],
   "source": [
    "for n in range(nLatent):\n",
    "    inZeros = np.array([[0]*nLatent])\n",
    "    inZeros[0,n] = 1.\n",
    "    sample_data = tensorflow.convert_to_tensor(inZeros)\n",
    "    \n",
    "    output = decoder_model.predict(sample_data,steps=10)\n",
    "    \n",
    "    plt.bar(range(len(output[0])),output[0])\n",
    "    plt.title('Latent - '+str(n))\n",
    "    plt.ylim(-0.05,0.8)\n",
    "    plt.show()"
   ]
  },
  {
   "cell_type": "code",
   "execution_count": 264,
   "id": "e222f71d-443f-4d02-ad85-8276568f14b7",
   "metadata": {},
   "outputs": [
    {
     "data": {
      "text/plain": [
       "62"
      ]
     },
     "execution_count": 264,
     "metadata": {},
     "output_type": "execute_result"
    }
   ],
   "source": [
    "np.argmax(output[0])"
   ]
  },
  {
   "cell_type": "markdown",
   "id": "7ce01a30-5746-4653-909b-b52267e161b6",
   "metadata": {},
   "source": [
    "## How to evaluate the compression and decoding?"
   ]
  },
  {
   "cell_type": "markdown",
   "id": "d5b8ada0-c2a8-4b02-a1b6-39c78368915b",
   "metadata": {},
   "source": [
    "Let us compare typical distance between input/output and typical inter-job distance"
   ]
  },
  {
   "cell_type": "code",
   "execution_count": 285,
   "id": "cc3baad1-e8cc-44ee-9b85-543a094dcedf",
   "metadata": {},
   "outputs": [
    {
     "data": {
      "text/plain": [
       "0.03776594446253834"
      ]
     },
     "execution_count": 285,
     "metadata": {},
     "output_type": "execute_result"
    }
   ],
   "source": [
    "distance.cosine(output[0],trial_data[0,:])"
   ]
  },
  {
   "cell_type": "code",
   "execution_count": 296,
   "id": "82a301e2-ef2c-42d8-a7c0-34d97dc6daf5",
   "metadata": {},
   "outputs": [
    {
     "data": {
      "text/plain": [
       "(768, 230)"
      ]
     },
     "execution_count": 296,
     "metadata": {},
     "output_type": "execute_result"
    }
   ],
   "source": [
    "trial_data.shape"
   ]
  },
  {
   "cell_type": "code",
   "execution_count": 291,
   "id": "5d8eb461-887c-4f08-a8d6-3bcb11a67322",
   "metadata": {},
   "outputs": [],
   "source": [
    "j1 = df.sample(1).iloc[0,2:].values\n",
    "j2 = df.sample(1).iloc[0,2:].values"
   ]
  },
  {
   "cell_type": "code",
   "execution_count": 292,
   "id": "f09f8960-e75d-4ad9-b63b-a1f76ae20a3c",
   "metadata": {},
   "outputs": [
    {
     "name": "stdout",
     "output_type": "stream",
     "text": [
      "Distance between two random samples : 0.083\n"
     ]
    }
   ],
   "source": [
    "print('Distance between two random samples : {:.3f}'.format(distance.cosine(j1,j2)))"
   ]
  },
  {
   "cell_type": "markdown",
   "id": "da93cfd7-780b-43e1-947d-313819045a13",
   "metadata": {},
   "source": [
    "## Do it systematically"
   ]
  },
  {
   "cell_type": "code",
   "execution_count": 302,
   "id": "fb344f98-ea68-4036-9eb6-759653a02693",
   "metadata": {},
   "outputs": [],
   "source": [
    "trial_data = df.iloc[:,2:].values.astype(float)\n",
    "trial_data_tf = tensorflow.convert_to_tensor(trial_data)\n",
    "output = autoencoder.predict(trial_data_tf,steps=1)"
   ]
  },
  {
   "cell_type": "code",
   "execution_count": 303,
   "id": "465174ba-3473-4cec-8615-8ead41819357",
   "metadata": {},
   "outputs": [
    {
     "data": {
      "text/plain": [
       "(768, 230)"
      ]
     },
     "execution_count": 303,
     "metadata": {},
     "output_type": "execute_result"
    }
   ],
   "source": [
    "trial_data.shape"
   ]
  },
  {
   "cell_type": "code",
   "execution_count": 304,
   "id": "a503e68c-054f-44b7-bab7-6c05d0cb5b1d",
   "metadata": {},
   "outputs": [
    {
     "data": {
      "text/plain": [
       "(768, 230)"
      ]
     },
     "execution_count": 304,
     "metadata": {},
     "output_type": "execute_result"
    }
   ],
   "source": [
    "output.shape"
   ]
  },
  {
   "cell_type": "markdown",
   "id": "739e5e84-5365-445c-aaf7-bc447fc274ab",
   "metadata": {},
   "source": [
    "### Distances between original and decoded"
   ]
  },
  {
   "cell_type": "code",
   "execution_count": 316,
   "id": "c99fab21-bf51-4649-958b-14e37d0de72b",
   "metadata": {},
   "outputs": [],
   "source": [
    "predictionDistances = []\n",
    "\n",
    "for nn in range(trial_data.shape[0]):\n",
    "#    print(distance.cosine(output[nn],trial_data[nn,:]))\n",
    "    predictionDistances.append(distance.cosine(output[nn],trial_data[nn,:]))"
   ]
  },
  {
   "cell_type": "code",
   "execution_count": 329,
   "id": "d7391997-2956-4164-b2f5-98ed7a3d6975",
   "metadata": {},
   "outputs": [
    {
     "name": "stdout",
     "output_type": "stream",
     "text": [
      "0.054\n"
     ]
    },
    {
     "data": {
      "text/plain": [
       "(-0.05, 1.0)"
      ]
     },
     "execution_count": 329,
     "metadata": {},
     "output_type": "execute_result"
    },
    {
     "data": {
      "image/png": "[encoded data removed]",
      "text/plain": [
       "<Figure size 432x288 with 1 Axes>"
      ]
     },
     "metadata": {
      "needs_background": "light"
     },
     "output_type": "display_data"
    }
   ],
   "source": [
    "sns.kdeplot(predictionDistances)\n",
    "plt.axvline(np.mean(predictionDistances))\n",
    "print('{:.3f}'.format(np.mean(predictionDistances)))\n",
    "plt.xlim(-0.05,1)"
   ]
  },
  {
   "cell_type": "markdown",
   "id": "5be1fe25-3a5b-4d8d-8f13-2b0d26c0b1cb",
   "metadata": {},
   "source": [
    "### Distances between existing jobs"
   ]
  },
  {
   "cell_type": "code",
   "execution_count": 358,
   "id": "cf1e18ff-7abd-429e-9b59-29926b5a9a42",
   "metadata": {},
   "outputs": [],
   "source": [
    "pairwiseDistances = []\n",
    "minDistances = []\n",
    "\n",
    "for i in range(trial_data.shape[0]):\n",
    "    tempDistances = np.ones(trial_data.shape[0])\n",
    "    \n",
    "    for j in range(trial_data.shape[0]):\n",
    "        tempDistance = distance.cosine(trial_data[i,:],trial_data[j,:])\n",
    "        pairwiseDistances.append(tempDistance)\n",
    "        \n",
    "        if not i == j:\n",
    "            tempDistances[j] = tempDistance\n",
    "        \n",
    "    minDistances.append(np.min(tempDistances))"
   ]
  },
  {
   "cell_type": "code",
   "execution_count": 359,
   "id": "d2b811f3-3b74-43e2-9951-848fdaf2af06",
   "metadata": {},
   "outputs": [
    {
     "name": "stdout",
     "output_type": "stream",
     "text": [
      "0.182\n"
     ]
    },
    {
     "data": {
      "text/plain": [
       "(-0.05, 1.0)"
      ]
     },
     "execution_count": 359,
     "metadata": {},
     "output_type": "execute_result"
    },
    {
     "data": {
      "image/png": "[encoded data removed]",
      "text/plain": [
       "<Figure size 432x288 with 1 Axes>"
      ]
     },
     "metadata": {
      "needs_background": "light"
     },
     "output_type": "display_data"
    }
   ],
   "source": [
    "sns.kdeplot(pairwiseDistances)\n",
    "plt.axvline(np.mean(pairwiseDistances))\n",
    "print('{:.3f}'.format(np.mean(pairwiseDistances)))\n",
    "plt.xlim(-0.05,1)"
   ]
  },
  {
   "cell_type": "code",
   "execution_count": 336,
   "id": "df558430-effc-41a8-ad50-a0ffe6562188",
   "metadata": {},
   "outputs": [
    {
     "data": {
      "text/plain": [
       "([<matplotlib.axis.XTick at 0x7f8dd4e48490>,\n",
       "  <matplotlib.axis.XTick at 0x7f8dd4e48610>],\n",
       " [Text(0, 0, 'Predictions'), Text(1, 0, 'Pairwise')])"
      ]
     },
     "execution_count": 336,
     "metadata": {},
     "output_type": "execute_result"
    },
    {
     "data": {
      "image/png": "[encoded data removed]",
      "text/plain": [
       "<Figure size 432x288 with 1 Axes>"
      ]
     },
     "metadata": {
      "needs_background": "light"
     },
     "output_type": "display_data"
    }
   ],
   "source": [
    "sns.violinplot(data=[predictionDistances,pairwiseDistances])\n",
    "plt.xticks([0,1],['Predictions','Pairwise'])"
   ]
  },
  {
   "cell_type": "markdown",
   "id": "5a0e9753-522d-40cf-8883-687e262d29e7",
   "metadata": {
    "tags": []
   },
   "source": [
    "### Distances between generated samples and existing jobs"
   ]
  },
  {
   "cell_type": "code",
   "execution_count": 338,
   "id": "d2991469-83fb-4a5c-815a-03cbd2bebafd",
   "metadata": {},
   "outputs": [
    {
     "data": {
      "text/plain": [
       "array([0.57356073, 0.79512622, 0.92515631, 0.71253061, 0.17239492])"
      ]
     },
     "execution_count": 338,
     "metadata": {},
     "output_type": "execute_result"
    }
   ],
   "source": [
    "np.random.random(size=nLatent)"
   ]
  },
  {
   "cell_type": "code",
   "execution_count": 342,
   "id": "e4e53d9f-3d72-4ed5-a28e-a40222f478c5",
   "metadata": {},
   "outputs": [
    {
     "data": {
      "text/plain": [
       "<tf.Tensor 'Const_112:0' shape=(5,) dtype=float64>"
      ]
     },
     "execution_count": 342,
     "metadata": {},
     "output_type": "execute_result"
    }
   ],
   "source": [
    "sample_data"
   ]
  },
  {
   "cell_type": "code",
   "execution_count": 351,
   "id": "38eb3b9c-5b4a-47ba-802c-32b208f63c75",
   "metadata": {},
   "outputs": [],
   "source": [
    "sampleDistances = []\n",
    "\n",
    "for n in range(1000):\n",
    "    latentActivations = np.random.random(size=(1,nLatent))\n",
    "    sample_data = tensorflow.convert_to_tensor(latentActivations)\n",
    "\n",
    "    output = decoder_model.predict(sample_data,steps=10)\n",
    "    \n",
    "    distances = np.zeros(trial_data.shape[0])\n",
    "    \n",
    "    for i in range(trial_data.shape[0]):\n",
    "        distances[i] = distance.cosine(trial_data[i,:],output[0])\n",
    "    \n",
    "    sampleDistances.append(np.min(distances))"
   ]
  },
  {
   "cell_type": "code",
   "execution_count": null,
   "id": "5a19c67a-dfe1-49ec-a3c9-704c96a35636",
   "metadata": {},
   "outputs": [],
   "source": []
  },
  {
   "cell_type": "code",
   "execution_count": 361,
   "id": "94a3930b-003b-415c-81cc-30fad3b7fde4",
   "metadata": {},
   "outputs": [
    {
     "data": {
      "text/plain": [
       "([<matplotlib.axis.XTick at 0x7f8dbf536a90>,\n",
       "  <matplotlib.axis.XTick at 0x7f8dbf53b6d0>],\n",
       " [Text(0, 0, 'Samples'), Text(1, 0, 'Pairwise')])"
      ]
     },
     "execution_count": 361,
     "metadata": {},
     "output_type": "execute_result"
    },
    {
     "data": {
      "image/png": "[encoded data removed]",
      "text/plain": [
       "<Figure size 432x288 with 1 Axes>"
      ]
     },
     "metadata": {
      "needs_background": "light"
     },
     "output_type": "display_data"
    }
   ],
   "source": [
    "sns.violinplot(data=[sampleDistances,minDistances])\n",
    "plt.xticks([0,1],['Samples','Pairwise'])"
   ]
  },
  {
   "cell_type": "code",
   "execution_count": null,
   "id": "797fdab7-a167-49c9-9cc9-5b0f01939ad7",
   "metadata": {},
   "outputs": [],
   "source": []
  }
 ],
 "metadata": {
  "kernelspec": {
   "display_name": "Python 3",
   "language": "python",
   "name": "python3"
  },
  "language_info": {
   "codemirror_mode": {
    "name": "ipython",
    "version": 3
   },
   "file_extension": ".py",
   "mimetype": "text/x-python",
   "name": "python",
   "nbconvert_exporter": "python",
   "pygments_lexer": "ipython3",
   "version": "3.7.7"
  }
 },
 "nbformat": 4,
 "nbformat_minor": 5
}
