{
 "cells": [
  {
   "cell_type": "code",
   "execution_count": 579,
   "id": "3dc30208-5a0c-4461-8b34-0067976eb36f",
   "metadata": {},
   "outputs": [],
   "source": [
    "import keras\n",
    "from keras import layers\n",
    "from keras import backend as K\n",
    "from keras.models import Model\n",
    "import tensorflow as tf\n",
    "import numpy as np\n",
    "import pandas as pd\n",
    "import random\n",
    "import matplotlib.pyplot as plt\n",
    "\n",
    "from scipy.spatial import distance\n",
    "from sklearn.metrics import pairwise_distances\n",
    "import seaborn as sns\n",
    "from sklearn.preprocessing import StandardScaler\n",
    "\n",
    "%matplotlib inline"
   ]
  },
  {
   "cell_type": "code",
   "execution_count": 340,
   "id": "4358873d-3351-49bc-83d7-19a4bbb329cf",
   "metadata": {},
   "outputs": [],
   "source": [
    "sns.set_context(context = 'paper',font_scale = 2)"
   ]
  },
  {
   "cell_type": "code",
   "execution_count": 619,
   "id": "250ceff9-349e-4784-ada1-0257835ccfd9",
   "metadata": {},
   "outputs": [],
   "source": [
    "df = pd.read_csv('/Users/alexisrutherford/Desktop/fow_game/jobSkillMat.csv',delimiter='\\t')\n",
    "isTasks = True\n",
    "jobsTasksDf = df.iloc[:,:2]\n",
    "df = df.iloc[:,2:]"
   ]
  },
  {
   "cell_type": "code",
   "execution_count": 620,
   "id": "11b183f9-59e4-4ab6-a00b-d517a06719fa",
   "metadata": {},
   "outputs": [],
   "source": [
    "df = pd.read_csv('job_skill_matrix/job_skill_matrix_combined.csv')\n",
    "## Full data\n",
    "isTasks = False\n",
    "jobsDf = df.iloc[:,:2]\n",
    "df = df.iloc[:,2:]"
   ]
  },
  {
   "cell_type": "code",
   "execution_count": 342,
   "id": "e9231942-c873-402c-9482-c780d01c6f58",
   "metadata": {},
   "outputs": [
    {
     "data": {
      "text/html": [
       "<div>\n",
       "<style scoped>\n",
       "    .dataframe tbody tr th:only-of-type {\n",
       "        vertical-align: middle;\n",
       "    }\n",
       "\n",
       "    .dataframe tbody tr th {\n",
       "        vertical-align: top;\n",
       "    }\n",
       "\n",
       "    .dataframe thead th {\n",
       "        text-align: right;\n",
       "    }\n",
       "</style>\n",
       "<table border=\"1\" class=\"dataframe\">\n",
       "  <thead>\n",
       "    <tr style=\"text-align: right;\">\n",
       "      <th></th>\n",
       "      <th>2.A.1.a</th>\n",
       "      <th>2.A.1.b</th>\n",
       "      <th>2.A.1.c</th>\n",
       "      <th>2.A.1.d</th>\n",
       "      <th>2.A.1.e</th>\n",
       "      <th>2.A.1.f</th>\n",
       "      <th>2.A.2.a</th>\n",
       "      <th>2.A.2.b</th>\n",
       "      <th>2.A.2.c</th>\n",
       "      <th>2.A.2.d</th>\n",
       "      <th>...</th>\n",
       "      <th>2.C.7.a</th>\n",
       "      <th>2.C.7.b</th>\n",
       "      <th>2.C.7.c</th>\n",
       "      <th>2.C.7.d</th>\n",
       "      <th>2.C.7.e</th>\n",
       "      <th>2.C.8.a</th>\n",
       "      <th>2.C.8.b</th>\n",
       "      <th>2.C.9.a</th>\n",
       "      <th>2.C.9.b</th>\n",
       "      <th>2.C.10</th>\n",
       "    </tr>\n",
       "  </thead>\n",
       "  <tbody>\n",
       "    <tr>\n",
       "      <th>0</th>\n",
       "      <td>4.12</td>\n",
       "      <td>4.12</td>\n",
       "      <td>4.00</td>\n",
       "      <td>4.38</td>\n",
       "      <td>3.25</td>\n",
       "      <td>1.88</td>\n",
       "      <td>4.38</td>\n",
       "      <td>4.00</td>\n",
       "      <td>3.12</td>\n",
       "      <td>4.12</td>\n",
       "      <td>...</td>\n",
       "      <td>4.07</td>\n",
       "      <td>1.56</td>\n",
       "      <td>1.43</td>\n",
       "      <td>1.48</td>\n",
       "      <td>1.70</td>\n",
       "      <td>3.30</td>\n",
       "      <td>3.92</td>\n",
       "      <td>1.76</td>\n",
       "      <td>2.70</td>\n",
       "      <td>2.21</td>\n",
       "    </tr>\n",
       "    <tr>\n",
       "      <th>1</th>\n",
       "      <td>4.00</td>\n",
       "      <td>3.88</td>\n",
       "      <td>3.88</td>\n",
       "      <td>4.00</td>\n",
       "      <td>2.75</td>\n",
       "      <td>1.75</td>\n",
       "      <td>4.00</td>\n",
       "      <td>3.50</td>\n",
       "      <td>3.38</td>\n",
       "      <td>3.62</td>\n",
       "      <td>...</td>\n",
       "      <td>3.81</td>\n",
       "      <td>1.40</td>\n",
       "      <td>1.38</td>\n",
       "      <td>1.80</td>\n",
       "      <td>1.85</td>\n",
       "      <td>2.40</td>\n",
       "      <td>2.88</td>\n",
       "      <td>1.58</td>\n",
       "      <td>2.84</td>\n",
       "      <td>2.42</td>\n",
       "    </tr>\n",
       "    <tr>\n",
       "      <th>2</th>\n",
       "      <td>3.88</td>\n",
       "      <td>4.00</td>\n",
       "      <td>3.25</td>\n",
       "      <td>4.00</td>\n",
       "      <td>2.38</td>\n",
       "      <td>1.88</td>\n",
       "      <td>3.88</td>\n",
       "      <td>3.50</td>\n",
       "      <td>3.00</td>\n",
       "      <td>4.00</td>\n",
       "      <td>...</td>\n",
       "      <td>3.71</td>\n",
       "      <td>1.62</td>\n",
       "      <td>1.16</td>\n",
       "      <td>1.21</td>\n",
       "      <td>1.51</td>\n",
       "      <td>3.10</td>\n",
       "      <td>2.95</td>\n",
       "      <td>2.50</td>\n",
       "      <td>2.59</td>\n",
       "      <td>2.20</td>\n",
       "    </tr>\n",
       "    <tr>\n",
       "      <th>3</th>\n",
       "      <td>3.75</td>\n",
       "      <td>4.00</td>\n",
       "      <td>3.75</td>\n",
       "      <td>4.00</td>\n",
       "      <td>3.00</td>\n",
       "      <td>1.50</td>\n",
       "      <td>3.75</td>\n",
       "      <td>3.25</td>\n",
       "      <td>2.75</td>\n",
       "      <td>3.25</td>\n",
       "      <td>...</td>\n",
       "      <td>4.35</td>\n",
       "      <td>1.68</td>\n",
       "      <td>2.90</td>\n",
       "      <td>1.34</td>\n",
       "      <td>1.47</td>\n",
       "      <td>1.78</td>\n",
       "      <td>1.87</td>\n",
       "      <td>3.06</td>\n",
       "      <td>4.33</td>\n",
       "      <td>1.61</td>\n",
       "    </tr>\n",
       "    <tr>\n",
       "      <th>4</th>\n",
       "      <td>3.88</td>\n",
       "      <td>3.88</td>\n",
       "      <td>3.25</td>\n",
       "      <td>3.88</td>\n",
       "      <td>2.75</td>\n",
       "      <td>1.75</td>\n",
       "      <td>3.88</td>\n",
       "      <td>3.88</td>\n",
       "      <td>3.12</td>\n",
       "      <td>3.75</td>\n",
       "      <td>...</td>\n",
       "      <td>4.48</td>\n",
       "      <td>1.64</td>\n",
       "      <td>1.70</td>\n",
       "      <td>1.68</td>\n",
       "      <td>1.64</td>\n",
       "      <td>2.50</td>\n",
       "      <td>2.86</td>\n",
       "      <td>2.86</td>\n",
       "      <td>3.80</td>\n",
       "      <td>1.68</td>\n",
       "    </tr>\n",
       "  </tbody>\n",
       "</table>\n",
       "<p>5 rows × 120 columns</p>\n",
       "</div>"
      ],
      "text/plain": [
       "   2.A.1.a  2.A.1.b  2.A.1.c  2.A.1.d  2.A.1.e  2.A.1.f  2.A.2.a  2.A.2.b  \\\n",
       "0     4.12     4.12     4.00     4.38     3.25     1.88     4.38     4.00   \n",
       "1     4.00     3.88     3.88     4.00     2.75     1.75     4.00     3.50   \n",
       "2     3.88     4.00     3.25     4.00     2.38     1.88     3.88     3.50   \n",
       "3     3.75     4.00     3.75     4.00     3.00     1.50     3.75     3.25   \n",
       "4     3.88     3.88     3.25     3.88     2.75     1.75     3.88     3.88   \n",
       "\n",
       "   2.A.2.c  2.A.2.d  ...  2.C.7.a  2.C.7.b  2.C.7.c  2.C.7.d  2.C.7.e  \\\n",
       "0     3.12     4.12  ...     4.07     1.56     1.43     1.48     1.70   \n",
       "1     3.38     3.62  ...     3.81     1.40     1.38     1.80     1.85   \n",
       "2     3.00     4.00  ...     3.71     1.62     1.16     1.21     1.51   \n",
       "3     2.75     3.25  ...     4.35     1.68     2.90     1.34     1.47   \n",
       "4     3.12     3.75  ...     4.48     1.64     1.70     1.68     1.64   \n",
       "\n",
       "   2.C.8.a  2.C.8.b  2.C.9.a  2.C.9.b  2.C.10  \n",
       "0     3.30     3.92     1.76     2.70    2.21  \n",
       "1     2.40     2.88     1.58     2.84    2.42  \n",
       "2     3.10     2.95     2.50     2.59    2.20  \n",
       "3     1.78     1.87     3.06     4.33    1.61  \n",
       "4     2.50     2.86     2.86     3.80    1.68  \n",
       "\n",
       "[5 rows x 120 columns]"
      ]
     },
     "execution_count": 342,
     "metadata": {},
     "output_type": "execute_result"
    }
   ],
   "source": [
    "df.head()"
   ]
  },
  {
   "cell_type": "code",
   "execution_count": 621,
   "id": "c37c391a-2da0-4de1-9b96-46619530d538",
   "metadata": {},
   "outputs": [
    {
     "data": {
      "text/html": [
       "<div>\n",
       "<style scoped>\n",
       "    .dataframe tbody tr th:only-of-type {\n",
       "        vertical-align: middle;\n",
       "    }\n",
       "\n",
       "    .dataframe tbody tr th {\n",
       "        vertical-align: top;\n",
       "    }\n",
       "\n",
       "    .dataframe thead th {\n",
       "        text-align: right;\n",
       "    }\n",
       "</style>\n",
       "<table border=\"1\" class=\"dataframe\">\n",
       "  <thead>\n",
       "    <tr style=\"text-align: right;\">\n",
       "      <th></th>\n",
       "      <th>Job Code</th>\n",
       "      <th>Job Title</th>\n",
       "    </tr>\n",
       "  </thead>\n",
       "  <tbody>\n",
       "    <tr>\n",
       "      <th>0</th>\n",
       "      <td>13-2011</td>\n",
       "      <td>accountants and auditors</td>\n",
       "    </tr>\n",
       "    <tr>\n",
       "      <th>1</th>\n",
       "      <td>27-2011</td>\n",
       "      <td>actors</td>\n",
       "    </tr>\n",
       "    <tr>\n",
       "      <th>2</th>\n",
       "      <td>15-2011</td>\n",
       "      <td>actuaries</td>\n",
       "    </tr>\n",
       "    <tr>\n",
       "      <th>3</th>\n",
       "      <td>51-9191</td>\n",
       "      <td>adhesive bonding machine operators and tenders</td>\n",
       "    </tr>\n",
       "    <tr>\n",
       "      <th>4</th>\n",
       "      <td>23-1021</td>\n",
       "      <td>administrative law judges, adjudicators, and h...</td>\n",
       "    </tr>\n",
       "  </tbody>\n",
       "</table>\n",
       "</div>"
      ],
      "text/plain": [
       "  Job Code                                          Job Title\n",
       "0  13-2011                           accountants and auditors\n",
       "1  27-2011                                             actors\n",
       "2  15-2011                                          actuaries\n",
       "3  51-9191     adhesive bonding machine operators and tenders\n",
       "4  23-1021  administrative law judges, adjudicators, and h..."
      ]
     },
     "execution_count": 621,
     "metadata": {},
     "output_type": "execute_result"
    }
   ],
   "source": [
    "jobsTasksDf.head()"
   ]
  },
  {
   "cell_type": "code",
   "execution_count": 611,
   "id": "03a4bd2e-6ec0-4cc4-b246-be04268de0c4",
   "metadata": {},
   "outputs": [
    {
     "data": {
      "text/html": [
       "<div>\n",
       "<style scoped>\n",
       "    .dataframe tbody tr th:only-of-type {\n",
       "        vertical-align: middle;\n",
       "    }\n",
       "\n",
       "    .dataframe tbody tr th {\n",
       "        vertical-align: top;\n",
       "    }\n",
       "\n",
       "    .dataframe thead th {\n",
       "        text-align: right;\n",
       "    }\n",
       "</style>\n",
       "<table border=\"1\" class=\"dataframe\">\n",
       "  <thead>\n",
       "    <tr style=\"text-align: right;\">\n",
       "      <th></th>\n",
       "      <th>Job Code</th>\n",
       "      <th>Job Title</th>\n",
       "    </tr>\n",
       "  </thead>\n",
       "  <tbody>\n",
       "    <tr>\n",
       "      <th>0</th>\n",
       "      <td>13-2011</td>\n",
       "      <td>accountants and auditors</td>\n",
       "    </tr>\n",
       "    <tr>\n",
       "      <th>1</th>\n",
       "      <td>27-2011</td>\n",
       "      <td>actors</td>\n",
       "    </tr>\n",
       "    <tr>\n",
       "      <th>2</th>\n",
       "      <td>15-2011</td>\n",
       "      <td>actuaries</td>\n",
       "    </tr>\n",
       "    <tr>\n",
       "      <th>3</th>\n",
       "      <td>51-9191</td>\n",
       "      <td>adhesive bonding machine operators and tenders</td>\n",
       "    </tr>\n",
       "    <tr>\n",
       "      <th>4</th>\n",
       "      <td>23-1021</td>\n",
       "      <td>administrative law judges, adjudicators, and h...</td>\n",
       "    </tr>\n",
       "  </tbody>\n",
       "</table>\n",
       "</div>"
      ],
      "text/plain": [
       "  Job Code                                          Job Title\n",
       "0  13-2011                           accountants and auditors\n",
       "1  27-2011                                             actors\n",
       "2  15-2011                                          actuaries\n",
       "3  51-9191     adhesive bonding machine operators and tenders\n",
       "4  23-1021  administrative law judges, adjudicators, and h..."
      ]
     },
     "execution_count": 611,
     "metadata": {},
     "output_type": "execute_result"
    }
   ],
   "source": [
    "jobsDf.head()"
   ]
  },
  {
   "cell_type": "code",
   "execution_count": 630,
   "id": "5b2d3a5b-a93e-4f2a-8d65-91162cd5b150",
   "metadata": {},
   "outputs": [],
   "source": [
    "jobsDf.columns = ['n','Job Code']"
   ]
  },
  {
   "cell_type": "code",
   "execution_count": 631,
   "id": "7c4a5584-0716-4917-9475-3e88097d7e21",
   "metadata": {},
   "outputs": [],
   "source": [
    "jobsDf['Job Code'] = jobsDf['Job Code'].astype('str')"
   ]
  },
  {
   "cell_type": "code",
   "execution_count": 618,
   "id": "6e6cbe3b-a43a-48e4-b005-0e7d9f3b6fad",
   "metadata": {},
   "outputs": [],
   "source": [
    "jobsDf.iloc[:,1] = jobsDf.iloc[:,1].apply(lambda x:x[:-3])"
   ]
  },
  {
   "cell_type": "code",
   "execution_count": 632,
   "id": "09788a7b-a791-4350-8ec8-1ac0af0ad069",
   "metadata": {},
   "outputs": [],
   "source": [
    "jobsTasksDf['Job Code'] = jobsTasksDf['Job Code'].astype('str')"
   ]
  },
  {
   "cell_type": "code",
   "execution_count": 642,
   "id": "202e8c9f-3d67-458f-ac39-bf1e7d59a0e0",
   "metadata": {},
   "outputs": [],
   "source": [
    "jobsTasksDf.set_index('Job Code',inplace = True)"
   ]
  },
  {
   "cell_type": "code",
   "execution_count": 645,
   "id": "a91020e9-d6c9-44d1-a23b-81c228b5d2bd",
   "metadata": {},
   "outputs": [],
   "source": [
    "jobDict = jobsTasksDf.to_dict(orient = 'index')"
   ]
  },
  {
   "cell_type": "markdown",
   "id": "0eea9dab-784c-45c0-878f-3935a31b80d5",
   "metadata": {},
   "source": [
    "## Quick Exploration"
   ]
  },
  {
   "cell_type": "code",
   "execution_count": 646,
   "id": "2b59d20a-b0b2-4150-9d25-7d234fe3fc59",
   "metadata": {},
   "outputs": [
    {
     "data": {
      "text/plain": [
       "9193"
      ]
     },
     "execution_count": 646,
     "metadata": {},
     "output_type": "execute_result"
    }
   ],
   "source": [
    "ii"
   ]
  },
  {
   "cell_type": "code",
   "execution_count": 653,
   "id": "454b647f-b4b1-4be7-aa59-231380bfcfc7",
   "metadata": {},
   "outputs": [
    {
     "data": {
      "text/plain": [
       "'Demonstrators and product promoters'"
      ]
     },
     "execution_count": 653,
     "metadata": {},
     "output_type": "execute_result"
    }
   ],
   "source": []
  },
  {
   "cell_type": "code",
   "execution_count": 660,
   "id": "1347436c-e026-4727-82de-c4d56e433d59",
   "metadata": {},
   "outputs": [
    {
     "name": "stdout",
     "output_type": "stream",
     "text": [
      "Randomly selected 17712\n"
     ]
    },
    {
     "data": {
      "image/png": "[encoded data removed]",
      "text/plain": [
       "<Figure size 432x288 with 1 Axes>"
      ]
     },
     "metadata": {
      "needs_background": "light"
     },
     "output_type": "display_data"
    },
    {
     "name": "stdout",
     "output_type": "stream",
     "text": [
      "Randomly selected 19896\n"
     ]
    },
    {
     "data": {
      "image/png": "[encoded data removed]",
      "text/plain": [
       "<Figure size 432x288 with 1 Axes>"
      ]
     },
     "metadata": {
      "needs_background": "light"
     },
     "output_type": "display_data"
    },
    {
     "name": "stdout",
     "output_type": "stream",
     "text": [
      "Randomly selected 22647\n"
     ]
    },
    {
     "data": {
      "image/png": "[encoded data removed]",
      "text/plain": [
       "<Figure size 432x288 with 1 Axes>"
      ]
     },
     "metadata": {
      "needs_background": "light"
     },
     "output_type": "display_data"
    }
   ],
   "source": [
    "for i in range(3):\n",
    "    ii = random.randint(0,df.shape[0] - 1)\n",
    "    print('Randomly selected',ii)\n",
    "    plt.bar(range(df.shape[1]),df.iloc[ii,:].values)\n",
    "    \n",
    "    if isTasks:\n",
    "        plt.ylim(0,1.1)\n",
    "    else:\n",
    "        plt.ylim(0,5.0)\n",
    "    plt.title(jobDict[jobsDf.iloc[ii,1][:-3]][' Job Title'].capitalize())\n",
    "    plt.tight_layout()\n",
    "    plt.savefig('figs/random_example_projection_{:d}.png'.format(ii),dpi = 300)\n",
    "    plt.show()"
   ]
  },
  {
   "cell_type": "markdown",
   "id": "a2f71dab-5d49-4e2d-bcd2-d373af6f09de",
   "metadata": {},
   "source": [
    "### Distribution of max values of features"
   ]
  },
  {
   "cell_type": "code",
   "execution_count": 345,
   "id": "02b57ab7-1dbb-4a74-b873-af3f9d2cda65",
   "metadata": {},
   "outputs": [
    {
     "data": {
      "image/png": "[encoded data removed]",
      "text/plain": [
       "<Figure size 432x288 with 1 Axes>"
      ]
     },
     "metadata": {
      "needs_background": "light"
     },
     "output_type": "display_data"
    }
   ],
   "source": [
    "if isTasks:\n",
    "    plt.hist(df.max(),bins = np.linspace(0,1,11))\n",
    "else:\n",
    "    plt.hist(df.max(),bins = np.linspace(0,7,16))"
   ]
  },
  {
   "cell_type": "code",
   "execution_count": 346,
   "id": "4ab3d7aa-2750-43bd-878c-d3220de5729f",
   "metadata": {},
   "outputs": [
    {
     "data": {
      "image/png": "[encoded data removed]",
      "text/plain": [
       "<Figure size 432x288 with 1 Axes>"
      ]
     },
     "metadata": {
      "needs_background": "light"
     },
     "output_type": "display_data"
    }
   ],
   "source": [
    "_ = plt.hist(df.min(),bins = np.linspace(0,7,16))"
   ]
  },
  {
   "cell_type": "code",
   "execution_count": 657,
   "id": "5d56c552-aecd-4b45-9ebb-fcf3874a3aa5",
   "metadata": {},
   "outputs": [
    {
     "name": "stdout",
     "output_type": "stream",
     "text": [
      "l =  10\n",
      "isTasks = False\n"
     ]
    },
    {
     "data": {
      "image/png": "[encoded data removed]",
      "text/plain": [
       "<Figure size 432x288 with 120 Axes>"
      ]
     },
     "metadata": {},
     "output_type": "display_data"
    }
   ],
   "source": [
    "l = np.floor(np.sqrt(df.shape[1]))\n",
    "l = int(np.ceil(l))\n",
    "\n",
    "print('l = ',l)\n",
    "\n",
    "#isTasks = True\n",
    "\n",
    "if isTasks:\n",
    "    print('isTasks = True')\n",
    "    bins = np.linspace(0,1,11)\n",
    "    yMax = 400\n",
    "    yMin = -40\n",
    "    nFeatures = 120\n",
    "    ll = l +1\n",
    "else:\n",
    "    print('isTasks = False')\n",
    "    bins = np.linspace(0,7,8)\n",
    "    yMax = 20000\n",
    "    yMin = -200\n",
    "    nFeatures = 230\n",
    "    ll = l + 2\n",
    "    \n",
    "for i in range(df.shape[1]):\n",
    "    ax = plt.subplot(l, ll, i+1)\n",
    "    \n",
    "    plt.hist(df.iloc[:,i].values,bins = bins)\n",
    "    plt.ylim(yMin,yMax)\n",
    "    plt.xticks([],[])\n",
    "    plt.yticks([],[])\n",
    "    \n",
    "    ax.spines['top'].set_visible(False)\n",
    "    ax.spines['right'].set_visible(False)\n",
    "    #ax.spines['bottom'].set_visible(False)\n",
    "    ax.spines['left'].set_visible(False)\n",
    "    \n",
    "    plt.tight_layout()\n",
    "\n",
    "if isTasks:\n",
    "    plt.savefig('features_hist_tasks_all.png',dpi = 300)\n",
    "else:\n",
    "    plt.savefig('features_hist_skills_all.png',dpi = 300)"
   ]
  },
  {
   "cell_type": "markdown",
   "id": "c820ef48-28ac-4822-b4b4-ccf253093ab0",
   "metadata": {},
   "source": [
    "## Try some scaling"
   ]
  },
  {
   "cell_type": "code",
   "execution_count": 544,
   "id": "aa26aa58-f483-4524-9f27-8f35ba810785",
   "metadata": {},
   "outputs": [],
   "source": [
    "scaler = StandardScaler()"
   ]
  },
  {
   "cell_type": "code",
   "execution_count": 545,
   "id": "33245683-c9ed-4740-9b0f-a796e7387200",
   "metadata": {},
   "outputs": [
    {
     "data": {
      "text/plain": [
       "StandardScaler()"
      ]
     },
     "execution_count": 545,
     "metadata": {},
     "output_type": "execute_result"
    }
   ],
   "source": [
    "scaler.fit(df)"
   ]
  },
  {
   "cell_type": "code",
   "execution_count": 546,
   "id": "1df4716b-9d93-4b41-9b7f-d6e1481e4fa6",
   "metadata": {},
   "outputs": [],
   "source": [
    "dfScaled = pd.DataFrame(data = scaler.transform(df))"
   ]
  },
  {
   "cell_type": "code",
   "execution_count": 658,
   "id": "9a3d5bb3-5d4a-491c-a5a4-174cc50b3bc1",
   "metadata": {},
   "outputs": [
    {
     "name": "stdout",
     "output_type": "stream",
     "text": [
      "l =  10\n",
      "isTasks = False\n"
     ]
    },
    {
     "data": {
      "image/png": "[encoded data removed]",
      "text/plain": [
       "<Figure size 432x288 with 120 Axes>"
      ]
     },
     "metadata": {},
     "output_type": "display_data"
    }
   ],
   "source": [
    "l = np.floor(np.sqrt(df.shape[1]))\n",
    "l = int(np.ceil(l))\n",
    "\n",
    "print('l = ',l)\n",
    "\n",
    "#isTasks = True\n",
    "\n",
    "if isTasks:\n",
    "    print('isTasks = True')\n",
    "    bins = np.linspace(0,1,11)\n",
    "    yMax = 100\n",
    "    yMin = -10\n",
    "    nFeatures = 120\n",
    "    ll = l +1\n",
    "else:\n",
    "    print('isTasks = False')\n",
    "    bins = np.linspace(0,7,8)\n",
    "    yMax = 20000\n",
    "    yMin = -200\n",
    "    nFeatures = 230\n",
    "    ll = l + 2\n",
    "    \n",
    "for i in range(df.shape[1]):\n",
    "    ax = plt.subplot(l, ll, i+1)\n",
    "    \n",
    "    plt.hist(dfScaled.iloc[:,i].values,bins = bins)\n",
    "    plt.ylim(yMin,yMax)\n",
    "    plt.xticks([],[])\n",
    "    plt.yticks([],[])\n",
    "    \n",
    "    ax.spines['top'].set_visible(False)\n",
    "    ax.spines['right'].set_visible(False)\n",
    "    #ax.spines['bottom'].set_visible(False)\n",
    "    ax.spines['left'].set_visible(False)\n",
    "    \n",
    "    plt.tight_layout()\n",
    "    \n",
    "if isTasks:\n",
    "    plt.savefig('features_hist_tasks_all_scaled.png',dpi = 300)\n",
    "else:\n",
    "    plt.savefig('features_hist_skills_all_scaled.png',dpi = 300)"
   ]
  },
  {
   "cell_type": "code",
   "execution_count": 659,
   "id": "90dd2c62-81e8-4bb8-825d-0d6f169d0cbf",
   "metadata": {},
   "outputs": [
    {
     "data": {
      "text/html": [
       "<div>\n",
       "<style scoped>\n",
       "    .dataframe tbody tr th:only-of-type {\n",
       "        vertical-align: middle;\n",
       "    }\n",
       "\n",
       "    .dataframe tbody tr th {\n",
       "        vertical-align: top;\n",
       "    }\n",
       "\n",
       "    .dataframe thead th {\n",
       "        text-align: right;\n",
       "    }\n",
       "</style>\n",
       "<table border=\"1\" class=\"dataframe\">\n",
       "  <thead>\n",
       "    <tr style=\"text-align: right;\">\n",
       "      <th></th>\n",
       "      <th>n</th>\n",
       "      <th>Job Code</th>\n",
       "    </tr>\n",
       "  </thead>\n",
       "  <tbody>\n",
       "    <tr>\n",
       "      <th>0</th>\n",
       "      <td>0</td>\n",
       "      <td>11-1011.00</td>\n",
       "    </tr>\n",
       "    <tr>\n",
       "      <th>1</th>\n",
       "      <td>1</td>\n",
       "      <td>11-1011.03</td>\n",
       "    </tr>\n",
       "    <tr>\n",
       "      <th>2</th>\n",
       "      <td>2</td>\n",
       "      <td>11-1021.00</td>\n",
       "    </tr>\n",
       "    <tr>\n",
       "      <th>3</th>\n",
       "      <td>3</td>\n",
       "      <td>11-2011.00</td>\n",
       "    </tr>\n",
       "    <tr>\n",
       "      <th>4</th>\n",
       "      <td>4</td>\n",
       "      <td>11-2021.00</td>\n",
       "    </tr>\n",
       "    <tr>\n",
       "      <th>...</th>\n",
       "      <td>...</td>\n",
       "      <td>...</td>\n",
       "    </tr>\n",
       "    <tr>\n",
       "      <th>24667</th>\n",
       "      <td>962</td>\n",
       "      <td>53-7072.00</td>\n",
       "    </tr>\n",
       "    <tr>\n",
       "      <th>24668</th>\n",
       "      <td>963</td>\n",
       "      <td>53-7073.00</td>\n",
       "    </tr>\n",
       "    <tr>\n",
       "      <th>24669</th>\n",
       "      <td>964</td>\n",
       "      <td>53-7081.00</td>\n",
       "    </tr>\n",
       "    <tr>\n",
       "      <th>24670</th>\n",
       "      <td>965</td>\n",
       "      <td>53-7111.00</td>\n",
       "    </tr>\n",
       "    <tr>\n",
       "      <th>24671</th>\n",
       "      <td>966</td>\n",
       "      <td>53-7121.00</td>\n",
       "    </tr>\n",
       "  </tbody>\n",
       "</table>\n",
       "<p>24672 rows × 2 columns</p>\n",
       "</div>"
      ],
      "text/plain": [
       "         n    Job Code\n",
       "0        0  11-1011.00\n",
       "1        1  11-1011.03\n",
       "2        2  11-1021.00\n",
       "3        3  11-2011.00\n",
       "4        4  11-2021.00\n",
       "...    ...         ...\n",
       "24667  962  53-7072.00\n",
       "24668  963  53-7073.00\n",
       "24669  964  53-7081.00\n",
       "24670  965  53-7111.00\n",
       "24671  966  53-7121.00\n",
       "\n",
       "[24672 rows x 2 columns]"
      ]
     },
     "execution_count": 659,
     "metadata": {},
     "output_type": "execute_result"
    }
   ],
   "source": [
    "jobsDf"
   ]
  },
  {
   "cell_type": "code",
   "execution_count": null,
   "id": "8ed0ef5e-85e4-4f97-9273-d556393dc319",
   "metadata": {},
   "outputs": [],
   "source": [
    "encoder."
   ]
  },
  {
   "cell_type": "code",
   "execution_count": 664,
   "id": "0e8b4e1f-22ab-44f9-b66f-29be7d50684b",
   "metadata": {},
   "outputs": [
    {
     "data": {
      "image/png": "[encoded data removed]",
      "text/plain": [
       "<Figure size 432x288 with 1 Axes>"
      ]
     },
     "metadata": {
      "needs_background": "light"
     },
     "output_type": "display_data"
    },
    {
     "data": {
      "image/png": "[encoded data removed]",
      "text/plain": [
       "<Figure size 432x288 with 1 Axes>"
      ]
     },
     "metadata": {
      "needs_background": "light"
     },
     "output_type": "display_data"
    },
    {
     "data": {
      "image/png": "[encoded data removed]",
      "text/plain": [
       "<Figure size 432x288 with 1 Axes>"
      ]
     },
     "metadata": {
      "needs_background": "light"
     },
     "output_type": "display_data"
    }
   ],
   "source": [
    "iis = [17712,19896,22647]\n",
    "\n",
    "for i in range(3):\n",
    "    plt.bar(range(df.shape[1]),dfScaled.iloc[iis[i],:].values)\n",
    "    \n",
    "    if isTasks:\n",
    "        #plt.ylim(0,1.1)\n",
    "        pass\n",
    "    else:\n",
    "        plt.ylim(-2,5.0)\n",
    "        pass\n",
    "    \n",
    "    plt.title(jobDict[jobsDf.iloc[iis[i],1][:-3]][' Job Title'].capitalize()+'\\n(Rescaled)')\n",
    "\n",
    "    plt.tight_layout()\n",
    "    plt.savefig('figs/random_example_projection_{:d}_scaled.png'.format(iis[i]),dpi = 300)\n",
    "    plt.show()"
   ]
  },
  {
   "cell_type": "markdown",
   "id": "59f04e3f-8252-4ee2-878d-f7f2205dd610",
   "metadata": {},
   "source": [
    "## Encoder"
   ]
  },
  {
   "cell_type": "code",
   "execution_count": 552,
   "id": "103ab1b4-bbc1-4ab4-b650-0089451e92a6",
   "metadata": {},
   "outputs": [],
   "source": [
    "nFeatures = df.shape[1]\n",
    "\n",
    "input_data = tf.keras.layers.Input(shape=(nFeatures, ))"
   ]
  },
  {
   "cell_type": "code",
   "execution_count": 550,
   "id": "16620dd2-d55f-468b-bb6f-10413050d984",
   "metadata": {},
   "outputs": [],
   "source": [
    "nLatent = 4"
   ]
  },
  {
   "cell_type": "code",
   "execution_count": 554,
   "id": "fbff5425-75ef-49c6-9573-6786ef82f2a1",
   "metadata": {},
   "outputs": [],
   "source": [
    "if isTasks:\n",
    "    encoder = tf.keras.layers.Dense(nLatent)(input_data)\n",
    "    # Single layer for now\n",
    "else:\n",
    "    #x = tf.keras.layers.Dense(nLatent)(input_data)\n",
    "    #encoder = layers.Dense(16, activation=\"relu\")(x)\n",
    "    encoder = tf.keras.layers.Dense(nLatent)(input_data)"
   ]
  },
  {
   "cell_type": "code",
   "execution_count": 555,
   "id": "460358e9-88a7-4172-b741-cfb53755e7d9",
   "metadata": {},
   "outputs": [],
   "source": [
    "def sample_latent_features(distribution):\n",
    "    \n",
    "    distribution_mean, distribution_variance = distribution\n",
    "    \n",
    "    batch_size = tf.shape(distribution_variance)[0]\n",
    "    \n",
    "    random = tf.keras.backend.random_normal(shape=(batch_size, tf.shape(distribution_variance)[1]))\n",
    "    \n",
    "    return distribution_mean + tf.exp(0.5 * distribution_variance) * random"
   ]
  },
  {
   "cell_type": "code",
   "execution_count": 556,
   "id": "8c431ad5-884c-47da-b0e9-3c002a6cab4e",
   "metadata": {},
   "outputs": [],
   "source": [
    "distribution_mean = tf.keras.layers.Dense(nLatent, name='mean')(encoder)\n",
    "distribution_variance = tf.keras.layers.Dense(nLatent, name='log_variance')(encoder)\n",
    "latent_encoding = tf.keras.layers.Lambda(sample_latent_features)([distribution_mean, distribution_variance])"
   ]
  },
  {
   "cell_type": "code",
   "execution_count": 557,
   "id": "aa88d06d-e885-4165-a8de-629b94cf31ee",
   "metadata": {},
   "outputs": [
    {
     "name": "stdout",
     "output_type": "stream",
     "text": [
      "Model: \"model_22\"\n",
      "__________________________________________________________________________________________________\n",
      "Layer (type)                    Output Shape         Param #     Connected to                     \n",
      "==================================================================================================\n",
      "input_16 (InputLayer)           [(None, 120)]        0                                            \n",
      "__________________________________________________________________________________________________\n",
      "dense_17 (Dense)                (None, 4)            484         input_16[0][0]                   \n",
      "__________________________________________________________________________________________________\n",
      "mean (Dense)                    (None, 4)            20          dense_17[0][0]                   \n",
      "__________________________________________________________________________________________________\n",
      "log_variance (Dense)            (None, 4)            20          dense_17[0][0]                   \n",
      "__________________________________________________________________________________________________\n",
      "lambda_10 (Lambda)              (None, 4)            0           mean[0][0]                       \n",
      "                                                                 log_variance[0][0]               \n",
      "==================================================================================================\n",
      "Total params: 524\n",
      "Trainable params: 524\n",
      "Non-trainable params: 0\n",
      "__________________________________________________________________________________________________\n"
     ]
    }
   ],
   "source": [
    "encoder_model = tf.keras.Model(input_data, latent_encoding)\n",
    "encoder_model.summary()"
   ]
  },
  {
   "cell_type": "code",
   "execution_count": 558,
   "id": "b8fe24f6-87ce-4dd0-b2b6-38a9bd793d40",
   "metadata": {},
   "outputs": [],
   "source": [
    "#out = encoder_model.call(tf.convert_to_tensor(df.iloc[:,2:].values.astype(float)))\n",
    "out = encoder_model.call(tf.convert_to_tensor(dfScaled.values.astype(float)))\n"
   ]
  },
  {
   "cell_type": "code",
   "execution_count": 665,
   "id": "13cc55df-fe50-42da-8f59-9070e076d1aa",
   "metadata": {},
   "outputs": [],
   "source": [
    "out = encoder_model.call(tf.convert_to_tensor(dfScaled.iloc[iis,:].values.astype(float)))"
   ]
  },
  {
   "cell_type": "code",
   "execution_count": 675,
   "id": "59cf270d-90a6-4686-b023-a1dad425a849",
   "metadata": {},
   "outputs": [],
   "source": [
    "o = K.print_tensor(out,message = 'Values : ')"
   ]
  },
  {
   "cell_type": "code",
   "execution_count": 676,
   "id": "6efa8109-0121-4d13-b3d8-2a4361d84809",
   "metadata": {},
   "outputs": [
    {
     "data": {
      "text/plain": [
       "<tf.Tensor 'Identity_2:0' shape=(3, 4) dtype=float32>"
      ]
     },
     "execution_count": 676,
     "metadata": {},
     "output_type": "execute_result"
    }
   ],
   "source": [
    "o"
   ]
  },
  {
   "cell_type": "markdown",
   "id": "025ae710-e5d9-4617-911a-14a01c2c56de",
   "metadata": {},
   "source": [
    "## Decoder"
   ]
  },
  {
   "cell_type": "code",
   "execution_count": 559,
   "id": "0fd52fef-8674-4a43-a694-97d72dd64398",
   "metadata": {},
   "outputs": [],
   "source": [
    "decoder_input = tf.keras.layers.Input(shape=(nLatent))"
   ]
  },
  {
   "cell_type": "code",
   "execution_count": 560,
   "id": "0d8c0854-9b84-4598-ab77-b1a54af1bf33",
   "metadata": {},
   "outputs": [],
   "source": [
    "decoder_output = tf.keras.layers.Dense(nFeatures)(decoder_input)"
   ]
  },
  {
   "cell_type": "code",
   "execution_count": 561,
   "id": "983ee998-2489-4d1d-8424-6862b567998e",
   "metadata": {},
   "outputs": [],
   "source": [
    "decoder_model = tf.keras.Model(decoder_input, decoder_output)"
   ]
  },
  {
   "cell_type": "code",
   "execution_count": 562,
   "id": "b502483f-1452-4aef-ba21-8dcf219d0999",
   "metadata": {},
   "outputs": [
    {
     "name": "stdout",
     "output_type": "stream",
     "text": [
      "Model: \"model_23\"\n",
      "_________________________________________________________________\n",
      "Layer (type)                 Output Shape              Param #   \n",
      "=================================================================\n",
      "input_17 (InputLayer)        [(None, 4)]               0         \n",
      "_________________________________________________________________\n",
      "dense_18 (Dense)             (None, 120)               600       \n",
      "=================================================================\n",
      "Total params: 600\n",
      "Trainable params: 600\n",
      "Non-trainable params: 0\n",
      "_________________________________________________________________\n"
     ]
    }
   ],
   "source": [
    "decoder_model.summary()"
   ]
  },
  {
   "cell_type": "code",
   "execution_count": 563,
   "id": "0f16efb4-5ea9-4aab-a780-8957a73733ef",
   "metadata": {},
   "outputs": [
    {
     "name": "stdout",
     "output_type": "stream",
     "text": [
      "Model: \"model_24\"\n",
      "_________________________________________________________________\n",
      "Layer (type)                 Output Shape              Param #   \n",
      "=================================================================\n",
      "input_16 (InputLayer)        [(None, 120)]             0         \n",
      "_________________________________________________________________\n",
      "model_22 (Model)             (None, 4)                 524       \n",
      "_________________________________________________________________\n",
      "model_23 (Model)             (None, 120)               600       \n",
      "=================================================================\n",
      "Total params: 1,124\n",
      "Trainable params: 1,124\n",
      "Non-trainable params: 0\n",
      "_________________________________________________________________\n"
     ]
    }
   ],
   "source": [
    "encoded = encoder_model(input_data)\n",
    "decoded = decoder_model(encoded)\n",
    "autoencoder = tf.keras.models.Model(input_data, decoded)\n",
    "autoencoder.summary()"
   ]
  },
  {
   "cell_type": "markdown",
   "id": "47a5a90e-3188-4b4f-bcc7-cfc185938671",
   "metadata": {},
   "source": [
    "## Make Loss Function"
   ]
  },
  {
   "cell_type": "code",
   "execution_count": 564,
   "id": "187d0a85-1c45-4808-968c-1503e0b8a1c7",
   "metadata": {},
   "outputs": [],
   "source": [
    "def get_loss(dist_mean,dist_var):\n",
    "    def get_reconstruction_loss(y_true,y_pred):\n",
    "        reconstruction_loss = tf.keras.losses.mse(y_true,y_pred)\n",
    "        reconstruction_loss_batch = tf.reduce_mean(reconstruction_loss)\n",
    "        return reconstruction_loss_batch*df.shape[1] # Think this refers to size of input???\n",
    "    \n",
    "    def get_kl_loss(dist_mean,dist_var):\n",
    "        kl_loss = 1 + dist_var - tf.square(dist_mean) - tf.exp(dist_var)\n",
    "        kl_loss_batch = tf.reduce_mean(kl_loss)\n",
    "        return kl_loss_batch*(-0.5)\n",
    "    \n",
    "    def total_loss(y_true,y_pred):\n",
    "        reconstruction_loss_batch = get_reconstruction_loss(y_true,y_pred)\n",
    "        kl_loss_batch = get_kl_loss(dist_mean,dist_var)\n",
    "        return reconstruction_loss_batch + kl_loss_batch\n",
    "    return total_loss"
   ]
  },
  {
   "cell_type": "code",
   "execution_count": 565,
   "id": "2b39d872-640b-4a0e-88b4-ba754d7bd85d",
   "metadata": {},
   "outputs": [],
   "source": [
    "autoencoder.compile(loss=get_loss(distribution_mean, distribution_variance), optimizer='adam')"
   ]
  },
  {
   "cell_type": "code",
   "execution_count": 87,
   "id": "ff47755c-84cd-4aba-ab17-974d9ed75bc3",
   "metadata": {},
   "outputs": [],
   "source": [
    "train_data = tf.convert_to_tensor(df.iloc[0:700,2:].values.astype(float))\n",
    "test_data = tf.convert_to_tensor(df.iloc[701:,2:].values.astype(float))"
   ]
  },
  {
   "cell_type": "code",
   "execution_count": 434,
   "id": "5052c434-b102-44d8-be88-1d1e18bb1cac",
   "metadata": {},
   "outputs": [
    {
     "data": {
      "text/plain": [
       "(24672, 22204)"
      ]
     },
     "execution_count": 434,
     "metadata": {},
     "output_type": "execute_result"
    }
   ],
   "source": [
    "dfScaled.shape[0],nn"
   ]
  },
  {
   "cell_type": "code",
   "execution_count": 566,
   "id": "21fd9931-d781-4f53-9da4-7a5615667949",
   "metadata": {},
   "outputs": [],
   "source": [
    "nn = int(dfScaled.shape[0]*0.9)\n",
    "\n",
    "train_data = tf.convert_to_tensor(dfScaled.iloc[0:nn,:].values.astype(float))\n",
    "test_data = tf.convert_to_tensor(dfScaled.iloc[nn:,:].values.astype(float))"
   ]
  },
  {
   "cell_type": "code",
   "execution_count": 567,
   "id": "d4dcd70e-891e-4058-bad6-e4f737f7f76b",
   "metadata": {},
   "outputs": [
    {
     "name": "stdout",
     "output_type": "stream",
     "text": [
      "Train on 1000 samples, validate on 2468 samples\n",
      "Epoch 1/20\n",
      "1000/1000 [==============================] - 36s 36ms/step - loss: 67.4563 - val_loss: 51.8079\n",
      "Epoch 2/20\n",
      "1000/1000 [==============================] - 26s 26ms/step - loss: 49.7798 - val_loss: 47.6884\n",
      "Epoch 3/20\n",
      "1000/1000 [==============================] - 38031s 38s/step - loss: 47.9141 - val_loss: 47.0563\n",
      "Epoch 4/20\n",
      "1000/1000 [==============================] - 27s 27ms/step - loss: 47.6166 - val_loss: 46.9366\n",
      "Epoch 5/20\n",
      "1000/1000 [==============================] - 22s 22ms/step - loss: 47.5453 - val_loss: 46.8890\n",
      "Epoch 6/20\n",
      "1000/1000 [==============================] - 22s 22ms/step - loss: 47.5184 - val_loss: 46.8668\n",
      "Epoch 7/20\n",
      "1000/1000 [==============================] - 20s 20ms/step - loss: 47.5010 - val_loss: 46.8525\n",
      "Epoch 8/20\n",
      "1000/1000 [==============================] - 20s 20ms/step - loss: 47.4849 - val_loss: 46.8341\n",
      "Epoch 9/20\n",
      "1000/1000 [==============================] - 20s 20ms/step - loss: 47.4715 - val_loss: 46.8224\n",
      "Epoch 10/20\n",
      "1000/1000 [==============================] - 23s 23ms/step - loss: 47.4594 - val_loss: 46.8107\n",
      "Epoch 11/20\n",
      "1000/1000 [==============================] - 27s 27ms/step - loss: 47.4472 - val_loss: 46.7987\n",
      "Epoch 12/20\n",
      "1000/1000 [==============================] - 21s 21ms/step - loss: 47.4355 - val_loss: 46.7850\n",
      "Epoch 13/20\n",
      "1000/1000 [==============================] - 22s 22ms/step - loss: 47.4247 - val_loss: 46.7761\n",
      "Epoch 14/20\n",
      "1000/1000 [==============================] - 22s 22ms/step - loss: 47.4171 - val_loss: 46.7687\n",
      "Epoch 15/20\n",
      "1000/1000 [==============================] - ETA: 0s - loss: 47.41 - 23s 23ms/step - loss: 47.4123 - val_loss: 46.7696\n",
      "Epoch 16/20\n",
      "1000/1000 [==============================] - 23s 23ms/step - loss: 47.4100 - val_loss: 46.7670\n",
      "Epoch 17/20\n",
      "1000/1000 [==============================] - 22s 22ms/step - loss: 47.4085 - val_loss: 46.7712\n",
      "Epoch 18/20\n",
      "1000/1000 [==============================] - 20s 20ms/step - loss: 47.4074 - val_loss: 46.7647\n",
      "Epoch 19/20\n",
      "1000/1000 [==============================] - 19s 19ms/step - loss: 47.4067 - val_loss: 46.7637\n",
      "Epoch 20/20\n",
      "1000/1000 [==============================] - 19s 19ms/step - loss: 47.4058 - val_loss: 46.7646\n"
     ]
    },
    {
     "data": {
      "text/plain": [
       "<tensorflow.python.keras.callbacks.History at 0x7fee5f1d6950>"
      ]
     },
     "execution_count": 567,
     "metadata": {},
     "output_type": "execute_result"
    }
   ],
   "source": [
    "if isTasks:\n",
    "    steps_per_epoch = 1000\n",
    "    batch_size = 256\n",
    "    epochs = 20\n",
    "else:\n",
    "    steps_per_epoch = 1000\n",
    "    batch_size = 256\n",
    "    epochs = 20\n",
    "\n",
    "autoencoder.fit(train_data, train_data, epochs=epochs, batch_size=256, validation_data=(test_data, test_data),steps_per_epoch=1000,\\\n",
    "                validation_steps=30)"
   ]
  },
  {
   "cell_type": "markdown",
   "id": "58f4dbbc-37af-4271-bb14-8420c6340316",
   "metadata": {},
   "source": [
    "## Test"
   ]
  },
  {
   "cell_type": "code",
   "execution_count": 513,
   "id": "d6a05f44-0891-456a-8f8f-1c2ac0963b08",
   "metadata": {},
   "outputs": [],
   "source": [
    "df = dfScaled\n",
    "trial_data = df.iloc[7:9,:].values.astype(float)"
   ]
  },
  {
   "cell_type": "code",
   "execution_count": 492,
   "id": "e272df31-a7a4-47ef-9527-ce5f1d470f7f",
   "metadata": {},
   "outputs": [],
   "source": [
    "trial_data = df.iloc[4:6,2:].values.astype(float)"
   ]
  },
  {
   "cell_type": "code",
   "execution_count": 514,
   "id": "3c3fc558-c06a-4acf-b2aa-4f531f7f1a78",
   "metadata": {},
   "outputs": [],
   "source": [
    "trial_data_tf = tf.convert_to_tensor(trial_data)"
   ]
  },
  {
   "cell_type": "code",
   "execution_count": 515,
   "id": "8f6a3822-5a9b-4257-b643-f2ad648ed959",
   "metadata": {},
   "outputs": [],
   "source": [
    "output = autoencoder.predict(trial_data_tf,steps=10)"
   ]
  },
  {
   "cell_type": "code",
   "execution_count": 568,
   "id": "e6a142b7-7705-4e19-8ebd-b5ddfa955dc8",
   "metadata": {},
   "outputs": [
    {
     "data": {
      "image/png": "[encoded data removed]",
      "text/plain": [
       "<Figure size 432x288 with 1 Axes>"
      ]
     },
     "metadata": {
      "needs_background": "light"
     },
     "output_type": "display_data"
    }
   ],
   "source": [
    "plt.bar(range(len(output[0])),output[0])\n",
    "plt.title('Encoded & Decoded')\n",
    "plt.savefig('figs/example_encoded_decoded.png',dpi = 300)"
   ]
  },
  {
   "cell_type": "code",
   "execution_count": 569,
   "id": "6517e911-d7f9-4d6d-a9dd-edd387a2b52e",
   "metadata": {},
   "outputs": [
    {
     "data": {
      "image/png": "[encoded data removed]",
      "text/plain": [
       "<Figure size 432x288 with 1 Axes>"
      ]
     },
     "metadata": {
      "needs_background": "light"
     },
     "output_type": "display_data"
    }
   ],
   "source": [
    "plt.bar(range(len(output[0])),trial_data[0,:])\n",
    "plt.title('Original')\n",
    "plt.savefig('figs/example_original.png',dpi = 300)"
   ]
  },
  {
   "cell_type": "code",
   "execution_count": 519,
   "id": "5f9a7002-c983-4f77-9afa-dcf0474e7041",
   "metadata": {},
   "outputs": [
    {
     "data": {
      "text/plain": [
       "[<matplotlib.lines.Line2D at 0x7fee4e4b2b90>]"
      ]
     },
     "execution_count": 519,
     "metadata": {},
     "output_type": "execute_result"
    },
    {
     "data": {
      "image/png": "[encoded data removed]",
      "text/plain": [
       "<Figure size 432x288 with 1 Axes>"
      ]
     },
     "metadata": {
      "needs_background": "light"
     },
     "output_type": "display_data"
    }
   ],
   "source": [
    "plt.plot(output[0],trial_data[0,:],'.')"
   ]
  },
  {
   "cell_type": "markdown",
   "id": "86a90cb8-0112-43aa-9171-709c5c71c0a8",
   "metadata": {},
   "source": [
    "## Transform it back"
   ]
  },
  {
   "cell_type": "code",
   "execution_count": 520,
   "id": "f29c06c5-6554-44d4-80ce-b8b6c30ef324",
   "metadata": {},
   "outputs": [
    {
     "data": {
      "image/png": "[encoded data removed]",
      "text/plain": [
       "<Figure size 432x288 with 1 Axes>"
      ]
     },
     "metadata": {
      "needs_background": "light"
     },
     "output_type": "display_data"
    }
   ],
   "source": [
    "plt.bar(range(len(output[0])),scaler.inverse_transform([trial_data[1,:]])[0])\n",
    "plt.title('Original - Rescaled')\n",
    "\n",
    "if isTasks:\n",
    "    plt.ylim(0,1.1)\n",
    "else:\n",
    "    plt.ylim(0,5)"
   ]
  },
  {
   "cell_type": "code",
   "execution_count": 521,
   "id": "a09cbfe5-1ccd-46d4-8c27-66522daf51fe",
   "metadata": {},
   "outputs": [
    {
     "data": {
      "image/png": "[encoded data removed]",
      "text/plain": [
       "<Figure size 432x288 with 1 Axes>"
      ]
     },
     "metadata": {
      "needs_background": "light"
     },
     "output_type": "display_data"
    }
   ],
   "source": [
    "plt.bar(range(len(output[0])),scaler.inverse_transform([output[1]])[0])\n",
    "plt.title('Encoded & Decoded - Rescaled')\n",
    "\n",
    "if isTasks:\n",
    "    plt.ylim(0,1.1)\n",
    "else:\n",
    "    plt.ylim(0,5)"
   ]
  },
  {
   "cell_type": "code",
   "execution_count": 506,
   "id": "10cdc49f-c024-419f-9fd2-f3b83dcf34cd",
   "metadata": {},
   "outputs": [
    {
     "data": {
      "image/png": "[encoded data removed]",
      "text/plain": [
       "<Figure size 432x288 with 1 Axes>"
      ]
     },
     "metadata": {
      "needs_background": "light"
     },
     "output_type": "display_data"
    }
   ],
   "source": [
    "plt.plot(scaler.inverse_transform([output[1]])[0],scaler.inverse_transform([trial_data[1,:]])[0],'.')\n",
    "\n",
    "plt.xlabel('Encoded/Decoded')\n",
    "plt.ylabel('Original')\n",
    "\n",
    "if isTasks:\n",
    "    plt.plot([0,1],[0,1],'--')\n",
    "\n",
    "else:\n",
    "    plt.plot([1,4],[1,4],'--')\n"
   ]
  },
  {
   "cell_type": "code",
   "execution_count": 448,
   "id": "bbdf5db1-aa90-48bc-b838-f54b1920e988",
   "metadata": {},
   "outputs": [
    {
     "data": {
      "text/plain": [
       "0.007045910387502352"
      ]
     },
     "execution_count": 448,
     "metadata": {},
     "output_type": "execute_result"
    }
   ],
   "source": [
    "distance.cosine(scaler.inverse_transform([output[1]])[0],scaler.inverse_transform([trial_data[1,:]])[0])"
   ]
  },
  {
   "cell_type": "markdown",
   "id": "cb3261ff-0566-41c0-884f-252bd7571fbf",
   "metadata": {},
   "source": [
    "## Sample Latent Features"
   ]
  },
  {
   "cell_type": "code",
   "execution_count": 578,
   "id": "906d6409-e3d3-4b4f-abd2-5c1d5795cc6a",
   "metadata": {},
   "outputs": [
    {
     "data": {
      "image/png": "[encoded data removed]",
      "text/plain": [
       "<Figure size 432x288 with 1 Axes>"
      ]
     },
     "metadata": {
      "needs_background": "light"
     },
     "output_type": "display_data"
    },
    {
     "data": {
      "image/png": "[encoded data removed]",
      "text/plain": [
       "<Figure size 432x288 with 1 Axes>"
      ]
     },
     "metadata": {
      "needs_background": "light"
     },
     "output_type": "display_data"
    },
    {
     "data": {
      "image/png": "[encoded data removed]",
      "text/plain": [
       "<Figure size 432x288 with 1 Axes>"
      ]
     },
     "metadata": {
      "needs_background": "light"
     },
     "output_type": "display_data"
    },
    {
     "data": {
      "image/png": "[encoded data removed]",
      "text/plain": [
       "<Figure size 432x288 with 1 Axes>"
      ]
     },
     "metadata": {
      "needs_background": "light"
     },
     "output_type": "display_data"
    }
   ],
   "source": [
    "for n in range(nLatent):\n",
    "    inZeros = np.array([[0]*nLatent])\n",
    "    inZeros[0,n] = 1.\n",
    "    sample_data = tf.convert_to_tensor(inZeros)\n",
    "    \n",
    "    output = decoder_model.predict(sample_data,steps=10)\n",
    "    \n",
    "    plt.bar(range(len(output[0])),output[0])\n",
    "    plt.title('Latent - '+str(n))\n",
    "    plt.ylim(-0.9,0.9)\n",
    "    \n",
    "    plt.tight_layout()\n",
    "    plt.savefig('figs/latent_projections_{:d}.png'.format(n),dpi = 300)\n",
    "    plt.show()"
   ]
  },
  {
   "cell_type": "code",
   "execution_count": 526,
   "id": "e2b851fa-c2ed-4239-b399-6639de353916",
   "metadata": {},
   "outputs": [
    {
     "data": {
      "text/html": [
       "<div>\n",
       "<style scoped>\n",
       "    .dataframe tbody tr th:only-of-type {\n",
       "        vertical-align: middle;\n",
       "    }\n",
       "\n",
       "    .dataframe tbody tr th {\n",
       "        vertical-align: top;\n",
       "    }\n",
       "\n",
       "    .dataframe thead th {\n",
       "        text-align: right;\n",
       "    }\n",
       "</style>\n",
       "<table border=\"1\" class=\"dataframe\">\n",
       "  <thead>\n",
       "    <tr style=\"text-align: right;\">\n",
       "      <th></th>\n",
       "      <th>Job Code</th>\n",
       "      <th>Job Title</th>\n",
       "    </tr>\n",
       "  </thead>\n",
       "  <tbody>\n",
       "    <tr>\n",
       "      <th>0</th>\n",
       "      <td>13-2011</td>\n",
       "      <td>accountants and auditors</td>\n",
       "    </tr>\n",
       "    <tr>\n",
       "      <th>1</th>\n",
       "      <td>27-2011</td>\n",
       "      <td>actors</td>\n",
       "    </tr>\n",
       "    <tr>\n",
       "      <th>2</th>\n",
       "      <td>15-2011</td>\n",
       "      <td>actuaries</td>\n",
       "    </tr>\n",
       "    <tr>\n",
       "      <th>3</th>\n",
       "      <td>51-9191</td>\n",
       "      <td>adhesive bonding machine operators and tenders</td>\n",
       "    </tr>\n",
       "    <tr>\n",
       "      <th>4</th>\n",
       "      <td>23-1021</td>\n",
       "      <td>administrative law judges, adjudicators, and h...</td>\n",
       "    </tr>\n",
       "  </tbody>\n",
       "</table>\n",
       "</div>"
      ],
      "text/plain": [
       "  Job Code                                          Job Title\n",
       "0  13-2011                           accountants and auditors\n",
       "1  27-2011                                             actors\n",
       "2  15-2011                                          actuaries\n",
       "3  51-9191     adhesive bonding machine operators and tenders\n",
       "4  23-1021  administrative law judges, adjudicators, and h..."
      ]
     },
     "execution_count": 526,
     "metadata": {},
     "output_type": "execute_result"
    }
   ],
   "source": [
    "jobsDf.head()"
   ]
  },
  {
   "cell_type": "code",
   "execution_count": 530,
   "id": "c138fff8-8ca2-41ae-80bf-0ab88481e481",
   "metadata": {},
   "outputs": [],
   "source": [
    "out = encoder_model.call(tf.convert_to_tensor(dfScaled.iloc[0:1,:].values.astype(float)))"
   ]
  },
  {
   "cell_type": "code",
   "execution_count": 535,
   "id": "ffb5bbe5-4171-4650-998f-0ca20f346af9",
   "metadata": {},
   "outputs": [
    {
     "ename": "ValueError",
     "evalue": "Cannot evaluate tensor using `eval()`: No default session is registered. Use `with sess.as_default()` or pass an explicit session to `eval(session=sess)`",
     "output_type": "error",
     "traceback": [
      "\u001b[0;31m---------------------------------------------------------------------------\u001b[0m",
      "\u001b[0;31mValueError\u001b[0m                                Traceback (most recent call last)",
      "\u001b[0;32m/var/folders/k1/53y5f3kj0ds7q7r6fdjsn2kc0000gn/T/ipykernel_19249/1630158507.py\u001b[0m in \u001b[0;36m<module>\u001b[0;34m\u001b[0m\n\u001b[0;32m----> 1\u001b[0;31m \u001b[0mout\u001b[0m\u001b[0;34m.\u001b[0m\u001b[0meval\u001b[0m\u001b[0;34m(\u001b[0m\u001b[0;34m)\u001b[0m\u001b[0;34m\u001b[0m\u001b[0;34m\u001b[0m\u001b[0m\n\u001b[0m",
      "\u001b[0;32m~/opt/anaconda3/lib/python3.7/site-packages/tensorflow_core/python/framework/ops.py\u001b[0m in \u001b[0;36meval\u001b[0;34m(self, feed_dict, session)\u001b[0m\n\u001b[1;32m    796\u001b[0m \u001b[0;34m\u001b[0m\u001b[0m\n\u001b[1;32m    797\u001b[0m     \"\"\"\n\u001b[0;32m--> 798\u001b[0;31m     \u001b[0;32mreturn\u001b[0m \u001b[0m_eval_using_default_session\u001b[0m\u001b[0;34m(\u001b[0m\u001b[0mself\u001b[0m\u001b[0;34m,\u001b[0m \u001b[0mfeed_dict\u001b[0m\u001b[0;34m,\u001b[0m \u001b[0mself\u001b[0m\u001b[0;34m.\u001b[0m\u001b[0mgraph\u001b[0m\u001b[0;34m,\u001b[0m \u001b[0msession\u001b[0m\u001b[0;34m)\u001b[0m\u001b[0;34m\u001b[0m\u001b[0;34m\u001b[0m\u001b[0m\n\u001b[0m\u001b[1;32m    799\u001b[0m \u001b[0;34m\u001b[0m\u001b[0m\n\u001b[1;32m    800\u001b[0m   \u001b[0;32mdef\u001b[0m \u001b[0mexperimental_ref\u001b[0m\u001b[0;34m(\u001b[0m\u001b[0mself\u001b[0m\u001b[0;34m)\u001b[0m\u001b[0;34m:\u001b[0m\u001b[0;34m\u001b[0m\u001b[0;34m\u001b[0m\u001b[0m\n",
      "\u001b[0;32m~/opt/anaconda3/lib/python3.7/site-packages/tensorflow_core/python/framework/ops.py\u001b[0m in \u001b[0;36m_eval_using_default_session\u001b[0;34m(tensors, feed_dict, graph, session)\u001b[0m\n\u001b[1;32m   5391\u001b[0m     \u001b[0msession\u001b[0m \u001b[0;34m=\u001b[0m \u001b[0mget_default_session\u001b[0m\u001b[0;34m(\u001b[0m\u001b[0;34m)\u001b[0m\u001b[0;34m\u001b[0m\u001b[0;34m\u001b[0m\u001b[0m\n\u001b[1;32m   5392\u001b[0m     \u001b[0;32mif\u001b[0m \u001b[0msession\u001b[0m \u001b[0;32mis\u001b[0m \u001b[0;32mNone\u001b[0m\u001b[0;34m:\u001b[0m\u001b[0;34m\u001b[0m\u001b[0;34m\u001b[0m\u001b[0m\n\u001b[0;32m-> 5393\u001b[0;31m       raise ValueError(\"Cannot evaluate tensor using `eval()`: No default \"\n\u001b[0m\u001b[1;32m   5394\u001b[0m                        \u001b[0;34m\"session is registered. Use `with \"\u001b[0m\u001b[0;34m\u001b[0m\u001b[0;34m\u001b[0m\u001b[0m\n\u001b[1;32m   5395\u001b[0m                        \u001b[0;34m\"sess.as_default()` or pass an explicit session to \"\u001b[0m\u001b[0;34m\u001b[0m\u001b[0;34m\u001b[0m\u001b[0m\n",
      "\u001b[0;31mValueError\u001b[0m: Cannot evaluate tensor using `eval()`: No default session is registered. Use `with sess.as_default()` or pass an explicit session to `eval(session=sess)`"
     ]
    }
   ],
   "source": [
    "out.eval()"
   ]
  },
  {
   "cell_type": "markdown",
   "id": "00417dcd-eccd-427f-8ca7-3f6a13445e04",
   "metadata": {},
   "source": [
    "## Check out a few random jobs"
   ]
  },
  {
   "cell_type": "code",
   "execution_count": 451,
   "id": "376d7568-9c6b-4206-a9dc-89a328e4c21e",
   "metadata": {},
   "outputs": [],
   "source": [
    "trial_data = df.iloc[4:6,2:].values.astype(float)"
   ]
  },
  {
   "cell_type": "code",
   "execution_count": 452,
   "id": "579825c2-dcd2-4164-b67f-bc6be681bc05",
   "metadata": {
    "tags": []
   },
   "outputs": [
    {
     "data": {
      "text/plain": [
       "(1, 118)"
      ]
     },
     "execution_count": 452,
     "metadata": {},
     "output_type": "execute_result"
    }
   ],
   "source": [
    "df.sample(1).iloc[:,2:].values.shape"
   ]
  },
  {
   "cell_type": "code",
   "execution_count": 453,
   "id": "37eb98fd-5161-40f2-a4da-0d33a28b3a46",
   "metadata": {
    "collapsed": true,
    "jupyter": {
     "outputs_hidden": true
    },
    "tags": []
   },
   "outputs": [
    {
     "ename": "ValueError",
     "evalue": "shape mismatch: objects cannot be broadcast to a single shape",
     "output_type": "error",
     "traceback": [
      "\u001b[0;31m---------------------------------------------------------------------------\u001b[0m",
      "\u001b[0;31mValueError\u001b[0m                                Traceback (most recent call last)",
      "\u001b[0;32m/var/folders/k1/53y5f3kj0ds7q7r6fdjsn2kc0000gn/T/ipykernel_19249/2463530800.py\u001b[0m in \u001b[0;36m<module>\u001b[0;34m\u001b[0m\n\u001b[1;32m      1\u001b[0m \u001b[0;32mfor\u001b[0m \u001b[0mi\u001b[0m \u001b[0;32min\u001b[0m \u001b[0mrange\u001b[0m\u001b[0;34m(\u001b[0m\u001b[0;36m5\u001b[0m\u001b[0;34m)\u001b[0m\u001b[0;34m:\u001b[0m\u001b[0;34m\u001b[0m\u001b[0;34m\u001b[0m\u001b[0m\n\u001b[0;32m----> 2\u001b[0;31m     \u001b[0mplt\u001b[0m\u001b[0;34m.\u001b[0m\u001b[0mbar\u001b[0m\u001b[0;34m(\u001b[0m\u001b[0mrange\u001b[0m\u001b[0;34m(\u001b[0m\u001b[0;36m230\u001b[0m\u001b[0;34m)\u001b[0m\u001b[0;34m,\u001b[0m\u001b[0mdf\u001b[0m\u001b[0;34m.\u001b[0m\u001b[0msample\u001b[0m\u001b[0;34m(\u001b[0m\u001b[0;36m1\u001b[0m\u001b[0;34m)\u001b[0m\u001b[0;34m.\u001b[0m\u001b[0miloc\u001b[0m\u001b[0;34m[\u001b[0m\u001b[0;36m0\u001b[0m\u001b[0;34m,\u001b[0m\u001b[0;36m2\u001b[0m\u001b[0;34m:\u001b[0m\u001b[0;34m]\u001b[0m\u001b[0;34m.\u001b[0m\u001b[0mvalues\u001b[0m\u001b[0;34m)\u001b[0m\u001b[0;34m\u001b[0m\u001b[0;34m\u001b[0m\u001b[0m\n\u001b[0m\u001b[1;32m      3\u001b[0m     \u001b[0mplt\u001b[0m\u001b[0;34m.\u001b[0m\u001b[0mtitle\u001b[0m\u001b[0;34m(\u001b[0m\u001b[0;34m'Original'\u001b[0m\u001b[0;34m)\u001b[0m\u001b[0;34m\u001b[0m\u001b[0;34m\u001b[0m\u001b[0m\n\u001b[1;32m      4\u001b[0m     \u001b[0mplt\u001b[0m\u001b[0;34m.\u001b[0m\u001b[0mshow\u001b[0m\u001b[0;34m(\u001b[0m\u001b[0;34m)\u001b[0m\u001b[0;34m\u001b[0m\u001b[0;34m\u001b[0m\u001b[0m\n",
      "\u001b[0;32m~/opt/anaconda3/lib/python3.7/site-packages/matplotlib/pyplot.py\u001b[0m in \u001b[0;36mbar\u001b[0;34m(x, height, width, bottom, align, data, **kwargs)\u001b[0m\n\u001b[1;32m   2387\u001b[0m     return gca().bar(\n\u001b[1;32m   2388\u001b[0m         \u001b[0mx\u001b[0m\u001b[0;34m,\u001b[0m \u001b[0mheight\u001b[0m\u001b[0;34m,\u001b[0m \u001b[0mwidth\u001b[0m\u001b[0;34m=\u001b[0m\u001b[0mwidth\u001b[0m\u001b[0;34m,\u001b[0m \u001b[0mbottom\u001b[0m\u001b[0;34m=\u001b[0m\u001b[0mbottom\u001b[0m\u001b[0;34m,\u001b[0m \u001b[0malign\u001b[0m\u001b[0;34m=\u001b[0m\u001b[0malign\u001b[0m\u001b[0;34m,\u001b[0m\u001b[0;34m\u001b[0m\u001b[0;34m\u001b[0m\u001b[0m\n\u001b[0;32m-> 2389\u001b[0;31m         **({\"data\": data} if data is not None else {}), **kwargs)\n\u001b[0m\u001b[1;32m   2390\u001b[0m \u001b[0;34m\u001b[0m\u001b[0m\n\u001b[1;32m   2391\u001b[0m \u001b[0;34m\u001b[0m\u001b[0m\n",
      "\u001b[0;32m~/opt/anaconda3/lib/python3.7/site-packages/matplotlib/__init__.py\u001b[0m in \u001b[0;36minner\u001b[0;34m(ax, data, *args, **kwargs)\u001b[0m\n\u001b[1;32m   1410\u001b[0m     \u001b[0;32mdef\u001b[0m \u001b[0minner\u001b[0m\u001b[0;34m(\u001b[0m\u001b[0max\u001b[0m\u001b[0;34m,\u001b[0m \u001b[0;34m*\u001b[0m\u001b[0margs\u001b[0m\u001b[0;34m,\u001b[0m \u001b[0mdata\u001b[0m\u001b[0;34m=\u001b[0m\u001b[0;32mNone\u001b[0m\u001b[0;34m,\u001b[0m \u001b[0;34m**\u001b[0m\u001b[0mkwargs\u001b[0m\u001b[0;34m)\u001b[0m\u001b[0;34m:\u001b[0m\u001b[0;34m\u001b[0m\u001b[0;34m\u001b[0m\u001b[0m\n\u001b[1;32m   1411\u001b[0m         \u001b[0;32mif\u001b[0m \u001b[0mdata\u001b[0m \u001b[0;32mis\u001b[0m \u001b[0;32mNone\u001b[0m\u001b[0;34m:\u001b[0m\u001b[0;34m\u001b[0m\u001b[0;34m\u001b[0m\u001b[0m\n\u001b[0;32m-> 1412\u001b[0;31m             \u001b[0;32mreturn\u001b[0m \u001b[0mfunc\u001b[0m\u001b[0;34m(\u001b[0m\u001b[0max\u001b[0m\u001b[0;34m,\u001b[0m \u001b[0;34m*\u001b[0m\u001b[0mmap\u001b[0m\u001b[0;34m(\u001b[0m\u001b[0msanitize_sequence\u001b[0m\u001b[0;34m,\u001b[0m \u001b[0margs\u001b[0m\u001b[0;34m)\u001b[0m\u001b[0;34m,\u001b[0m \u001b[0;34m**\u001b[0m\u001b[0mkwargs\u001b[0m\u001b[0;34m)\u001b[0m\u001b[0;34m\u001b[0m\u001b[0;34m\u001b[0m\u001b[0m\n\u001b[0m\u001b[1;32m   1413\u001b[0m \u001b[0;34m\u001b[0m\u001b[0m\n\u001b[1;32m   1414\u001b[0m         \u001b[0mbound\u001b[0m \u001b[0;34m=\u001b[0m \u001b[0mnew_sig\u001b[0m\u001b[0;34m.\u001b[0m\u001b[0mbind\u001b[0m\u001b[0;34m(\u001b[0m\u001b[0max\u001b[0m\u001b[0;34m,\u001b[0m \u001b[0;34m*\u001b[0m\u001b[0margs\u001b[0m\u001b[0;34m,\u001b[0m \u001b[0;34m**\u001b[0m\u001b[0mkwargs\u001b[0m\u001b[0;34m)\u001b[0m\u001b[0;34m\u001b[0m\u001b[0;34m\u001b[0m\u001b[0m\n",
      "\u001b[0;32m~/opt/anaconda3/lib/python3.7/site-packages/matplotlib/axes/_axes.py\u001b[0m in \u001b[0;36mbar\u001b[0;34m(self, x, height, width, bottom, align, **kwargs)\u001b[0m\n\u001b[1;32m   2342\u001b[0m         x, height, width, y, linewidth, hatch = np.broadcast_arrays(\n\u001b[1;32m   2343\u001b[0m             \u001b[0;31m# Make args iterable too.\u001b[0m\u001b[0;34m\u001b[0m\u001b[0;34m\u001b[0m\u001b[0;34m\u001b[0m\u001b[0m\n\u001b[0;32m-> 2344\u001b[0;31m             np.atleast_1d(x), height, width, y, linewidth, hatch)\n\u001b[0m\u001b[1;32m   2345\u001b[0m \u001b[0;34m\u001b[0m\u001b[0m\n\u001b[1;32m   2346\u001b[0m         \u001b[0;31m# Now that units have been converted, set the tick locations.\u001b[0m\u001b[0;34m\u001b[0m\u001b[0;34m\u001b[0m\u001b[0;34m\u001b[0m\u001b[0m\n",
      "\u001b[0;32m<__array_function__ internals>\u001b[0m in \u001b[0;36mbroadcast_arrays\u001b[0;34m(*args, **kwargs)\u001b[0m\n",
      "\u001b[0;32m~/opt/anaconda3/lib/python3.7/site-packages/numpy/lib/stride_tricks.py\u001b[0m in \u001b[0;36mbroadcast_arrays\u001b[0;34m(subok, *args)\u001b[0m\n\u001b[1;32m    536\u001b[0m     \u001b[0margs\u001b[0m \u001b[0;34m=\u001b[0m \u001b[0;34m[\u001b[0m\u001b[0mnp\u001b[0m\u001b[0;34m.\u001b[0m\u001b[0marray\u001b[0m\u001b[0;34m(\u001b[0m\u001b[0m_m\u001b[0m\u001b[0;34m,\u001b[0m \u001b[0mcopy\u001b[0m\u001b[0;34m=\u001b[0m\u001b[0;32mFalse\u001b[0m\u001b[0;34m,\u001b[0m \u001b[0msubok\u001b[0m\u001b[0;34m=\u001b[0m\u001b[0msubok\u001b[0m\u001b[0;34m)\u001b[0m \u001b[0;32mfor\u001b[0m \u001b[0m_m\u001b[0m \u001b[0;32min\u001b[0m \u001b[0margs\u001b[0m\u001b[0;34m]\u001b[0m\u001b[0;34m\u001b[0m\u001b[0;34m\u001b[0m\u001b[0m\n\u001b[1;32m    537\u001b[0m \u001b[0;34m\u001b[0m\u001b[0m\n\u001b[0;32m--> 538\u001b[0;31m     \u001b[0mshape\u001b[0m \u001b[0;34m=\u001b[0m \u001b[0m_broadcast_shape\u001b[0m\u001b[0;34m(\u001b[0m\u001b[0;34m*\u001b[0m\u001b[0margs\u001b[0m\u001b[0;34m)\u001b[0m\u001b[0;34m\u001b[0m\u001b[0;34m\u001b[0m\u001b[0m\n\u001b[0m\u001b[1;32m    539\u001b[0m \u001b[0;34m\u001b[0m\u001b[0m\n\u001b[1;32m    540\u001b[0m     \u001b[0;32mif\u001b[0m \u001b[0mall\u001b[0m\u001b[0;34m(\u001b[0m\u001b[0marray\u001b[0m\u001b[0;34m.\u001b[0m\u001b[0mshape\u001b[0m \u001b[0;34m==\u001b[0m \u001b[0mshape\u001b[0m \u001b[0;32mfor\u001b[0m \u001b[0marray\u001b[0m \u001b[0;32min\u001b[0m \u001b[0margs\u001b[0m\u001b[0;34m)\u001b[0m\u001b[0;34m:\u001b[0m\u001b[0;34m\u001b[0m\u001b[0;34m\u001b[0m\u001b[0m\n",
      "\u001b[0;32m~/opt/anaconda3/lib/python3.7/site-packages/numpy/lib/stride_tricks.py\u001b[0m in \u001b[0;36m_broadcast_shape\u001b[0;34m(*args)\u001b[0m\n\u001b[1;32m    418\u001b[0m     \u001b[0;31m# use the old-iterator because np.nditer does not handle size 0 arrays\u001b[0m\u001b[0;34m\u001b[0m\u001b[0;34m\u001b[0m\u001b[0;34m\u001b[0m\u001b[0m\n\u001b[1;32m    419\u001b[0m     \u001b[0;31m# consistently\u001b[0m\u001b[0;34m\u001b[0m\u001b[0;34m\u001b[0m\u001b[0;34m\u001b[0m\u001b[0m\n\u001b[0;32m--> 420\u001b[0;31m     \u001b[0mb\u001b[0m \u001b[0;34m=\u001b[0m \u001b[0mnp\u001b[0m\u001b[0;34m.\u001b[0m\u001b[0mbroadcast\u001b[0m\u001b[0;34m(\u001b[0m\u001b[0;34m*\u001b[0m\u001b[0margs\u001b[0m\u001b[0;34m[\u001b[0m\u001b[0;34m:\u001b[0m\u001b[0;36m32\u001b[0m\u001b[0;34m]\u001b[0m\u001b[0;34m)\u001b[0m\u001b[0;34m\u001b[0m\u001b[0;34m\u001b[0m\u001b[0m\n\u001b[0m\u001b[1;32m    421\u001b[0m     \u001b[0;31m# unfortunately, it cannot handle 32 or more arguments directly\u001b[0m\u001b[0;34m\u001b[0m\u001b[0;34m\u001b[0m\u001b[0;34m\u001b[0m\u001b[0m\n\u001b[1;32m    422\u001b[0m     \u001b[0;32mfor\u001b[0m \u001b[0mpos\u001b[0m \u001b[0;32min\u001b[0m \u001b[0mrange\u001b[0m\u001b[0;34m(\u001b[0m\u001b[0;36m32\u001b[0m\u001b[0;34m,\u001b[0m \u001b[0mlen\u001b[0m\u001b[0;34m(\u001b[0m\u001b[0margs\u001b[0m\u001b[0;34m)\u001b[0m\u001b[0;34m,\u001b[0m \u001b[0;36m31\u001b[0m\u001b[0;34m)\u001b[0m\u001b[0;34m:\u001b[0m\u001b[0;34m\u001b[0m\u001b[0;34m\u001b[0m\u001b[0m\n",
      "\u001b[0;31mValueError\u001b[0m: shape mismatch: objects cannot be broadcast to a single shape"
     ]
    },
    {
     "data": {
      "image/png": "[encoded data removed]",
      "text/plain": [
       "<Figure size 432x288 with 1 Axes>"
      ]
     },
     "metadata": {
      "needs_background": "light"
     },
     "output_type": "display_data"
    }
   ],
   "source": [
    "for i in range(5):\n",
    "    plt.bar(range(230),df.sample(1).iloc[0,2:].values)\n",
    "    plt.title('Original')\n",
    "    plt.show()"
   ]
  },
  {
   "cell_type": "markdown",
   "id": "e325d958-c9b2-4a12-8b7b-ef44aec5915c",
   "metadata": {},
   "source": [
    "## Compare Distances"
   ]
  },
  {
   "cell_type": "code",
   "execution_count": 508,
   "id": "8d577445-7dfb-4fbf-af57-92e078f688f1",
   "metadata": {},
   "outputs": [],
   "source": [
    "trial_data = df.values.astype(float)\n",
    "trial_data_tf = tf.convert_to_tensor(trial_data)\n",
    "output = autoencoder.predict(trial_data_tf,steps=10)"
   ]
  },
  {
   "cell_type": "code",
   "execution_count": 509,
   "id": "7cf1e967-b7ac-4012-8b46-aff1ff81d8bb",
   "metadata": {},
   "outputs": [],
   "source": [
    "predictionDistances = []\n",
    "\n",
    "for nn in range(trial_data.shape[0]):\n",
    "    predictionDistances.append(distance.cosine(output[nn],trial_data[nn,:]))"
   ]
  },
  {
   "cell_type": "code",
   "execution_count": 510,
   "id": "16da2041-bcdf-4df8-be3e-ea66dd58b5ab",
   "metadata": {},
   "outputs": [
    {
     "name": "stdout",
     "output_type": "stream",
     "text": [
      "CPU times: user 24.9 s, sys: 142 ms, total: 25.1 s\n",
      "Wall time: 25.2 s\n"
     ]
    }
   ],
   "source": [
    "%%time\n",
    "\n",
    "pairwiseDistances = []\n",
    "minDistances = []\n",
    "\n",
    "if isTasks:\n",
    "    nn = trial_data.shape[0]\n",
    "else:\n",
    "    nn = 3600\n",
    "\n",
    "for i in range(trial_data.shape[0])[0:nn]:\n",
    "    tempDistances = np.ones(nn)\n",
    "    \n",
    "    for j in range(trial_data.shape[0])[0:nn]:\n",
    "        tempDistance = distance.cosine(trial_data[i,:],trial_data[j,:])\n",
    "        pairwiseDistances.append(tempDistance)\n",
    "        \n",
    "        if not i == j:\n",
    "            tempDistances[j] = tempDistance\n",
    "        \n",
    "    minDistances.append(np.min(tempDistances))"
   ]
  },
  {
   "cell_type": "code",
   "execution_count": 402,
   "id": "d93afdd7-2b23-44af-9665-e97ac8693918",
   "metadata": {},
   "outputs": [
    {
     "name": "stdout",
     "output_type": "stream",
     "text": [
      "CPU times: user 2min 30s, sys: 17 s, total: 2min 47s\n",
      "Wall time: 2min 48s\n"
     ]
    }
   ],
   "source": [
    "%%time\n",
    "\n",
    "sampleDistances = []\n",
    "\n",
    "for n in range(100):\n",
    "    latentActivations = np.random.random(size=(1,nLatent))\n",
    "    sample_data = tf.convert_to_tensor(latentActivations)\n",
    "\n",
    "    output = decoder_model.predict(sample_data,steps=10)\n",
    "    \n",
    "    distances = np.zeros(trial_data.shape[0])\n",
    "    \n",
    "    for i in range(trial_data.shape[0]):\n",
    "        distances[i] = distance.cosine(trial_data[i,:],output[0])\n",
    "    \n",
    "    sampleDistances.append(np.min(distances))"
   ]
  },
  {
   "cell_type": "code",
   "execution_count": 408,
   "id": "9bd46b2f-018a-4bf3-9a71-bca64ca696e1",
   "metadata": {},
   "outputs": [
    {
     "data": {
      "text/plain": [
       "(0.0, 0.4)"
      ]
     },
     "execution_count": 408,
     "metadata": {},
     "output_type": "execute_result"
    },
    {
     "data": {
      "image/png": "[encoded data removed]",
      "text/plain": [
       "<Figure size 432x288 with 1 Axes>"
      ]
     },
     "metadata": {
      "needs_background": "light"
     },
     "output_type": "display_data"
    }
   ],
   "source": [
    "sns.violinplot(data=[sampleDistances,minDistances])\n",
    "plt.xticks([0,1],['Samples','Pairwise'])\n",
    "plt.ylim(0,0.4)"
   ]
  },
  {
   "cell_type": "code",
   "execution_count": 71,
   "id": "37394f01-c6cd-40e4-9789-02d21b6f2c23",
   "metadata": {},
   "outputs": [
    {
     "name": "stdout",
     "output_type": "stream",
     "text": [
      "Sample Mean = 0.033\n",
      "Pairwise Mean = 0.042\n"
     ]
    }
   ],
   "source": [
    "print('Sample Mean = {:.3f}'.format(np.mean(sampleDistances)))\n",
    "print('Pairwise Mean = {:.3f}'.format(np.mean(minDistances)))"
   ]
  },
  {
   "cell_type": "code",
   "execution_count": 574,
   "id": "a0f4a963-762b-43d2-ae57-7ebf32b58a2a",
   "metadata": {},
   "outputs": [
    {
     "name": "stderr",
     "output_type": "stream",
     "text": [
      "/Users/alexisrutherford/opt/anaconda3/lib/python3.7/site-packages/ipykernel_launcher.py:5: MatplotlibDeprecationWarning: savefig() got unexpected keyword argument \"tight_layout\" which is no longer supported as of 3.3 and will become an error two minor releases later\n",
      "  \"\"\"\n"
     ]
    },
    {
     "data": {
      "image/png": "[encoded data removed]",
      "text/plain": [
       "<Figure size 432x288 with 1 Axes>"
      ]
     },
     "metadata": {
      "needs_background": "light"
     },
     "output_type": "display_data"
    }
   ],
   "source": [
    "sns.violinplot(data=[predictionDistances,pairwiseDistances])\n",
    "plt.xticks([0,1],['Predictions','Pairwise'])\n",
    "plt.ylabel('Distance')\n",
    "plt.tight_layout()\n",
    "plt.savefig('figs/predictions_pairwise_boxplot.png', dpi = 300, tight_layout = True)"
   ]
  },
  {
   "cell_type": "code",
   "execution_count": 572,
   "id": "60e18582-0a0c-4075-b563-f6930c960ce0",
   "metadata": {},
   "outputs": [
    {
     "name": "stdout",
     "output_type": "stream",
     "text": [
      "Predictions Mean = 0.281\n",
      "Pairwise Mean = 0.252\n"
     ]
    }
   ],
   "source": [
    "print('Predictions Mean = {:.3f}'.format(np.mean(predictionDistances)))\n",
    "print('Pairwise Mean = {:.3f}'.format(np.mean(minDistances)))"
   ]
  },
  {
   "cell_type": "code",
   "execution_count": null,
   "id": "c50bfc47-0fbc-43b4-99b3-876c914d46bc",
   "metadata": {},
   "outputs": [],
   "source": []
  }
 ],
 "metadata": {
  "kernelspec": {
   "display_name": "Python 3 (ipykernel)",
   "language": "python",
   "name": "python3"
  },
  "language_info": {
   "codemirror_mode": {
    "name": "ipython",
    "version": 3
   },
   "file_extension": ".py",
   "mimetype": "text/x-python",
   "name": "python",
   "nbconvert_exporter": "python",
   "pygments_lexer": "ipython3",
   "version": "3.7.11"
  }
 },
 "nbformat": 4,
 "nbformat_minor": 5
}
