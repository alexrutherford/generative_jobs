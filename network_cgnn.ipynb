{
 "cells": [
  {
   "cell_type": "code",
   "execution_count": 4,
   "id": "9b389352-a499-4807-a9e3-8be3ffc4a6d8",
   "metadata": {},
   "outputs": [],
   "source": [
    "from torch_geometric.data import Data\n",
    "from torch_geometric.nn import GCNConv\n",
    "import torch\n",
    "import torch.nn.functional as F\n",
    "from torch.autograd import Variable\n",
    "\n",
    "import pandas as pd\n",
    "import numpy as np\n",
    "import matplotlib.pyplot as plt\n",
    "import seaborn as sns"
   ]
  },
  {
   "cell_type": "code",
   "execution_count": 1,
   "id": "422633d9-a30c-426b-940d-8d31d8e366f2",
   "metadata": {},
   "outputs": [
    {
     "name": "stdout",
     "output_type": "stream",
     "text": [
      "/Users/alexisrutherford/Desktop/foh_vae\n"
     ]
    }
   ],
   "source": [
    "!pwd"
   ]
  },
  {
   "cell_type": "code",
   "execution_count": 5,
   "id": "548be65e-d598-4d0c-963e-a9e7604687be",
   "metadata": {},
   "outputs": [],
   "source": [
    "df = pd.read_csv('MergedData.csv')"
   ]
  },
  {
   "cell_type": "code",
   "execution_count": 7,
   "id": "96fecd0e-ad41-4841-ba85-50dc43c14baa",
   "metadata": {},
   "outputs": [],
   "source": [
    "df = df.iloc[:,1:]"
   ]
  },
  {
   "cell_type": "code",
   "execution_count": 8,
   "id": "c0dfdef8-1361-4a0a-9446-c7907951ac4a",
   "metadata": {},
   "outputs": [],
   "source": [
    "df = df.iloc[:,1:]"
   ]
  },
  {
   "cell_type": "code",
   "execution_count": 9,
   "id": "6eec1c90-8424-4564-a2d2-9be92c717e5b",
   "metadata": {},
   "outputs": [
    {
     "data": {
      "text/html": [
       "<div>\n",
       "<style scoped>\n",
       "    .dataframe tbody tr th:only-of-type {\n",
       "        vertical-align: middle;\n",
       "    }\n",
       "\n",
       "    .dataframe tbody tr th {\n",
       "        vertical-align: top;\n",
       "    }\n",
       "\n",
       "    .dataframe thead th {\n",
       "        text-align: right;\n",
       "    }\n",
       "</style>\n",
       "<table border=\"1\" class=\"dataframe\">\n",
       "  <thead>\n",
       "    <tr style=\"text-align: right;\">\n",
       "      <th></th>\n",
       "      <th>Probability</th>\n",
       "      <th>Achievement</th>\n",
       "      <th>Independence</th>\n",
       "      <th>Recognition</th>\n",
       "      <th>Relationships</th>\n",
       "      <th>Support</th>\n",
       "      <th>Working Conditions</th>\n",
       "    </tr>\n",
       "  </thead>\n",
       "  <tbody>\n",
       "    <tr>\n",
       "      <th>0</th>\n",
       "      <td>0.015</td>\n",
       "      <td>6.50</td>\n",
       "      <td>6.835</td>\n",
       "      <td>6.500</td>\n",
       "      <td>5.00</td>\n",
       "      <td>4.33</td>\n",
       "      <td>6.33</td>\n",
       "    </tr>\n",
       "    <tr>\n",
       "      <th>1</th>\n",
       "      <td>0.160</td>\n",
       "      <td>5.33</td>\n",
       "      <td>6.000</td>\n",
       "      <td>5.670</td>\n",
       "      <td>6.33</td>\n",
       "      <td>4.67</td>\n",
       "      <td>6.00</td>\n",
       "    </tr>\n",
       "    <tr>\n",
       "      <th>2</th>\n",
       "      <td>0.039</td>\n",
       "      <td>5.33</td>\n",
       "      <td>5.330</td>\n",
       "      <td>5.165</td>\n",
       "      <td>5.00</td>\n",
       "      <td>4.00</td>\n",
       "      <td>5.08</td>\n",
       "    </tr>\n",
       "    <tr>\n",
       "      <th>3</th>\n",
       "      <td>0.014</td>\n",
       "      <td>6.00</td>\n",
       "      <td>5.670</td>\n",
       "      <td>5.330</td>\n",
       "      <td>5.67</td>\n",
       "      <td>5.00</td>\n",
       "      <td>6.17</td>\n",
       "    </tr>\n",
       "    <tr>\n",
       "      <th>4</th>\n",
       "      <td>0.013</td>\n",
       "      <td>5.33</td>\n",
       "      <td>5.670</td>\n",
       "      <td>4.670</td>\n",
       "      <td>4.00</td>\n",
       "      <td>5.33</td>\n",
       "      <td>5.50</td>\n",
       "    </tr>\n",
       "  </tbody>\n",
       "</table>\n",
       "</div>"
      ],
      "text/plain": [
       "   Probability  Achievement  Independence  Recognition  Relationships  \\\n",
       "0        0.015         6.50         6.835        6.500           5.00   \n",
       "1        0.160         5.33         6.000        5.670           6.33   \n",
       "2        0.039         5.33         5.330        5.165           5.00   \n",
       "3        0.014         6.00         5.670        5.330           5.67   \n",
       "4        0.013         5.33         5.670        4.670           4.00   \n",
       "\n",
       "   Support  Working Conditions  \n",
       "0     4.33                6.33  \n",
       "1     4.67                6.00  \n",
       "2     4.00                5.08  \n",
       "3     5.00                6.17  \n",
       "4     5.33                5.50  "
      ]
     },
     "execution_count": 9,
     "metadata": {},
     "output_type": "execute_result"
    }
   ],
   "source": [
    "df.head()"
   ]
  },
  {
   "cell_type": "code",
   "execution_count": 10,
   "id": "69efbf8a-3814-42c9-ad1e-cbd442ef6905",
   "metadata": {},
   "outputs": [],
   "source": [
    "dfNet = pd.read_csv('adjMat.csv')"
   ]
  },
  {
   "cell_type": "code",
   "execution_count": 11,
   "id": "520b9cc1-52da-47c5-a19f-68121bac1c6d",
   "metadata": {},
   "outputs": [],
   "source": [
    "dfNet.set_index(dfNet.iloc[:,0],inplace = True)"
   ]
  },
  {
   "cell_type": "code",
   "execution_count": 12,
   "id": "8cd3e8ee-1c51-4821-8095-018ed93e8765",
   "metadata": {},
   "outputs": [],
   "source": [
    "dfNet.set_index(dfNet.iloc[:,0],inplace = True)"
   ]
  },
  {
   "cell_type": "code",
   "execution_count": 13,
   "id": "87eb9bb8-bca0-431e-9aed-caf598314d07",
   "metadata": {},
   "outputs": [],
   "source": [
    "dfNet = dfNet.iloc[:,1:]"
   ]
  },
  {
   "cell_type": "code",
   "execution_count": 14,
   "id": "fc0e1f56-e9af-4405-97d4-9cbb25d2c128",
   "metadata": {},
   "outputs": [
    {
     "data": {
      "text/html": [
       "<div>\n",
       "<style scoped>\n",
       "    .dataframe tbody tr th:only-of-type {\n",
       "        vertical-align: middle;\n",
       "    }\n",
       "\n",
       "    .dataframe tbody tr th {\n",
       "        vertical-align: top;\n",
       "    }\n",
       "\n",
       "    .dataframe thead th {\n",
       "        text-align: right;\n",
       "    }\n",
       "</style>\n",
       "<table border=\"1\" class=\"dataframe\">\n",
       "  <thead>\n",
       "    <tr style=\"text-align: right;\">\n",
       "      <th></th>\n",
       "      <th>11-1011</th>\n",
       "      <th>11-1021</th>\n",
       "      <th>11-2011</th>\n",
       "      <th>11-2021</th>\n",
       "      <th>11-2022</th>\n",
       "      <th>11-2031</th>\n",
       "      <th>11-3011</th>\n",
       "      <th>11-3021</th>\n",
       "      <th>11-3031</th>\n",
       "      <th>11-3051</th>\n",
       "      <th>...</th>\n",
       "      <th>53-7061</th>\n",
       "      <th>53-7062</th>\n",
       "      <th>53-7063</th>\n",
       "      <th>53-7064</th>\n",
       "      <th>53-7071</th>\n",
       "      <th>53-7072</th>\n",
       "      <th>53-7073</th>\n",
       "      <th>53-7081</th>\n",
       "      <th>53-7111</th>\n",
       "      <th>53-7121</th>\n",
       "    </tr>\n",
       "    <tr>\n",
       "      <th>Unnamed: 0</th>\n",
       "      <th></th>\n",
       "      <th></th>\n",
       "      <th></th>\n",
       "      <th></th>\n",
       "      <th></th>\n",
       "      <th></th>\n",
       "      <th></th>\n",
       "      <th></th>\n",
       "      <th></th>\n",
       "      <th></th>\n",
       "      <th></th>\n",
       "      <th></th>\n",
       "      <th></th>\n",
       "      <th></th>\n",
       "      <th></th>\n",
       "      <th></th>\n",
       "      <th></th>\n",
       "      <th></th>\n",
       "      <th></th>\n",
       "      <th></th>\n",
       "      <th></th>\n",
       "    </tr>\n",
       "  </thead>\n",
       "  <tbody>\n",
       "    <tr>\n",
       "      <th>11-1011</th>\n",
       "      <td>0.000000</td>\n",
       "      <td>0.503597</td>\n",
       "      <td>0.656489</td>\n",
       "      <td>0.705882</td>\n",
       "      <td>0.640288</td>\n",
       "      <td>0.686567</td>\n",
       "      <td>0.618705</td>\n",
       "      <td>0.598540</td>\n",
       "      <td>0.633094</td>\n",
       "      <td>0.312500</td>\n",
       "      <td>...</td>\n",
       "      <td>0.092308</td>\n",
       "      <td>0.046154</td>\n",
       "      <td>0.104712</td>\n",
       "      <td>0.198895</td>\n",
       "      <td>0.107527</td>\n",
       "      <td>0.112299</td>\n",
       "      <td>0.119565</td>\n",
       "      <td>0.071795</td>\n",
       "      <td>0.085561</td>\n",
       "      <td>0.111702</td>\n",
       "    </tr>\n",
       "    <tr>\n",
       "      <th>11-1021</th>\n",
       "      <td>0.503597</td>\n",
       "      <td>0.000000</td>\n",
       "      <td>0.492308</td>\n",
       "      <td>0.503597</td>\n",
       "      <td>0.496350</td>\n",
       "      <td>0.549618</td>\n",
       "      <td>0.590551</td>\n",
       "      <td>0.507692</td>\n",
       "      <td>0.545455</td>\n",
       "      <td>0.416667</td>\n",
       "      <td>...</td>\n",
       "      <td>0.158537</td>\n",
       "      <td>0.138365</td>\n",
       "      <td>0.125749</td>\n",
       "      <td>0.204969</td>\n",
       "      <td>0.122699</td>\n",
       "      <td>0.170886</td>\n",
       "      <td>0.150943</td>\n",
       "      <td>0.155280</td>\n",
       "      <td>0.118012</td>\n",
       "      <td>0.177215</td>\n",
       "    </tr>\n",
       "    <tr>\n",
       "      <th>11-2011</th>\n",
       "      <td>0.656489</td>\n",
       "      <td>0.492308</td>\n",
       "      <td>0.000000</td>\n",
       "      <td>0.722222</td>\n",
       "      <td>0.601504</td>\n",
       "      <td>0.674603</td>\n",
       "      <td>0.590909</td>\n",
       "      <td>0.511111</td>\n",
       "      <td>0.630769</td>\n",
       "      <td>0.226415</td>\n",
       "      <td>...</td>\n",
       "      <td>0.093923</td>\n",
       "      <td>0.080000</td>\n",
       "      <td>0.082873</td>\n",
       "      <td>0.160920</td>\n",
       "      <td>0.067039</td>\n",
       "      <td>0.084270</td>\n",
       "      <td>0.091429</td>\n",
       "      <td>0.077778</td>\n",
       "      <td>0.080460</td>\n",
       "      <td>0.071823</td>\n",
       "    </tr>\n",
       "    <tr>\n",
       "      <th>11-2021</th>\n",
       "      <td>0.705882</td>\n",
       "      <td>0.503597</td>\n",
       "      <td>0.722222</td>\n",
       "      <td>0.000000</td>\n",
       "      <td>0.676471</td>\n",
       "      <td>0.779528</td>\n",
       "      <td>0.666667</td>\n",
       "      <td>0.598540</td>\n",
       "      <td>0.759690</td>\n",
       "      <td>0.312500</td>\n",
       "      <td>...</td>\n",
       "      <td>0.097938</td>\n",
       "      <td>0.085106</td>\n",
       "      <td>0.098958</td>\n",
       "      <td>0.166667</td>\n",
       "      <td>0.084211</td>\n",
       "      <td>0.089005</td>\n",
       "      <td>0.095745</td>\n",
       "      <td>0.077320</td>\n",
       "      <td>0.079787</td>\n",
       "      <td>0.100000</td>\n",
       "    </tr>\n",
       "    <tr>\n",
       "      <th>11-2022</th>\n",
       "      <td>0.640288</td>\n",
       "      <td>0.496350</td>\n",
       "      <td>0.601504</td>\n",
       "      <td>0.676471</td>\n",
       "      <td>0.000000</td>\n",
       "      <td>0.681818</td>\n",
       "      <td>0.625000</td>\n",
       "      <td>0.546763</td>\n",
       "      <td>0.689394</td>\n",
       "      <td>0.295597</td>\n",
       "      <td>...</td>\n",
       "      <td>0.123656</td>\n",
       "      <td>0.117318</td>\n",
       "      <td>0.125000</td>\n",
       "      <td>0.189944</td>\n",
       "      <td>0.109890</td>\n",
       "      <td>0.127072</td>\n",
       "      <td>0.128492</td>\n",
       "      <td>0.114130</td>\n",
       "      <td>0.117978</td>\n",
       "      <td>0.132597</td>\n",
       "    </tr>\n",
       "  </tbody>\n",
       "</table>\n",
       "<p>5 rows × 736 columns</p>\n",
       "</div>"
      ],
      "text/plain": [
       "             11-1011   11-1021   11-2011   11-2021   11-2022   11-2031  \\\n",
       "Unnamed: 0                                                               \n",
       "11-1011     0.000000  0.503597  0.656489  0.705882  0.640288  0.686567   \n",
       "11-1021     0.503597  0.000000  0.492308  0.503597  0.496350  0.549618   \n",
       "11-2011     0.656489  0.492308  0.000000  0.722222  0.601504  0.674603   \n",
       "11-2021     0.705882  0.503597  0.722222  0.000000  0.676471  0.779528   \n",
       "11-2022     0.640288  0.496350  0.601504  0.676471  0.000000  0.681818   \n",
       "\n",
       "             11-3011   11-3021   11-3031   11-3051  ...   53-7061   53-7062  \\\n",
       "Unnamed: 0                                          ...                       \n",
       "11-1011     0.618705  0.598540  0.633094  0.312500  ...  0.092308  0.046154   \n",
       "11-1021     0.590551  0.507692  0.545455  0.416667  ...  0.158537  0.138365   \n",
       "11-2011     0.590909  0.511111  0.630769  0.226415  ...  0.093923  0.080000   \n",
       "11-2021     0.666667  0.598540  0.759690  0.312500  ...  0.097938  0.085106   \n",
       "11-2022     0.625000  0.546763  0.689394  0.295597  ...  0.123656  0.117318   \n",
       "\n",
       "             53-7063   53-7064   53-7071   53-7072   53-7073   53-7081  \\\n",
       "Unnamed: 0                                                               \n",
       "11-1011     0.104712  0.198895  0.107527  0.112299  0.119565  0.071795   \n",
       "11-1021     0.125749  0.204969  0.122699  0.170886  0.150943  0.155280   \n",
       "11-2011     0.082873  0.160920  0.067039  0.084270  0.091429  0.077778   \n",
       "11-2021     0.098958  0.166667  0.084211  0.089005  0.095745  0.077320   \n",
       "11-2022     0.125000  0.189944  0.109890  0.127072  0.128492  0.114130   \n",
       "\n",
       "             53-7111   53-7121  \n",
       "Unnamed: 0                      \n",
       "11-1011     0.085561  0.111702  \n",
       "11-1021     0.118012  0.177215  \n",
       "11-2011     0.080460  0.071823  \n",
       "11-2021     0.079787  0.100000  \n",
       "11-2022     0.117978  0.132597  \n",
       "\n",
       "[5 rows x 736 columns]"
      ]
     },
     "execution_count": 14,
     "metadata": {},
     "output_type": "execute_result"
    }
   ],
   "source": [
    "dfNet.head()"
   ]
  },
  {
   "cell_type": "markdown",
   "id": "34775a51-ef0a-4659-beab-45696d4e6382",
   "metadata": {},
   "source": [
    "## Binary weights"
   ]
  },
  {
   "cell_type": "code",
   "execution_count": 15,
   "id": "c85ce558-8de8-4879-af8d-15528fd142f9",
   "metadata": {},
   "outputs": [],
   "source": [
    "dfBin = dfNet > 0.3"
   ]
  },
  {
   "cell_type": "code",
   "execution_count": 16,
   "id": "f4fe7cd8-7805-4854-90bc-ccc7eac1a8a5",
   "metadata": {},
   "outputs": [],
   "source": [
    "edges1 = []\n",
    "edges2 = []\n",
    "edges = []\n",
    "\n",
    "for i in range(df.shape[0]):\n",
    "    for j in range(i+1,df.shape[0]):\n",
    "        if dfBin.iloc[i,j]:\n",
    "            edges.extend([[i,j],[j,i]])\n",
    "            \n",
    "            edges1.extend([i,j])\n",
    "            edges2.extend([i,j])\n",
    "            "
   ]
  },
  {
   "cell_type": "code",
   "execution_count": 100,
   "id": "5ad284f6-f352-4fd3-8a25-243526166dd8",
   "metadata": {},
   "outputs": [],
   "source": [
    "edge_index = torch.tensor([edges1,edges2], dtype=torch.long)"
   ]
  },
  {
   "cell_type": "code",
   "execution_count": 101,
   "id": "93de6bf3-d5bf-461d-acd5-396a643ca639",
   "metadata": {},
   "outputs": [
    {
     "data": {
      "text/plain": [
       "270480.0"
      ]
     },
     "execution_count": 101,
     "metadata": {},
     "output_type": "execute_result"
    }
   ],
   "source": [
    "(df.shape[0]*(df.shape[0] - 1))/2"
   ]
  },
  {
   "cell_type": "code",
   "execution_count": 102,
   "id": "592979ad-9f63-4fba-8bfc-474d13bf81fb",
   "metadata": {},
   "outputs": [
    {
     "data": {
      "text/plain": [
       "torch.Size([2, 259000])"
      ]
     },
     "execution_count": 102,
     "metadata": {},
     "output_type": "execute_result"
    }
   ],
   "source": [
    "edge_index.shape"
   ]
  },
  {
   "cell_type": "markdown",
   "id": "ccaf3c41-3c6f-480c-815d-a50def29ed36",
   "metadata": {},
   "source": [
    "## Weighted"
   ]
  },
  {
   "cell_type": "code",
   "execution_count": 748,
   "id": "27edd35c-fe0a-47be-b8d4-e4a1667dc6fa",
   "metadata": {},
   "outputs": [],
   "source": [
    "from itertools import combinations_with_replacement,combinations"
   ]
  },
  {
   "cell_type": "code",
   "execution_count": 749,
   "id": "d9fc1ca7-ea77-4a66-8860-a3db3ae30581",
   "metadata": {},
   "outputs": [
    {
     "data": {
      "text/plain": [
       "[(0, 0), (0, 1), (0, 2), (1, 1), (1, 2), (2, 2)]"
      ]
     },
     "execution_count": 749,
     "metadata": {},
     "output_type": "execute_result"
    }
   ],
   "source": [
    "list(combinations_with_replacement(range(3),2))"
   ]
  },
  {
   "cell_type": "code",
   "execution_count": null,
   "id": "02569d98-d79a-4877-8cbc-647e896f469f",
   "metadata": {},
   "outputs": [],
   "source": []
  },
  {
   "cell_type": "code",
   "execution_count": 103,
   "id": "0a5b9778-d6a0-453f-bd50-4500a6690ae9",
   "metadata": {
    "tags": []
   },
   "outputs": [],
   "source": [
    "x = torch.tensor(df.values, dtype=torch.float)"
   ]
  },
  {
   "cell_type": "code",
   "execution_count": 104,
   "id": "11f03001-944a-469f-91af-a32bae7bdcf6",
   "metadata": {},
   "outputs": [],
   "source": [
    "y = torch.tensor(df['Working Conditions'].values, dtype=torch.float)\n",
    "# Try making target the work value itself"
   ]
  },
  {
   "cell_type": "code",
   "execution_count": 58,
   "id": "1c977544-8ff7-426b-9fa1-eff9f24366a4",
   "metadata": {},
   "outputs": [
    {
     "data": {
      "text/html": [
       "<div>\n",
       "<style scoped>\n",
       "    .dataframe tbody tr th:only-of-type {\n",
       "        vertical-align: middle;\n",
       "    }\n",
       "\n",
       "    .dataframe tbody tr th {\n",
       "        vertical-align: top;\n",
       "    }\n",
       "\n",
       "    .dataframe thead th {\n",
       "        text-align: right;\n",
       "    }\n",
       "</style>\n",
       "<table border=\"1\" class=\"dataframe\">\n",
       "  <thead>\n",
       "    <tr style=\"text-align: right;\">\n",
       "      <th></th>\n",
       "      <th>Probability</th>\n",
       "      <th>Achievement</th>\n",
       "      <th>Independence</th>\n",
       "      <th>Recognition</th>\n",
       "      <th>Relationships</th>\n",
       "      <th>Support</th>\n",
       "      <th>Working Conditions</th>\n",
       "    </tr>\n",
       "  </thead>\n",
       "  <tbody>\n",
       "    <tr>\n",
       "      <th>0</th>\n",
       "      <td>0.015</td>\n",
       "      <td>6.50</td>\n",
       "      <td>6.835</td>\n",
       "      <td>6.500</td>\n",
       "      <td>5.00</td>\n",
       "      <td>4.33</td>\n",
       "      <td>6.33</td>\n",
       "    </tr>\n",
       "    <tr>\n",
       "      <th>1</th>\n",
       "      <td>0.160</td>\n",
       "      <td>5.33</td>\n",
       "      <td>6.000</td>\n",
       "      <td>5.670</td>\n",
       "      <td>6.33</td>\n",
       "      <td>4.67</td>\n",
       "      <td>6.00</td>\n",
       "    </tr>\n",
       "    <tr>\n",
       "      <th>2</th>\n",
       "      <td>0.039</td>\n",
       "      <td>5.33</td>\n",
       "      <td>5.330</td>\n",
       "      <td>5.165</td>\n",
       "      <td>5.00</td>\n",
       "      <td>4.00</td>\n",
       "      <td>5.08</td>\n",
       "    </tr>\n",
       "    <tr>\n",
       "      <th>3</th>\n",
       "      <td>0.014</td>\n",
       "      <td>6.00</td>\n",
       "      <td>5.670</td>\n",
       "      <td>5.330</td>\n",
       "      <td>5.67</td>\n",
       "      <td>5.00</td>\n",
       "      <td>6.17</td>\n",
       "    </tr>\n",
       "    <tr>\n",
       "      <th>4</th>\n",
       "      <td>0.013</td>\n",
       "      <td>5.33</td>\n",
       "      <td>5.670</td>\n",
       "      <td>4.670</td>\n",
       "      <td>4.00</td>\n",
       "      <td>5.33</td>\n",
       "      <td>5.50</td>\n",
       "    </tr>\n",
       "  </tbody>\n",
       "</table>\n",
       "</div>"
      ],
      "text/plain": [
       "   Probability  Achievement  Independence  Recognition  Relationships  \\\n",
       "0        0.015         6.50         6.835        6.500           5.00   \n",
       "1        0.160         5.33         6.000        5.670           6.33   \n",
       "2        0.039         5.33         5.330        5.165           5.00   \n",
       "3        0.014         6.00         5.670        5.330           5.67   \n",
       "4        0.013         5.33         5.670        4.670           4.00   \n",
       "\n",
       "   Support  Working Conditions  \n",
       "0     4.33                6.33  \n",
       "1     4.67                6.00  \n",
       "2     4.00                5.08  \n",
       "3     5.00                6.17  \n",
       "4     5.33                5.50  "
      ]
     },
     "execution_count": 58,
     "metadata": {},
     "output_type": "execute_result"
    }
   ],
   "source": [
    "df.head()"
   ]
  },
  {
   "cell_type": "code",
   "execution_count": 22,
   "id": "fbdc6777-10a3-4bda-9487-9b6c8a448c07",
   "metadata": {
    "collapsed": true,
    "jupyter": {
     "outputs_hidden": true
    },
    "tags": []
   },
   "outputs": [
    {
     "data": {
      "image/png": "[encoded data removed]",
      "text/plain": [
       "<Figure size 432x288 with 1 Axes>"
      ]
     },
     "metadata": {
      "needs_background": "light"
     },
     "output_type": "display_data"
    },
    {
     "data": {
      "image/png": "[encoded data removed]",
      "text/plain": [
       "<Figure size 432x288 with 1 Axes>"
      ]
     },
     "metadata": {
      "needs_background": "light"
     },
     "output_type": "display_data"
    },
    {
     "data": {
      "image/png": "[encoded data removed]",
      "text/plain": [
       "<Figure size 432x288 with 1 Axes>"
      ]
     },
     "metadata": {
      "needs_background": "light"
     },
     "output_type": "display_data"
    },
    {
     "data": {
      "image/png": "[encoded data removed]",
      "text/plain": [
       "<Figure size 432x288 with 1 Axes>"
      ]
     },
     "metadata": {
      "needs_background": "light"
     },
     "output_type": "display_data"
    },
    {
     "data": {
      "image/png": "[encoded data removed]",
      "text/plain": [
       "<Figure size 432x288 with 1 Axes>"
      ]
     },
     "metadata": {
      "needs_background": "light"
     },
     "output_type": "display_data"
    },
    {
     "data": {
      "image/png": "[encoded data removed]",
      "text/plain": [
       "<Figure size 432x288 with 1 Axes>"
      ]
     },
     "metadata": {
      "needs_background": "light"
     },
     "output_type": "display_data"
    },
    {
     "data": {
      "image/png": "[encoded data removed]",
      "text/plain": [
       "<Figure size 432x288 with 1 Axes>"
      ]
     },
     "metadata": {
      "needs_background": "light"
     },
     "output_type": "display_data"
    }
   ],
   "source": [
    "for c in df.columns:\n",
    "\n",
    "    fig, ax = plt.subplots()\n",
    "        \n",
    "    if c == 'Probability':\n",
    "        plt.xlim(0,1.0)\n",
    "        \n",
    "    else:\n",
    "        plt.xlim(0,7)\n",
    "\n",
    "    plt.hist(df[c],bins = 10)\n",
    "    \n",
    "    plt.title(c)\n",
    "    \n",
    "    ax.spines['top'].set_visible(False)\n",
    "    ax.spines['right'].set_visible(False)\n",
    "    \n",
    "    plt.ylim(0,250)\n",
    "\n",
    "        \n",
    "    plt.savefig('figs/hist_{:s}.png'.format(c.lower()),dpi = 300)"
   ]
  },
  {
   "cell_type": "code",
   "execution_count": 23,
   "id": "3d469597-7197-4b45-ad96-364aa5c07228",
   "metadata": {},
   "outputs": [],
   "source": [
    "!rm figs/hist_all.png\n",
    "!montage -geometry +0+0 -tile 2x4 figs/hist*png figs/hist_all.png\n",
    "!montage -geometry +0+0 -tile 2x4 figs/hist_achievement.png figs/hist_independence.png figs/hist_recognition.png \\\n",
    "figs/hist_relationships.png figs/hist_support.png figs/hist_working\\ conditions.png figs/hist_all_wvs.png"
   ]
  },
  {
   "cell_type": "markdown",
   "id": "6057812a-2f46-4faa-a691-3c0931278a6f",
   "metadata": {},
   "source": [
    "## Make test/train split"
   ]
  },
  {
   "cell_type": "code",
   "execution_count": 105,
   "id": "0c546d94-d456-44ea-88c3-a8fab441fd5d",
   "metadata": {},
   "outputs": [],
   "source": [
    "prop = int(y.shape[0]*0.9)\n",
    "prop_bar = y.shape[0] - prop"
   ]
  },
  {
   "cell_type": "code",
   "execution_count": 106,
   "id": "9391823b-487b-4567-a75b-2942c8f0c58a",
   "metadata": {},
   "outputs": [],
   "source": [
    "train_mask = torch.cat((torch.zeros(prop_bar),torch.ones(prop)))"
   ]
  },
  {
   "cell_type": "code",
   "execution_count": 107,
   "id": "5286b348-91f8-45df-baf1-64ca89cd52c1",
   "metadata": {},
   "outputs": [],
   "source": [
    "train_mask = train_mask.long()"
   ]
  },
  {
   "cell_type": "code",
   "execution_count": 108,
   "id": "bbf80b8e-800b-42f7-aceb-0af213ce2412",
   "metadata": {},
   "outputs": [],
   "source": [
    "test_mask = torch.cat((torch.ones(prop_bar),torch.zeros(prop)))"
   ]
  },
  {
   "cell_type": "code",
   "execution_count": 109,
   "id": "d6026964-560c-431a-9602-3b2fc614c868",
   "metadata": {},
   "outputs": [],
   "source": [
    "test_mask = test_mask.long()"
   ]
  },
  {
   "cell_type": "code",
   "execution_count": 110,
   "id": "a9e4635a-6b81-4b05-a8e2-03510c327ec2",
   "metadata": {},
   "outputs": [
    {
     "data": {
      "text/plain": [
       "tensor([[  0,   1,   0,  ..., 735, 734, 735],\n",
       "        [  0,   1,   0,  ..., 735, 734, 735]])"
      ]
     },
     "execution_count": 110,
     "metadata": {},
     "output_type": "execute_result"
    }
   ],
   "source": [
    "edge_index.t().contiguous().T"
   ]
  },
  {
   "cell_type": "markdown",
   "id": "1be90ad4-c585-422c-b8ce-a25c933f3445",
   "metadata": {},
   "source": [
    "## Make data object"
   ]
  },
  {
   "cell_type": "code",
   "execution_count": 145,
   "id": "41c0d788-768a-4839-938f-35104560478a",
   "metadata": {},
   "outputs": [],
   "source": [
    "data = Data(x=x, y=y, edge_index=edge_index.t().contiguous().T,train_mask = train_mask, test_mask = test_mask)"
   ]
  },
  {
   "cell_type": "code",
   "execution_count": 146,
   "id": "777993e2-f471-4d7a-9d1e-16b415351f22",
   "metadata": {},
   "outputs": [
    {
     "data": {
      "text/plain": [
       "torch.Size([736, 7])"
      ]
     },
     "execution_count": 146,
     "metadata": {},
     "output_type": "execute_result"
    }
   ],
   "source": [
    "x.shape"
   ]
  },
  {
   "cell_type": "code",
   "execution_count": 147,
   "id": "a5f74dab-f72a-4ad7-94ca-dea3eecfc0c3",
   "metadata": {},
   "outputs": [
    {
     "data": {
      "text/plain": [
       "torch.Size([736])"
      ]
     },
     "execution_count": 147,
     "metadata": {},
     "output_type": "execute_result"
    }
   ],
   "source": [
    "y.shape"
   ]
  },
  {
   "cell_type": "code",
   "execution_count": 125,
   "id": "3fdb6531-68e2-4190-b816-25beec6d52e5",
   "metadata": {},
   "outputs": [
    {
     "data": {
      "text/plain": [
       "torch.Size([2, 259000])"
      ]
     },
     "execution_count": 125,
     "metadata": {},
     "output_type": "execute_result"
    }
   ],
   "source": [
    "edge_index.shape"
   ]
  },
  {
   "cell_type": "code",
   "execution_count": 126,
   "id": "f2475c4e-97f0-4cd4-8556-f25c8d3010da",
   "metadata": {},
   "outputs": [],
   "source": [
    "edge_index=edge_index.t().contiguous().T"
   ]
  },
  {
   "cell_type": "code",
   "execution_count": 148,
   "id": "2970e15a-54cc-401b-a76c-b27f90a49090",
   "metadata": {},
   "outputs": [
    {
     "data": {
      "text/plain": [
       "torch.Size([736, 7])"
      ]
     },
     "execution_count": 148,
     "metadata": {},
     "output_type": "execute_result"
    }
   ],
   "source": [
    "data['x'].shape"
   ]
  },
  {
   "cell_type": "code",
   "execution_count": 128,
   "id": "d5d1ac32-24b7-4773-94b6-6db68bd205c8",
   "metadata": {},
   "outputs": [
    {
     "data": {
      "text/plain": [
       "torch.Size([2, 259000])"
      ]
     },
     "execution_count": 128,
     "metadata": {},
     "output_type": "execute_result"
    }
   ],
   "source": [
    "edge_index.shape"
   ]
  },
  {
   "cell_type": "markdown",
   "id": "e0201855-ff93-411c-a6a6-e7b2d6fd4b67",
   "metadata": {},
   "source": [
    "## Make a network"
   ]
  },
  {
   "cell_type": "code",
   "execution_count": 138,
   "id": "586ca298-52de-4d64-8b2c-67307315b5e9",
   "metadata": {},
   "outputs": [],
   "source": [
    "class GCN(torch.nn.Module):\n",
    "    def __init__(self):\n",
    "        super().__init__()\n",
    "        self.conv1 = GCNConv(-1, 2)\n",
    "        self.conv2 = GCNConv(2, 1) # Try to predict one single work value\n",
    "        \n",
    "    def forward(self,data):\n",
    "        x, edge_index = data.x, data.edge_index\n",
    "        \n",
    "        x = self.conv1(x, edge_index)\n",
    "        #x = F.dropout(x, training=self.training)\n",
    "        x = self.conv2(x,edge_index)\n",
    "\n",
    "        return x"
   ]
  },
  {
   "cell_type": "code",
   "execution_count": 139,
   "id": "54a66af1-5a49-40a0-9f9b-40aa9244c48b",
   "metadata": {},
   "outputs": [],
   "source": [
    "device = torch.device('cuda' if torch.cuda.is_available() else 'cpu')\n",
    "model = GCN().to(device)"
   ]
  },
  {
   "cell_type": "code",
   "execution_count": 140,
   "id": "68db0d3f-a767-4b6c-a441-bb254d46d3a0",
   "metadata": {},
   "outputs": [],
   "source": [
    "data = data.to(device)"
   ]
  },
  {
   "cell_type": "code",
   "execution_count": 141,
   "id": "50b5c133-7bd4-4cb9-8e5d-5ad98c56c6bc",
   "metadata": {},
   "outputs": [],
   "source": [
    "optimizer = torch.optim.Adam(model.parameters(), lr=0.01, weight_decay=5e-4)"
   ]
  },
  {
   "cell_type": "code",
   "execution_count": 142,
   "id": "673cf8dd-fda9-45b4-93fe-9fe76107c37e",
   "metadata": {},
   "outputs": [
    {
     "data": {
      "text/plain": [
       "GCN(\n",
       "  (conv1): GCNConv(-1, 2)\n",
       "  (conv2): GCNConv(2, 1)\n",
       ")"
      ]
     },
     "execution_count": 142,
     "metadata": {},
     "output_type": "execute_result"
    }
   ],
   "source": [
    "model.train()"
   ]
  },
  {
   "cell_type": "code",
   "execution_count": 143,
   "id": "0a6af0f1-cc32-4676-a159-eea5abe4c01f",
   "metadata": {},
   "outputs": [
    {
     "data": {
      "text/plain": [
       "Data(x=[7, 736], edge_index=[2, 259000], y=[736], train_mask=[736], test_mask=[736])"
      ]
     },
     "execution_count": 143,
     "metadata": {},
     "output_type": "execute_result"
    }
   ],
   "source": [
    "data"
   ]
  },
  {
   "cell_type": "code",
   "execution_count": 144,
   "id": "3ccf6805-b2ba-442e-b659-960d866215ab",
   "metadata": {
    "tags": []
   },
   "outputs": [
    {
     "ename": "IndexError",
     "evalue": "index 143 is out of bounds for dimension 0 with size 7",
     "output_type": "error",
     "traceback": [
      "\u001b[0;31m---------------------------------------------------------------------------\u001b[0m",
      "\u001b[0;31mIndexError\u001b[0m                                Traceback (most recent call last)",
      "\u001b[0;32m/var/folders/k1/53y5f3kj0ds7q7r6fdjsn2kc0000gn/T/ipykernel_32332/2202943665.py\u001b[0m in \u001b[0;36m<module>\u001b[0;34m\u001b[0m\n\u001b[1;32m      1\u001b[0m \u001b[0;32mfor\u001b[0m \u001b[0mepoch\u001b[0m \u001b[0;32min\u001b[0m \u001b[0mrange\u001b[0m\u001b[0;34m(\u001b[0m\u001b[0;36m200\u001b[0m\u001b[0;34m)\u001b[0m\u001b[0;34m:\u001b[0m\u001b[0;34m\u001b[0m\u001b[0;34m\u001b[0m\u001b[0m\n\u001b[1;32m      2\u001b[0m     \u001b[0moptimizer\u001b[0m\u001b[0;34m.\u001b[0m\u001b[0mzero_grad\u001b[0m\u001b[0;34m(\u001b[0m\u001b[0;34m)\u001b[0m\u001b[0;34m\u001b[0m\u001b[0;34m\u001b[0m\u001b[0m\n\u001b[0;32m----> 3\u001b[0;31m     \u001b[0mout\u001b[0m \u001b[0;34m=\u001b[0m \u001b[0mmodel\u001b[0m\u001b[0;34m(\u001b[0m\u001b[0mdata\u001b[0m\u001b[0;34m)\u001b[0m\u001b[0;34m\u001b[0m\u001b[0;34m\u001b[0m\u001b[0m\n\u001b[0m\u001b[1;32m      4\u001b[0m     \u001b[0;31m#loss = F.mse_loss(Variable(data.x[data.train_mask,0],requires_grad = True), data.y[data.train_mask])\u001b[0m\u001b[0;34m\u001b[0m\u001b[0;34m\u001b[0m\u001b[0;34m\u001b[0m\u001b[0m\n\u001b[1;32m      5\u001b[0m     \u001b[0mloss\u001b[0m \u001b[0;34m=\u001b[0m \u001b[0mF\u001b[0m\u001b[0;34m.\u001b[0m\u001b[0mmse_loss\u001b[0m\u001b[0;34m(\u001b[0m\u001b[0mVariable\u001b[0m\u001b[0;34m(\u001b[0m\u001b[0mdata\u001b[0m\u001b[0;34m.\u001b[0m\u001b[0mx\u001b[0m\u001b[0;34m,\u001b[0m\u001b[0mrequires_grad\u001b[0m \u001b[0;34m=\u001b[0m \u001b[0;32mTrue\u001b[0m\u001b[0;34m)\u001b[0m\u001b[0;34m,\u001b[0m \u001b[0mdata\u001b[0m\u001b[0;34m.\u001b[0m\u001b[0my\u001b[0m\u001b[0;34m)\u001b[0m\u001b[0;34m\u001b[0m\u001b[0;34m\u001b[0m\u001b[0m\n",
      "\u001b[0;32m~/opt/anaconda3/lib/python3.7/site-packages/torch/nn/modules/module.py\u001b[0m in \u001b[0;36m_call_impl\u001b[0;34m(self, *input, **kwargs)\u001b[0m\n\u001b[1;32m   1049\u001b[0m         if not (self._backward_hooks or self._forward_hooks or self._forward_pre_hooks or _global_backward_hooks\n\u001b[1;32m   1050\u001b[0m                 or _global_forward_hooks or _global_forward_pre_hooks):\n\u001b[0;32m-> 1051\u001b[0;31m             \u001b[0;32mreturn\u001b[0m \u001b[0mforward_call\u001b[0m\u001b[0;34m(\u001b[0m\u001b[0;34m*\u001b[0m\u001b[0minput\u001b[0m\u001b[0;34m,\u001b[0m \u001b[0;34m**\u001b[0m\u001b[0mkwargs\u001b[0m\u001b[0;34m)\u001b[0m\u001b[0;34m\u001b[0m\u001b[0;34m\u001b[0m\u001b[0m\n\u001b[0m\u001b[1;32m   1052\u001b[0m         \u001b[0;31m# Do not call functions when jit is used\u001b[0m\u001b[0;34m\u001b[0m\u001b[0;34m\u001b[0m\u001b[0;34m\u001b[0m\u001b[0m\n\u001b[1;32m   1053\u001b[0m         \u001b[0mfull_backward_hooks\u001b[0m\u001b[0;34m,\u001b[0m \u001b[0mnon_full_backward_hooks\u001b[0m \u001b[0;34m=\u001b[0m \u001b[0;34m[\u001b[0m\u001b[0;34m]\u001b[0m\u001b[0;34m,\u001b[0m \u001b[0;34m[\u001b[0m\u001b[0;34m]\u001b[0m\u001b[0;34m\u001b[0m\u001b[0;34m\u001b[0m\u001b[0m\n",
      "\u001b[0;32m/var/folders/k1/53y5f3kj0ds7q7r6fdjsn2kc0000gn/T/ipykernel_32332/4123641768.py\u001b[0m in \u001b[0;36mforward\u001b[0;34m(self, data)\u001b[0m\n\u001b[1;32m      8\u001b[0m         \u001b[0mx\u001b[0m\u001b[0;34m,\u001b[0m \u001b[0medge_index\u001b[0m \u001b[0;34m=\u001b[0m \u001b[0mdata\u001b[0m\u001b[0;34m.\u001b[0m\u001b[0mx\u001b[0m\u001b[0;34m,\u001b[0m \u001b[0mdata\u001b[0m\u001b[0;34m.\u001b[0m\u001b[0medge_index\u001b[0m\u001b[0;34m\u001b[0m\u001b[0;34m\u001b[0m\u001b[0m\n\u001b[1;32m      9\u001b[0m \u001b[0;34m\u001b[0m\u001b[0m\n\u001b[0;32m---> 10\u001b[0;31m         \u001b[0mx\u001b[0m \u001b[0;34m=\u001b[0m \u001b[0mself\u001b[0m\u001b[0;34m.\u001b[0m\u001b[0mconv1\u001b[0m\u001b[0;34m(\u001b[0m\u001b[0mx\u001b[0m\u001b[0;34m,\u001b[0m \u001b[0medge_index\u001b[0m\u001b[0;34m)\u001b[0m\u001b[0;34m\u001b[0m\u001b[0;34m\u001b[0m\u001b[0m\n\u001b[0m\u001b[1;32m     11\u001b[0m         \u001b[0;31m#x = F.dropout(x, training=self.training)\u001b[0m\u001b[0;34m\u001b[0m\u001b[0;34m\u001b[0m\u001b[0;34m\u001b[0m\u001b[0m\n\u001b[1;32m     12\u001b[0m         \u001b[0mx\u001b[0m \u001b[0;34m=\u001b[0m \u001b[0mself\u001b[0m\u001b[0;34m.\u001b[0m\u001b[0mconv2\u001b[0m\u001b[0;34m(\u001b[0m\u001b[0mx\u001b[0m\u001b[0;34m,\u001b[0m\u001b[0medge_index\u001b[0m\u001b[0;34m)\u001b[0m\u001b[0;34m\u001b[0m\u001b[0;34m\u001b[0m\u001b[0m\n",
      "\u001b[0;32m~/opt/anaconda3/lib/python3.7/site-packages/torch/nn/modules/module.py\u001b[0m in \u001b[0;36m_call_impl\u001b[0;34m(self, *input, **kwargs)\u001b[0m\n\u001b[1;32m   1049\u001b[0m         if not (self._backward_hooks or self._forward_hooks or self._forward_pre_hooks or _global_backward_hooks\n\u001b[1;32m   1050\u001b[0m                 or _global_forward_hooks or _global_forward_pre_hooks):\n\u001b[0;32m-> 1051\u001b[0;31m             \u001b[0;32mreturn\u001b[0m \u001b[0mforward_call\u001b[0m\u001b[0;34m(\u001b[0m\u001b[0;34m*\u001b[0m\u001b[0minput\u001b[0m\u001b[0;34m,\u001b[0m \u001b[0;34m**\u001b[0m\u001b[0mkwargs\u001b[0m\u001b[0;34m)\u001b[0m\u001b[0;34m\u001b[0m\u001b[0;34m\u001b[0m\u001b[0m\n\u001b[0m\u001b[1;32m   1052\u001b[0m         \u001b[0;31m# Do not call functions when jit is used\u001b[0m\u001b[0;34m\u001b[0m\u001b[0;34m\u001b[0m\u001b[0;34m\u001b[0m\u001b[0m\n\u001b[1;32m   1053\u001b[0m         \u001b[0mfull_backward_hooks\u001b[0m\u001b[0;34m,\u001b[0m \u001b[0mnon_full_backward_hooks\u001b[0m \u001b[0;34m=\u001b[0m \u001b[0;34m[\u001b[0m\u001b[0;34m]\u001b[0m\u001b[0;34m,\u001b[0m \u001b[0;34m[\u001b[0m\u001b[0;34m]\u001b[0m\u001b[0;34m\u001b[0m\u001b[0;34m\u001b[0m\u001b[0m\n",
      "\u001b[0;32m~/opt/anaconda3/lib/python3.7/site-packages/torch_geometric/nn/conv/gcn_conv.py\u001b[0m in \u001b[0;36mforward\u001b[0;34m(self, x, edge_index, edge_weight)\u001b[0m\n\u001b[1;32m    162\u001b[0m                     edge_index, edge_weight = gcn_norm(  # yapf: disable\n\u001b[1;32m    163\u001b[0m                         \u001b[0medge_index\u001b[0m\u001b[0;34m,\u001b[0m \u001b[0medge_weight\u001b[0m\u001b[0;34m,\u001b[0m \u001b[0mx\u001b[0m\u001b[0;34m.\u001b[0m\u001b[0msize\u001b[0m\u001b[0;34m(\u001b[0m\u001b[0mself\u001b[0m\u001b[0;34m.\u001b[0m\u001b[0mnode_dim\u001b[0m\u001b[0;34m)\u001b[0m\u001b[0;34m,\u001b[0m\u001b[0;34m\u001b[0m\u001b[0;34m\u001b[0m\u001b[0m\n\u001b[0;32m--> 164\u001b[0;31m                         self.improved, self.add_self_loops)\n\u001b[0m\u001b[1;32m    165\u001b[0m                     \u001b[0;32mif\u001b[0m \u001b[0mself\u001b[0m\u001b[0;34m.\u001b[0m\u001b[0mcached\u001b[0m\u001b[0;34m:\u001b[0m\u001b[0;34m\u001b[0m\u001b[0;34m\u001b[0m\u001b[0m\n\u001b[1;32m    166\u001b[0m                         \u001b[0mself\u001b[0m\u001b[0;34m.\u001b[0m\u001b[0m_cached_edge_index\u001b[0m \u001b[0;34m=\u001b[0m \u001b[0;34m(\u001b[0m\u001b[0medge_index\u001b[0m\u001b[0;34m,\u001b[0m \u001b[0medge_weight\u001b[0m\u001b[0;34m)\u001b[0m\u001b[0;34m\u001b[0m\u001b[0;34m\u001b[0m\u001b[0m\n",
      "\u001b[0;32m~/opt/anaconda3/lib/python3.7/site-packages/torch_geometric/nn/conv/gcn_conv.py\u001b[0m in \u001b[0;36mgcn_norm\u001b[0;34m(edge_index, edge_weight, num_nodes, improved, add_self_loops, dtype)\u001b[0m\n\u001b[1;32m     55\u001b[0m         \u001b[0;32mif\u001b[0m \u001b[0madd_self_loops\u001b[0m\u001b[0;34m:\u001b[0m\u001b[0;34m\u001b[0m\u001b[0;34m\u001b[0m\u001b[0m\n\u001b[1;32m     56\u001b[0m             edge_index, tmp_edge_weight = add_remaining_self_loops(\n\u001b[0;32m---> 57\u001b[0;31m                 edge_index, edge_weight, fill_value, num_nodes)\n\u001b[0m\u001b[1;32m     58\u001b[0m             \u001b[0;32massert\u001b[0m \u001b[0mtmp_edge_weight\u001b[0m \u001b[0;32mis\u001b[0m \u001b[0;32mnot\u001b[0m \u001b[0;32mNone\u001b[0m\u001b[0;34m\u001b[0m\u001b[0;34m\u001b[0m\u001b[0m\n\u001b[1;32m     59\u001b[0m             \u001b[0medge_weight\u001b[0m \u001b[0;34m=\u001b[0m \u001b[0mtmp_edge_weight\u001b[0m\u001b[0;34m\u001b[0m\u001b[0;34m\u001b[0m\u001b[0m\n",
      "\u001b[0;32m~/opt/anaconda3/lib/python3.7/site-packages/torch_geometric/utils/loop.py\u001b[0m in \u001b[0;36madd_remaining_self_loops\u001b[0;34m(edge_index, edge_weight, fill_value, num_nodes)\u001b[0m\n\u001b[1;32m    132\u001b[0m         \u001b[0mremaining_edge_weight\u001b[0m \u001b[0;34m=\u001b[0m \u001b[0medge_weight\u001b[0m\u001b[0;34m[\u001b[0m\u001b[0minv_mask\u001b[0m\u001b[0;34m]\u001b[0m\u001b[0;34m\u001b[0m\u001b[0;34m\u001b[0m\u001b[0m\n\u001b[1;32m    133\u001b[0m         \u001b[0;32mif\u001b[0m \u001b[0mremaining_edge_weight\u001b[0m\u001b[0;34m.\u001b[0m\u001b[0mnumel\u001b[0m\u001b[0;34m(\u001b[0m\u001b[0;34m)\u001b[0m \u001b[0;34m>\u001b[0m \u001b[0;36m0\u001b[0m\u001b[0;34m:\u001b[0m\u001b[0;34m\u001b[0m\u001b[0;34m\u001b[0m\u001b[0m\n\u001b[0;32m--> 134\u001b[0;31m             \u001b[0mloop_weight\u001b[0m\u001b[0;34m[\u001b[0m\u001b[0mrow\u001b[0m\u001b[0;34m[\u001b[0m\u001b[0minv_mask\u001b[0m\u001b[0;34m]\u001b[0m\u001b[0;34m]\u001b[0m \u001b[0;34m=\u001b[0m \u001b[0mremaining_edge_weight\u001b[0m\u001b[0;34m\u001b[0m\u001b[0;34m\u001b[0m\u001b[0m\n\u001b[0m\u001b[1;32m    135\u001b[0m         \u001b[0medge_weight\u001b[0m \u001b[0;34m=\u001b[0m \u001b[0mtorch\u001b[0m\u001b[0;34m.\u001b[0m\u001b[0mcat\u001b[0m\u001b[0;34m(\u001b[0m\u001b[0;34m[\u001b[0m\u001b[0medge_weight\u001b[0m\u001b[0;34m[\u001b[0m\u001b[0mmask\u001b[0m\u001b[0;34m]\u001b[0m\u001b[0;34m,\u001b[0m \u001b[0mloop_weight\u001b[0m\u001b[0;34m]\u001b[0m\u001b[0;34m,\u001b[0m \u001b[0mdim\u001b[0m\u001b[0;34m=\u001b[0m\u001b[0;36m0\u001b[0m\u001b[0;34m)\u001b[0m\u001b[0;34m\u001b[0m\u001b[0;34m\u001b[0m\u001b[0m\n\u001b[1;32m    136\u001b[0m \u001b[0;34m\u001b[0m\u001b[0m\n",
      "\u001b[0;31mIndexError\u001b[0m: index 143 is out of bounds for dimension 0 with size 7"
     ]
    }
   ],
   "source": [
    "for epoch in range(200):\n",
    "    optimizer.zero_grad()\n",
    "    out = model(data)\n",
    "    #loss = F.mse_loss(Variable(data.x[data.train_mask,0],requires_grad = True), data.y[data.train_mask])\n",
    "    loss = F.mse_loss(Variable(data.x,requires_grad = True), data.y)\n",
    "    loss.backward()\n",
    "    optimizer.step()"
   ]
  },
  {
   "cell_type": "code",
   "execution_count": 626,
   "id": "4eda74ab-8101-422a-90e5-fbb649dc5c90",
   "metadata": {},
   "outputs": [
    {
     "data": {
      "text/plain": [
       "GCN(\n",
       "  (conv1): GCNConv(-1, 2)\n",
       "  (conv2): GCNConv(2, 1)\n",
       ")"
      ]
     },
     "execution_count": 626,
     "metadata": {},
     "output_type": "execute_result"
    }
   ],
   "source": [
    "model.eval()"
   ]
  },
  {
   "cell_type": "code",
   "execution_count": 627,
   "id": "400396b3-7f7e-42e7-8aee-6951e422be9b",
   "metadata": {
    "collapsed": true,
    "jupyter": {
     "outputs_hidden": true
    },
    "tags": []
   },
   "outputs": [
    {
     "ename": "RuntimeError",
     "evalue": "torch.cat(): Sizes of tensors must match except in dimension 1. Got 259000 and 2 in dimension 0 (The offending index is 1)",
     "output_type": "error",
     "traceback": [
      "\u001b[0;31m---------------------------------------------------------------------------\u001b[0m",
      "\u001b[0;31mRuntimeError\u001b[0m                              Traceback (most recent call last)",
      "\u001b[0;32m<ipython-input-627-926d84aca034>\u001b[0m in \u001b[0;36m<module>\u001b[0;34m\u001b[0m\n\u001b[0;32m----> 1\u001b[0;31m \u001b[0mpred\u001b[0m \u001b[0;34m=\u001b[0m \u001b[0mmodel\u001b[0m\u001b[0;34m(\u001b[0m\u001b[0mdata\u001b[0m\u001b[0;34m)\u001b[0m\u001b[0;34m\u001b[0m\u001b[0;34m\u001b[0m\u001b[0m\n\u001b[0m",
      "\u001b[0;32m~/opt/anaconda3/lib/python3.7/site-packages/torch/nn/modules/module.py\u001b[0m in \u001b[0;36m_call_impl\u001b[0;34m(self, *input, **kwargs)\u001b[0m\n\u001b[1;32m   1049\u001b[0m         if not (self._backward_hooks or self._forward_hooks or self._forward_pre_hooks or _global_backward_hooks\n\u001b[1;32m   1050\u001b[0m                 or _global_forward_hooks or _global_forward_pre_hooks):\n\u001b[0;32m-> 1051\u001b[0;31m             \u001b[0;32mreturn\u001b[0m \u001b[0mforward_call\u001b[0m\u001b[0;34m(\u001b[0m\u001b[0;34m*\u001b[0m\u001b[0minput\u001b[0m\u001b[0;34m,\u001b[0m \u001b[0;34m**\u001b[0m\u001b[0mkwargs\u001b[0m\u001b[0;34m)\u001b[0m\u001b[0;34m\u001b[0m\u001b[0;34m\u001b[0m\u001b[0m\n\u001b[0m\u001b[1;32m   1052\u001b[0m         \u001b[0;31m# Do not call functions when jit is used\u001b[0m\u001b[0;34m\u001b[0m\u001b[0;34m\u001b[0m\u001b[0;34m\u001b[0m\u001b[0m\n\u001b[1;32m   1053\u001b[0m         \u001b[0mfull_backward_hooks\u001b[0m\u001b[0;34m,\u001b[0m \u001b[0mnon_full_backward_hooks\u001b[0m \u001b[0;34m=\u001b[0m \u001b[0;34m[\u001b[0m\u001b[0;34m]\u001b[0m\u001b[0;34m,\u001b[0m \u001b[0;34m[\u001b[0m\u001b[0;34m]\u001b[0m\u001b[0;34m\u001b[0m\u001b[0;34m\u001b[0m\u001b[0m\n",
      "\u001b[0;32m<ipython-input-619-5b2ba5d06f78>\u001b[0m in \u001b[0;36mforward\u001b[0;34m(self, data)\u001b[0m\n\u001b[1;32m      8\u001b[0m         \u001b[0mx\u001b[0m\u001b[0;34m,\u001b[0m \u001b[0medge_index\u001b[0m \u001b[0;34m=\u001b[0m \u001b[0mdata\u001b[0m\u001b[0;34m.\u001b[0m\u001b[0mx\u001b[0m\u001b[0;34m,\u001b[0m \u001b[0mdata\u001b[0m\u001b[0;34m.\u001b[0m\u001b[0medge_index\u001b[0m\u001b[0;34m\u001b[0m\u001b[0;34m\u001b[0m\u001b[0m\n\u001b[1;32m      9\u001b[0m \u001b[0;34m\u001b[0m\u001b[0m\n\u001b[0;32m---> 10\u001b[0;31m         \u001b[0mx\u001b[0m \u001b[0;34m=\u001b[0m \u001b[0mself\u001b[0m\u001b[0;34m.\u001b[0m\u001b[0mconv1\u001b[0m\u001b[0;34m(\u001b[0m\u001b[0mx\u001b[0m\u001b[0;34m,\u001b[0m \u001b[0medge_index\u001b[0m\u001b[0;34m)\u001b[0m\u001b[0;34m\u001b[0m\u001b[0;34m\u001b[0m\u001b[0m\n\u001b[0m\u001b[1;32m     11\u001b[0m         \u001b[0mx\u001b[0m \u001b[0;34m=\u001b[0m \u001b[0mF\u001b[0m\u001b[0;34m.\u001b[0m\u001b[0mdropout\u001b[0m\u001b[0;34m(\u001b[0m\u001b[0mx\u001b[0m\u001b[0;34m,\u001b[0m \u001b[0mtraining\u001b[0m\u001b[0;34m=\u001b[0m\u001b[0mself\u001b[0m\u001b[0;34m.\u001b[0m\u001b[0mtraining\u001b[0m\u001b[0;34m)\u001b[0m\u001b[0;34m\u001b[0m\u001b[0;34m\u001b[0m\u001b[0m\n\u001b[1;32m     12\u001b[0m         \u001b[0mx\u001b[0m \u001b[0;34m=\u001b[0m \u001b[0mself\u001b[0m\u001b[0;34m.\u001b[0m\u001b[0mconv2\u001b[0m\u001b[0;34m(\u001b[0m\u001b[0mx\u001b[0m\u001b[0;34m,\u001b[0m\u001b[0medge_index\u001b[0m\u001b[0;34m)\u001b[0m\u001b[0;34m\u001b[0m\u001b[0;34m\u001b[0m\u001b[0m\n",
      "\u001b[0;32m~/opt/anaconda3/lib/python3.7/site-packages/torch/nn/modules/module.py\u001b[0m in \u001b[0;36m_call_impl\u001b[0;34m(self, *input, **kwargs)\u001b[0m\n\u001b[1;32m   1049\u001b[0m         if not (self._backward_hooks or self._forward_hooks or self._forward_pre_hooks or _global_backward_hooks\n\u001b[1;32m   1050\u001b[0m                 or _global_forward_hooks or _global_forward_pre_hooks):\n\u001b[0;32m-> 1051\u001b[0;31m             \u001b[0;32mreturn\u001b[0m \u001b[0mforward_call\u001b[0m\u001b[0;34m(\u001b[0m\u001b[0;34m*\u001b[0m\u001b[0minput\u001b[0m\u001b[0;34m,\u001b[0m \u001b[0;34m**\u001b[0m\u001b[0mkwargs\u001b[0m\u001b[0;34m)\u001b[0m\u001b[0;34m\u001b[0m\u001b[0;34m\u001b[0m\u001b[0m\n\u001b[0m\u001b[1;32m   1052\u001b[0m         \u001b[0;31m# Do not call functions when jit is used\u001b[0m\u001b[0;34m\u001b[0m\u001b[0;34m\u001b[0m\u001b[0;34m\u001b[0m\u001b[0m\n\u001b[1;32m   1053\u001b[0m         \u001b[0mfull_backward_hooks\u001b[0m\u001b[0;34m,\u001b[0m \u001b[0mnon_full_backward_hooks\u001b[0m \u001b[0;34m=\u001b[0m \u001b[0;34m[\u001b[0m\u001b[0;34m]\u001b[0m\u001b[0;34m,\u001b[0m \u001b[0;34m[\u001b[0m\u001b[0;34m]\u001b[0m\u001b[0;34m\u001b[0m\u001b[0;34m\u001b[0m\u001b[0m\n",
      "\u001b[0;32m~/opt/anaconda3/lib/python3.7/site-packages/torch_geometric/nn/conv/gcn_conv.py\u001b[0m in \u001b[0;36mforward\u001b[0;34m(self, x, edge_index, edge_weight)\u001b[0m\n\u001b[1;32m    162\u001b[0m                     edge_index, edge_weight = gcn_norm(  # yapf: disable\n\u001b[1;32m    163\u001b[0m                         \u001b[0medge_index\u001b[0m\u001b[0;34m,\u001b[0m \u001b[0medge_weight\u001b[0m\u001b[0;34m,\u001b[0m \u001b[0mx\u001b[0m\u001b[0;34m.\u001b[0m\u001b[0msize\u001b[0m\u001b[0;34m(\u001b[0m\u001b[0mself\u001b[0m\u001b[0;34m.\u001b[0m\u001b[0mnode_dim\u001b[0m\u001b[0;34m)\u001b[0m\u001b[0;34m,\u001b[0m\u001b[0;34m\u001b[0m\u001b[0;34m\u001b[0m\u001b[0m\n\u001b[0;32m--> 164\u001b[0;31m                         self.improved, self.add_self_loops)\n\u001b[0m\u001b[1;32m    165\u001b[0m                     \u001b[0;32mif\u001b[0m \u001b[0mself\u001b[0m\u001b[0;34m.\u001b[0m\u001b[0mcached\u001b[0m\u001b[0;34m:\u001b[0m\u001b[0;34m\u001b[0m\u001b[0;34m\u001b[0m\u001b[0m\n\u001b[1;32m    166\u001b[0m                         \u001b[0mself\u001b[0m\u001b[0;34m.\u001b[0m\u001b[0m_cached_edge_index\u001b[0m \u001b[0;34m=\u001b[0m \u001b[0;34m(\u001b[0m\u001b[0medge_index\u001b[0m\u001b[0;34m,\u001b[0m \u001b[0medge_weight\u001b[0m\u001b[0;34m)\u001b[0m\u001b[0;34m\u001b[0m\u001b[0;34m\u001b[0m\u001b[0m\n",
      "\u001b[0;32m~/opt/anaconda3/lib/python3.7/site-packages/torch_geometric/nn/conv/gcn_conv.py\u001b[0m in \u001b[0;36mgcn_norm\u001b[0;34m(edge_index, edge_weight, num_nodes, improved, add_self_loops, dtype)\u001b[0m\n\u001b[1;32m     55\u001b[0m         \u001b[0;32mif\u001b[0m \u001b[0madd_self_loops\u001b[0m\u001b[0;34m:\u001b[0m\u001b[0;34m\u001b[0m\u001b[0;34m\u001b[0m\u001b[0m\n\u001b[1;32m     56\u001b[0m             edge_index, tmp_edge_weight = add_remaining_self_loops(\n\u001b[0;32m---> 57\u001b[0;31m                 edge_index, edge_weight, fill_value, num_nodes)\n\u001b[0m\u001b[1;32m     58\u001b[0m             \u001b[0;32massert\u001b[0m \u001b[0mtmp_edge_weight\u001b[0m \u001b[0;32mis\u001b[0m \u001b[0;32mnot\u001b[0m \u001b[0;32mNone\u001b[0m\u001b[0;34m\u001b[0m\u001b[0;34m\u001b[0m\u001b[0m\n\u001b[1;32m     59\u001b[0m             \u001b[0medge_weight\u001b[0m \u001b[0;34m=\u001b[0m \u001b[0mtmp_edge_weight\u001b[0m\u001b[0;34m\u001b[0m\u001b[0;34m\u001b[0m\u001b[0m\n",
      "\u001b[0;32m~/opt/anaconda3/lib/python3.7/site-packages/torch_geometric/utils/loop.py\u001b[0m in \u001b[0;36madd_remaining_self_loops\u001b[0;34m(edge_index, edge_weight, fill_value, num_nodes)\u001b[0m\n\u001b[1;32m    123\u001b[0m     \u001b[0mloop_index\u001b[0m \u001b[0;34m=\u001b[0m \u001b[0mtorch\u001b[0m\u001b[0;34m.\u001b[0m\u001b[0marange\u001b[0m\u001b[0;34m(\u001b[0m\u001b[0;36m0\u001b[0m\u001b[0;34m,\u001b[0m \u001b[0mN\u001b[0m\u001b[0;34m,\u001b[0m \u001b[0mdtype\u001b[0m\u001b[0;34m=\u001b[0m\u001b[0mrow\u001b[0m\u001b[0;34m.\u001b[0m\u001b[0mdtype\u001b[0m\u001b[0;34m,\u001b[0m \u001b[0mdevice\u001b[0m\u001b[0;34m=\u001b[0m\u001b[0mrow\u001b[0m\u001b[0;34m.\u001b[0m\u001b[0mdevice\u001b[0m\u001b[0;34m)\u001b[0m\u001b[0;34m\u001b[0m\u001b[0;34m\u001b[0m\u001b[0m\n\u001b[1;32m    124\u001b[0m     \u001b[0mloop_index\u001b[0m \u001b[0;34m=\u001b[0m \u001b[0mloop_index\u001b[0m\u001b[0;34m.\u001b[0m\u001b[0munsqueeze\u001b[0m\u001b[0;34m(\u001b[0m\u001b[0;36m0\u001b[0m\u001b[0;34m)\u001b[0m\u001b[0;34m.\u001b[0m\u001b[0mrepeat\u001b[0m\u001b[0;34m(\u001b[0m\u001b[0;36m2\u001b[0m\u001b[0;34m,\u001b[0m \u001b[0;36m1\u001b[0m\u001b[0;34m)\u001b[0m\u001b[0;34m\u001b[0m\u001b[0;34m\u001b[0m\u001b[0m\n\u001b[0;32m--> 125\u001b[0;31m     \u001b[0medge_index\u001b[0m \u001b[0;34m=\u001b[0m \u001b[0mtorch\u001b[0m\u001b[0;34m.\u001b[0m\u001b[0mcat\u001b[0m\u001b[0;34m(\u001b[0m\u001b[0;34m[\u001b[0m\u001b[0medge_index\u001b[0m\u001b[0;34m[\u001b[0m\u001b[0;34m:\u001b[0m\u001b[0;34m,\u001b[0m \u001b[0mmask\u001b[0m\u001b[0;34m]\u001b[0m\u001b[0;34m,\u001b[0m \u001b[0mloop_index\u001b[0m\u001b[0;34m]\u001b[0m\u001b[0;34m,\u001b[0m \u001b[0mdim\u001b[0m\u001b[0;34m=\u001b[0m\u001b[0;36m1\u001b[0m\u001b[0;34m)\u001b[0m\u001b[0;34m\u001b[0m\u001b[0;34m\u001b[0m\u001b[0m\n\u001b[0m\u001b[1;32m    126\u001b[0m \u001b[0;34m\u001b[0m\u001b[0m\n\u001b[1;32m    127\u001b[0m     \u001b[0;32mif\u001b[0m \u001b[0medge_weight\u001b[0m \u001b[0;32mis\u001b[0m \u001b[0;32mnot\u001b[0m \u001b[0;32mNone\u001b[0m\u001b[0;34m:\u001b[0m\u001b[0;34m\u001b[0m\u001b[0;34m\u001b[0m\u001b[0m\n",
      "\u001b[0;31mRuntimeError\u001b[0m: torch.cat(): Sizes of tensors must match except in dimension 1. Got 259000 and 2 in dimension 0 (The offending index is 1)"
     ]
    }
   ],
   "source": [
    "pred = model(data)"
   ]
  },
  {
   "cell_type": "code",
   "execution_count": 628,
   "id": "9b97284a-39e2-4288-a919-fc5c04358e13",
   "metadata": {},
   "outputs": [
    {
     "data": {
      "text/plain": [
       "torch.Size([736, 1])"
      ]
     },
     "execution_count": 628,
     "metadata": {},
     "output_type": "execute_result"
    }
   ],
   "source": [
    "pred.shape"
   ]
  },
  {
   "cell_type": "code",
   "execution_count": 629,
   "id": "c7ac1cc1-d0d3-4a27-a097-9d291d2e9674",
   "metadata": {},
   "outputs": [],
   "source": [
    "loss = F.mse_loss(pred[:,0],data.y)"
   ]
  },
  {
   "cell_type": "code",
   "execution_count": 630,
   "id": "2baee634-d075-4338-99f2-d374ea603896",
   "metadata": {},
   "outputs": [
    {
     "data": {
      "text/plain": [
       "(3.313697576522827, 1.8203564421625857)"
      ]
     },
     "execution_count": 630,
     "metadata": {},
     "output_type": "execute_result"
    }
   ],
   "source": [
    "loss.abs().item(),np.sqrt(loss.abs().item())"
   ]
  },
  {
   "cell_type": "code",
   "execution_count": null,
   "id": "a65a46d1-f97f-49a4-ae3e-c9af8a475ec3",
   "metadata": {},
   "outputs": [],
   "source": []
  },
  {
   "cell_type": "code",
   "execution_count": 405,
   "id": "c1000660-e1a0-4bf1-8d98-0d557f40e3f2",
   "metadata": {},
   "outputs": [
    {
     "data": {
      "text/plain": [
       "numpy.ndarray"
      ]
     },
     "execution_count": 405,
     "metadata": {},
     "output_type": "execute_result"
    }
   ],
   "source": [
    "type(pred.detach().numpy())"
   ]
  },
  {
   "cell_type": "code",
   "execution_count": 696,
   "id": "498df8ca-f92e-4bf4-8535-ac46c7407fa0",
   "metadata": {},
   "outputs": [
    {
     "data": {
      "image/png": "[encoded data removed]",
      "text/plain": [
       "<Figure size 432x288 with 1 Axes>"
      ]
     },
     "metadata": {
      "needs_background": "light"
     },
     "output_type": "display_data"
    }
   ],
   "source": [
    "_ = plt.hist(pred.detach().numpy())"
   ]
  },
  {
   "cell_type": "code",
   "execution_count": 735,
   "id": "4284dec2-ff34-4dea-93ac-bb15834d8775",
   "metadata": {},
   "outputs": [
    {
     "data": {
      "image/png": "[encoded data removed]",
      "text/plain": [
       "<Figure size 432x288 with 1 Axes>"
      ]
     },
     "metadata": {
      "needs_background": "light"
     },
     "output_type": "display_data"
    }
   ],
   "source": [
    "_ = plt.hist(data.y.detach().numpy())"
   ]
  },
  {
   "cell_type": "code",
   "execution_count": 445,
   "id": "8a98af82-f250-41c4-ae5e-0001f5f37f97",
   "metadata": {},
   "outputs": [
    {
     "data": {
      "text/plain": [
       "Text(0, 0.5, 'True')"
      ]
     },
     "execution_count": 445,
     "metadata": {},
     "output_type": "execute_result"
    },
    {
     "data": {
      "image/png": "[encoded data removed]",
      "text/plain": [
       "<Figure size 432x288 with 1 Axes>"
      ]
     },
     "metadata": {
      "needs_background": "light"
     },
     "output_type": "display_data"
    }
   ],
   "source": [
    "plt.scatter(pred.detach().numpy(),data.y.detach().numpy(),alpha = 0.3)\n",
    "\n",
    "plt.xlim(-1,7)\n",
    "plt.ylim(-1,7)\n",
    "\n",
    "plt.plot([0,6],[0,6])\n",
    "\n",
    "plt.xlabel('Predicted')\n",
    "plt.ylabel('True')"
   ]
  },
  {
   "cell_type": "markdown",
   "id": "6169a28c-60e8-48bc-9ece-b44ee4f00b3c",
   "metadata": {},
   "source": [
    "## Set up training/testing"
   ]
  },
  {
   "cell_type": "code",
   "execution_count": 149,
   "id": "2d44a327-a5d0-4011-bdeb-e1b76c3a45b6",
   "metadata": {},
   "outputs": [],
   "source": [
    "x = torch.tensor(df.values, dtype=torch.float)"
   ]
  },
  {
   "cell_type": "code",
   "execution_count": 150,
   "id": "e7bd39a2-f009-4b7d-af28-b966be387444",
   "metadata": {},
   "outputs": [
    {
     "data": {
      "text/plain": [
       "Index(['Probability', 'Achievement', 'Independence', 'Recognition',\n",
       "       'Relationships', 'Support', 'Working Conditions'],\n",
       "      dtype='object')"
      ]
     },
     "execution_count": 150,
     "metadata": {},
     "output_type": "execute_result"
    }
   ],
   "source": [
    "df.columns"
   ]
  },
  {
   "cell_type": "code",
   "execution_count": 151,
   "id": "18e11b5d-b499-4245-90f1-f7703bc0b658",
   "metadata": {},
   "outputs": [],
   "source": [
    "y = torch.tensor(df['Support'].values, dtype=torch.float)"
   ]
  },
  {
   "cell_type": "code",
   "execution_count": 152,
   "id": "4f263731-c358-4f15-acd7-a140b2dca561",
   "metadata": {},
   "outputs": [],
   "source": [
    "data = Data(x=x, y=y, edge_index=edge_index.t().contiguous().T,train_mask = train_mask, test_mask = test_mask)"
   ]
  },
  {
   "cell_type": "code",
   "execution_count": 153,
   "id": "608cfee2-55d3-44c2-be99-f290bff16b15",
   "metadata": {},
   "outputs": [],
   "source": [
    "class GCN(torch.nn.Module):\n",
    "    def __init__(self):\n",
    "        super().__init__()\n",
    "        self.conv1 = GCNConv(-1, 4)\n",
    "        #self.conv2 = GCNConv(-1, 4,add_self_loops = False)\n",
    "        self.conv2 = GCNConv(-1, 4)\n",
    "        self.conv3 = GCNConv(4, 1,add_self_loops = False) # Try to predict one single work value\n",
    "        \n",
    "    def forward(self,data):\n",
    "        x, edge_index = data.x, data.edge_index\n",
    "        \n",
    "        x = self.conv1(x, edge_index)\n",
    "        #x = F.dropout(x, training=self.training)\n",
    "        x = self.conv2(x,edge_index)\n",
    "        #x = F.dropout(x, training=self.training)\n",
    "        #x = self.conv2(x,edge_index)\n",
    "        x = self.conv3(x,edge_index)\n",
    "\n",
    "        return x"
   ]
  },
  {
   "cell_type": "code",
   "execution_count": 154,
   "id": "675052b3-6ef9-49d2-9f03-3522fa16f616",
   "metadata": {},
   "outputs": [],
   "source": [
    "device = torch.device('cuda' if torch.cuda.is_available() else 'cpu')\n",
    "model = GCN().to(device)"
   ]
  },
  {
   "cell_type": "code",
   "execution_count": 155,
   "id": "a975a01b-43f0-4438-a96e-84c7b6992ebd",
   "metadata": {},
   "outputs": [],
   "source": [
    "data = data.to(device)"
   ]
  },
  {
   "cell_type": "code",
   "execution_count": 156,
   "id": "31169c65-ebbc-4be8-9ee8-d25d2651dacb",
   "metadata": {},
   "outputs": [],
   "source": [
    "optimizer = torch.optim.Adam(model.parameters(), lr=0.01, weight_decay=5e-4)"
   ]
  },
  {
   "cell_type": "code",
   "execution_count": 157,
   "id": "32eca429-a1a8-4968-a774-c3c7bafecfe5",
   "metadata": {},
   "outputs": [
    {
     "data": {
      "text/plain": [
       "GCN(\n",
       "  (conv1): GCNConv(-1, 4)\n",
       "  (conv2): GCNConv(-1, 4)\n",
       "  (conv3): GCNConv(4, 1)\n",
       ")"
      ]
     },
     "execution_count": 157,
     "metadata": {},
     "output_type": "execute_result"
    }
   ],
   "source": [
    "model.train()"
   ]
  },
  {
   "cell_type": "code",
   "execution_count": 158,
   "id": "9f3bb3d0-ff64-4d17-a726-7debc8cf2539",
   "metadata": {
    "tags": []
   },
   "outputs": [
    {
     "data": {
      "text/plain": [
       "torch.Size([662])"
      ]
     },
     "execution_count": 158,
     "metadata": {},
     "output_type": "execute_result"
    }
   ],
   "source": [
    "out.flatten()[data.train_mask > 0.001].size()"
   ]
  },
  {
   "cell_type": "code",
   "execution_count": 159,
   "id": "696fd5a3-b054-479a-adc2-731aa218c10c",
   "metadata": {},
   "outputs": [
    {
     "data": {
      "text/plain": [
       "torch.Size([662])"
      ]
     },
     "execution_count": 159,
     "metadata": {},
     "output_type": "execute_result"
    }
   ],
   "source": [
    "data.y[data.train_mask > 0.001].size()"
   ]
  },
  {
   "cell_type": "code",
   "execution_count": 893,
   "id": "3ba8c331-81f9-40f3-99bb-51fce761b6b7",
   "metadata": {
    "collapsed": true,
    "jupyter": {
     "outputs_hidden": true
    },
    "tags": []
   },
   "outputs": [
    {
     "data": {
      "text/plain": [
       "tensor([6.5006, 5.3309, 5.3302, 5.9999, 5.3300, 5.3305, 4.6707, 5.3304, 5.5004,\n",
       "        5.4302, 4.0008, 4.4438, 5.3303, 5.3305, 5.3303, 4.8902, 5.3301, 5.6697,\n",
       "        5.6707, 6.0001, 6.3346, 4.3307, 5.6698, 5.0002, 5.0001, 5.0006, 5.4434,\n",
       "        4.0009, 5.0001, 5.3303, 5.0005, 5.4809, 6.3297, 4.0005, 3.9999, 4.0006,\n",
       "        4.1652, 4.0004, 4.5548, 4.0006, 4.9993, 3.0008, 5.6692, 5.3335, 5.3302,\n",
       "        5.0005, 4.6701, 5.3298, 4.6693, 4.9432, 5.0000, 3.6656, 4.0005, 4.3302,\n",
       "        5.6698, 5.0002, 4.3302, 4.6704, 4.8297, 4.6704, 4.3295, 3.3303, 4.9177,\n",
       "        5.6700, 5.0002, 4.6704, 5.6692, 5.0002, 5.6699, 5.0006, 4.6696, 4.6703,\n",
       "        5.4990, 4.9999, 5.3289, 5.5560, 4.6701, 5.9999, 5.9995, 5.1099, 4.3296,\n",
       "        5.6704, 5.0004, 4.9993, 4.3350, 5.0007, 5.3301, 5.3303, 5.3306, 5.3304,\n",
       "        5.3301, 5.6700, 4.6653, 5.9998, 5.2235, 5.8300, 5.5004, 5.0002, 5.8865,\n",
       "        5.0005, 5.6700, 5.3305, 5.6673, 3.8301, 3.9997, 4.3298, 4.9996, 4.3298,\n",
       "        3.8353, 4.3352, 4.3295, 4.6696, 4.6694, 4.7495, 3.5000, 5.3303, 4.9997,\n",
       "        5.9997, 5.6704, 5.0005, 5.3295, 5.4471, 4.6667, 4.0007, 5.6699, 5.6704,\n",
       "        6.0001, 6.0007, 5.3298, 5.6697, 5.6700, 5.7497, 5.3306, 5.3291, 5.6699,\n",
       "        5.6651, 4.6704, 5.6670, 5.6698, 5.6707, 5.6701, 5.0000, 5.8348, 5.6696,\n",
       "        5.0003, 5.6701, 4.9997, 3.4998, 4.3290, 3.3300, 4.0000, 3.8296, 3.8348,\n",
       "        4.6693, 4.0003, 4.3293, 4.1101, 5.3299, 5.3297, 5.6702, 5.3298, 5.6684,\n",
       "        5.9985, 5.6695, 5.9986, 4.9999, 3.9999, 3.6700, 6.6693, 5.6689, 6.0006,\n",
       "        4.9986, 5.6702, 5.3301, 6.3308, 3.9998, 3.9993, 3.9993, 5.6702, 5.3302,\n",
       "        5.9998, 5.9999, 5.6704, 5.6705, 5.6705, 5.3302, 5.9998, 5.9999, 5.9997,\n",
       "        5.6703, 6.0002, 5.9998, 5.9998, 5.3305, 5.6705, 5.6701, 5.6702, 5.6705,\n",
       "        4.6708, 5.6702, 5.9996, 5.6701, 6.0003, 5.6701, 5.6699, 5.6701, 5.9997,\n",
       "        5.0005, 5.6702, 5.6702, 5.6698, 5.6699, 4.9998, 4.6689, 5.3296, 5.6693,\n",
       "        4.9998, 5.3296, 5.6690, 5.3296, 4.9994, 5.6693, 5.0001, 4.6704, 4.6700,\n",
       "        5.6701, 4.6695, 4.6702, 3.0001, 4.6698, 4.9999, 5.4996, 3.3300, 5.9999,\n",
       "        5.9979, 5.6697, 5.0001, 5.0000, 5.6697, 4.9986, 5.6694, 5.6694, 3.9996,\n",
       "        5.6687, 5.6693, 5.5345, 5.9993, 5.9988, 5.6685, 5.3288, 5.9997, 6.3341,\n",
       "        5.3289, 5.3297, 3.6702, 5.6702, 5.6698, 5.6697, 5.3302, 4.3298, 5.4992,\n",
       "        3.6705, 3.0002, 3.9995, 3.6698, 5.3301, 4.3300, 3.6707, 5.0004, 5.6702,\n",
       "        6.0005, 6.0006, 6.0007, 5.0005, 6.0004, 4.6709, 6.3305, 6.6703, 6.0827,\n",
       "        4.8298, 6.0001, 5.4996, 5.6702, 4.9997, 5.5560, 4.3304, 5.6696, 6.9995,\n",
       "        5.3338, 5.6697, 5.2231, 4.9172, 3.0001, 4.3300, 4.3302, 4.9997, 5.3295,\n",
       "        4.0002, 4.0002, 2.6700, 3.0000, 3.6699, 4.9993, 4.6694, 3.3306, 5.3291,\n",
       "        3.0004, 3.6705, 5.6698, 4.4995, 5.0001, 4.3297, 5.9991, 5.6692, 2.3300,\n",
       "        3.9999, 4.9985, 4.6688, 4.6695, 4.6687, 3.6704, 3.3301, 4.6688, 2.6701,\n",
       "        2.9997, 2.9999, 2.3301, 3.9997, 4.6699, 5.0015, 5.3352, 5.4994, 5.1648,\n",
       "        5.3294, 3.3303, 3.9996, 4.8660, 4.9996, 2.0008, 5.6698, 4.0002, 3.9997,\n",
       "        5.3295, 4.0000, 3.3303, 2.0006, 4.9985, 5.0008, 3.6704, 1.9999, 2.3304,\n",
       "        3.3299, 2.3305, 1.6700, 2.3309, 1.6698, 1.8354, 2.3298, 1.6703, 1.6702,\n",
       "        1.6701, 2.6698, 3.6706, 4.0000, 1.6700, 1.6697, 3.3301, 2.6697, 2.0008,\n",
       "        2.6703, 5.0007, 3.3303, 4.6653, 4.0000, 2.6701, 2.3306, 2.0001, 2.6695,\n",
       "        1.3305, 2.0008, 2.0004, 1.3308, 3.6701, 2.0007, 4.6701, 4.6686, 3.9997,\n",
       "        4.0001, 2.0005, 1.6700, 4.6694, 1.6708, 3.6697, 2.0006, 4.3292, 3.9993,\n",
       "        3.9990, 4.3295, 4.6693, 3.9998, 3.6706, 4.3305, 2.6696, 2.3301, 2.3299,\n",
       "        2.6705, 2.9998, 5.0003, 4.9993, 5.3331, 3.3302, 4.9995, 4.6696, 2.6707,\n",
       "        1.6719, 4.6702, 5.3297, 5.6693, 3.3290, 3.6690, 4.3306, 2.3308, 2.6702,\n",
       "        3.3293, 2.6656, 3.6697, 2.6697, 3.3299, 3.6701, 2.9999, 3.9999, 2.3309,\n",
       "        2.9972, 2.6655, 3.8349, 3.6703, 2.3299, 2.3303, 2.3305, 2.6698, 3.6700,\n",
       "        3.6700, 2.3307, 3.3303, 2.9996, 3.3301, 3.1652, 2.0003, 3.9999, 3.3305,\n",
       "        2.6702, 2.3307, 2.3307, 2.3299, 4.0001, 2.6702, 2.0002, 2.3302, 3.6696,\n",
       "        3.0001, 3.3299, 3.3295, 3.9996, 1.9999, 2.0007, 4.9983, 2.9998, 1.9998,\n",
       "        2.3302, 2.0003, 3.6700, 3.9999, 4.4999, 4.6699, 1.0004, 2.6703, 3.9993,\n",
       "        2.9998, 2.3303, 2.0013, 5.3351, 3.0003, 2.9999, 3.6698, 3.6648, 2.0005,\n",
       "        2.6702, 2.0001, 2.0014, 2.3308, 3.6692, 2.3298, 2.3301, 2.3298, 3.3296,\n",
       "        2.6705, 2.3302, 4.3298, 3.3295, 2.3301, 2.6708, 2.9999, 2.3297, 2.3304,\n",
       "        3.5003, 2.6706, 2.0005, 2.6707, 2.9998, 2.6702, 1.6705, 2.0004, 2.0004,\n",
       "        2.0000, 2.3298, 2.0000, 4.3300, 3.6704, 2.0004, 2.6701, 2.0003, 2.6701,\n",
       "        2.3302, 2.3307, 3.4994, 2.3303, 2.6705, 2.6702, 3.0000, 3.6696, 2.0002,\n",
       "        2.3302, 1.6702, 2.9995, 2.0001, 1.9997, 4.6702, 3.3300, 3.8293, 3.9997,\n",
       "        3.9999, 3.3300, 3.6695, 3.3304, 3.3301, 3.0004, 3.0000, 3.3301, 3.9997,\n",
       "        3.0003, 3.0001, 3.6699, 3.6699, 3.9993, 4.0001, 2.3304, 3.6699, 4.0001,\n",
       "        3.3302, 3.6695, 3.0002, 2.0002, 2.6705, 2.3306, 3.8351, 3.3300, 3.6698,\n",
       "        3.3300, 3.3305, 2.3307, 3.0003, 2.3308, 3.9994, 3.3305, 4.3290, 2.9999,\n",
       "        3.3299, 2.6706, 3.0007, 2.6691, 3.3305, 3.0000, 2.6704, 3.3299, 2.0003,\n",
       "        3.9990, 5.0002, 3.3299, 1.9997, 2.0002, 2.6697, 3.3300, 2.9994, 2.6697,\n",
       "        2.0004, 2.6699, 4.9981, 2.6700, 1.9998, 1.6698, 2.0002, 1.9998, 2.6696,\n",
       "        2.3304, 4.0001, 2.0003, 2.0000, 2.0006, 2.6696, 2.3305, 1.6706, 2.9993,\n",
       "        2.3299, 2.6703, 2.3299, 2.3299, 3.3296, 3.3301, 2.0002, 2.0002, 2.0003,\n",
       "        3.0000, 2.5002, 2.3303, 2.3300, 3.3298, 2.0003, 2.3302, 2.6706, 3.3297,\n",
       "        3.3300, 2.0003, 1.6697, 1.9999, 2.6694, 2.3298, 2.3304, 4.3291, 2.0002,\n",
       "        2.3298, 1.9997, 2.0000, 2.0002, 3.3297, 3.3295, 3.3297, 2.0004, 3.3302,\n",
       "        2.6703, 2.9995, 2.3304, 3.6700, 4.3300, 3.3298, 2.6703, 3.0001, 3.3304,\n",
       "        3.6698, 3.3304, 3.7518, 3.3298, 2.0008], grad_fn=<IndexBackward>)"
      ]
     },
     "execution_count": 893,
     "metadata": {},
     "output_type": "execute_result"
    }
   ],
   "source": [
    "out.flatten()[data.train_mask > 0.001]"
   ]
  },
  {
   "cell_type": "code",
   "execution_count": 160,
   "id": "3ed30b84-4ad6-4b10-ad3d-a59ae0160294",
   "metadata": {
    "tags": []
   },
   "outputs": [
    {
     "name": "stdout",
     "output_type": "stream",
     "text": [
      "LOSS = 5.3655 (2.3163)\n",
      "LOSS = 0.0085 (0.0921)\n",
      "LOSS = 0.0009 (0.0302)\n",
      "LOSS = 0.0002 (0.0149)\n",
      "LOSS = 0.0000 (0.0069)\n",
      "LOSS = 0.0000 (0.0031)\n",
      "LOSS = 0.0000 (0.0015)\n",
      "LOSS = 0.0000 (0.0009)\n"
     ]
    }
   ],
   "source": [
    "for epoch in range(800):\n",
    "    optimizer.zero_grad()\n",
    "    out = model(data)\n",
    "    #loss = F.mse_loss(Variable(data.x[data.train_mask,0],requires_grad = True), data.y[data.train_mask])\n",
    "    #loss = F.mse_loss(Variable(data.x[:,1],requires_grad = True), data.y)\n",
    "    #loss = F.mse_loss(out[data.train_mask], data.y[data.train_mask])\n",
    "    loss = F.mse_loss(out.flatten()[data.train_mask > 0.001], data.y[data.train_mask > 0.001])\n",
    "    loss.backward()\n",
    "    optimizer.step()\n",
    "    \n",
    "    if epoch % 100 == 0:\n",
    "        print('LOSS = {:.4f} ({:.4f})'.format(loss.item(),np.sqrt(loss.item())))"
   ]
  },
  {
   "cell_type": "code",
   "execution_count": 987,
   "id": "4b3b5abd-8587-4c30-a16f-665d80c7efef",
   "metadata": {},
   "outputs": [],
   "source": [
    "pred = model(data)"
   ]
  },
  {
   "cell_type": "code",
   "execution_count": 988,
   "id": "462931c2-9c69-45d4-a0ed-3ec9eeba05b6",
   "metadata": {},
   "outputs": [],
   "source": [
    "loss = F.mse_loss(pred.flatten()[data.test_mask > 0.001],data.y[data.test_mask > 0.01])"
   ]
  },
  {
   "cell_type": "code",
   "execution_count": 989,
   "id": "35e39930-66bc-4d2e-906b-163034420b5d",
   "metadata": {},
   "outputs": [
    {
     "data": {
      "text/plain": [
       "(2.1796542171159672e-07, 0.0004668676704502002)"
      ]
     },
     "execution_count": 989,
     "metadata": {},
     "output_type": "execute_result"
    }
   ],
   "source": [
    "loss.abs().item(),np.sqrt(loss.abs().item())"
   ]
  },
  {
   "cell_type": "markdown",
   "id": "51054f2c-d46b-4c00-b827-84fc84b37124",
   "metadata": {},
   "source": [
    "## Loop through work values"
   ]
  },
  {
   "cell_type": "code",
   "execution_count": 1077,
   "id": "ea2a8c77-941f-4d75-bcd5-5ed619be6267",
   "metadata": {},
   "outputs": [
    {
     "name": "stdout",
     "output_type": "stream",
     "text": [
      "\n",
      "----\n",
      "Probability\n",
      "LOSS = 2.1978 (1.4825)\n",
      "LOSS = 0.0552 (0.2349)\n",
      "LOSS = 0.0342 (0.1849)\n",
      "LOSS = 0.0143 (0.1195)\n",
      "LOSS = 0.0035 (0.0589)\n",
      "LOSS = 0.0004 (0.0208)\n",
      "LOSS = 0.0000 (0.0063)\n",
      "LOSS = 0.0000 (0.0023)\n",
      "Training loss: 1.879433e-06 (1.370924e-03)\n"
     ]
    },
    {
     "data": {
      "image/png": "[encoded data removed]",
      "text/plain": [
       "<Figure size 432x288 with 1 Axes>"
      ]
     },
     "metadata": {
      "needs_background": "light"
     },
     "output_type": "display_data"
    },
    {
     "name": "stdout",
     "output_type": "stream",
     "text": [
      "\n",
      "----\n",
      "Achievement\n",
      "LOSS = 198.5452 (14.0906)\n",
      "LOSS = 0.2965 (0.5445)\n",
      "LOSS = 0.2060 (0.4538)\n",
      "LOSS = 0.1712 (0.4137)\n",
      "LOSS = 0.1496 (0.3867)\n",
      "LOSS = 0.1336 (0.3655)\n",
      "LOSS = 0.1205 (0.3471)\n",
      "LOSS = 0.1090 (0.3302)\n",
      "Training loss: 1.246981e-01 (3.531262e-01)\n"
     ]
    },
    {
     "data": {
      "image/png": "[encoded data removed]",
      "text/plain": [
       "<Figure size 432x288 with 1 Axes>"
      ]
     },
     "metadata": {
      "needs_background": "light"
     },
     "output_type": "display_data"
    },
    {
     "name": "stdout",
     "output_type": "stream",
     "text": [
      "\n",
      "----\n",
      "Independence\n",
      "LOSS = 98.3654 (9.9179)\n",
      "LOSS = 0.3660 (0.6050)\n",
      "LOSS = 0.2099 (0.4582)\n",
      "LOSS = 0.1192 (0.3453)\n",
      "LOSS = 0.0651 (0.2551)\n",
      "LOSS = 0.0352 (0.1876)\n",
      "LOSS = 0.0206 (0.1436)\n",
      "LOSS = 0.0132 (0.1149)\n",
      "Training loss: 1.203608e-02 (1.097091e-01)\n"
     ]
    },
    {
     "data": {
      "image/png": "[encoded data removed]",
      "text/plain": [
       "<Figure size 432x288 with 1 Axes>"
      ]
     },
     "metadata": {
      "needs_background": "light"
     },
     "output_type": "display_data"
    },
    {
     "name": "stdout",
     "output_type": "stream",
     "text": [
      "\n",
      "----\n",
      "Recognition\n",
      "LOSS = 211.6077 (14.5467)\n",
      "LOSS = 0.4869 (0.6978)\n",
      "LOSS = 0.1850 (0.4301)\n",
      "LOSS = 0.1199 (0.3463)\n",
      "LOSS = 0.0832 (0.2885)\n",
      "LOSS = 0.0538 (0.2319)\n",
      "LOSS = 0.0308 (0.1756)\n",
      "LOSS = 0.0154 (0.1241)\n",
      "Training loss: 4.629307e-03 (6.803901e-02)\n"
     ]
    },
    {
     "data": {
      "image/png": "[encoded data removed]",
      "text/plain": [
       "<Figure size 432x288 with 1 Axes>"
      ]
     },
     "metadata": {
      "needs_background": "light"
     },
     "output_type": "display_data"
    },
    {
     "name": "stdout",
     "output_type": "stream",
     "text": [
      "\n",
      "----\n",
      "Relationships\n",
      "LOSS = 66.6212 (8.1622)\n",
      "LOSS = 0.3137 (0.5601)\n",
      "LOSS = 0.1657 (0.4071)\n",
      "LOSS = 0.0987 (0.3142)\n",
      "LOSS = 0.0663 (0.2575)\n",
      "LOSS = 0.0468 (0.2164)\n",
      "LOSS = 0.0333 (0.1824)\n",
      "LOSS = 0.0235 (0.1532)\n",
      "Training loss: 2.037348e-02 (1.427357e-01)\n"
     ]
    },
    {
     "data": {
      "image/png": "[encoded data removed]",
      "text/plain": [
       "<Figure size 432x288 with 1 Axes>"
      ]
     },
     "metadata": {
      "needs_background": "light"
     },
     "output_type": "display_data"
    },
    {
     "name": "stdout",
     "output_type": "stream",
     "text": [
      "\n",
      "----\n",
      "Support\n",
      "LOSS = 45.5749 (6.7509)\n",
      "LOSS = 0.1316 (0.3628)\n",
      "LOSS = 0.0933 (0.3054)\n",
      "LOSS = 0.0740 (0.2719)\n",
      "LOSS = 0.0581 (0.2410)\n",
      "LOSS = 0.0456 (0.2135)\n",
      "LOSS = 0.0359 (0.1895)\n",
      "LOSS = 0.0283 (0.1683)\n",
      "Training loss: 1.644037e-02 (1.282200e-01)\n"
     ]
    },
    {
     "data": {
      "image/png": "[encoded data removed]",
      "text/plain": [
       "<Figure size 432x288 with 1 Axes>"
      ]
     },
     "metadata": {
      "needs_background": "light"
     },
     "output_type": "display_data"
    },
    {
     "name": "stdout",
     "output_type": "stream",
     "text": [
      "\n",
      "----\n",
      "Working Conditions\n",
      "LOSS = 37.2394 (6.1024)\n",
      "LOSS = 0.1321 (0.3634)\n",
      "LOSS = 0.0420 (0.2049)\n",
      "LOSS = 0.0213 (0.1461)\n",
      "LOSS = 0.0130 (0.1139)\n",
      "LOSS = 0.0077 (0.0878)\n",
      "LOSS = 0.0043 (0.0657)\n",
      "LOSS = 0.0023 (0.0482)\n",
      "Training loss: 1.714684e-03 (4.140874e-02)\n"
     ]
    },
    {
     "data": {
      "image/png": "[encoded data removed]",
      "text/plain": [
       "<Figure size 432x288 with 1 Axes>"
      ]
     },
     "metadata": {
      "needs_background": "light"
     },
     "output_type": "display_data"
    }
   ],
   "source": [
    "trainingLosses = []\n",
    "testingLosses = []\n",
    "\n",
    "workValues = ['Probability', 'Achievement', 'Independence', 'Recognition','Relationships', 'Support', 'Working Conditions']\n",
    "\n",
    "for wv in workValues:\n",
    "    \n",
    "    print('\\n----\\n{:s}'.format(wv))\n",
    "    \n",
    "    y = torch.tensor(df[wv].values, dtype=torch.float)\n",
    "    \n",
    "    train_mask = train_mask[torch.randperm(train_mask.size()[0])]\n",
    "    test_mask = torch.abs(train_mask - 1)\n",
    "    # Random test/train split\n",
    "    \n",
    "    data = Data(x=x, y=y, edge_index=edge_index.t().contiguous().T,train_mask = train_mask, test_mask = test_mask)\n",
    "    \n",
    "    device = torch.device('cuda' if torch.cuda.is_available() else 'cpu')\n",
    "    model = GCN().to(device)\n",
    "    \n",
    "    data = data.to(device)\n",
    "    \n",
    "    \n",
    "    optimizer = torch.optim.Adam(model.parameters(), lr=0.01, weight_decay=5e-4)\n",
    "    \n",
    "    model.train()\n",
    "    \n",
    "    for epoch in range(800):\n",
    "        optimizer.zero_grad()\n",
    "        out = model(data)\n",
    "        #loss = F.mse_loss(Variable(data.x[data.train_mask,0],requires_grad = True), data.y[data.train_mask])\n",
    "        #loss = F.mse_loss(Variable(data.x[:,1],requires_grad = True), data.y)\n",
    "        #loss = F.mse_loss(out[data.train_mask], data.y[data.train_mask])\n",
    "        loss = F.mse_loss(out.flatten()[data.train_mask > 0.001], data.y[data.train_mask > 0.001])\n",
    "        loss.backward()\n",
    "        optimizer.step()\n",
    "    \n",
    "        if epoch % 100 == 0:\n",
    "            print('LOSS = {:.4f} ({:.4f})'.format(loss.item(),np.sqrt(loss.item())))\n",
    "            \n",
    "            \n",
    "    trainingLosses.append(loss.item())\n",
    "    \n",
    "    pred = model(data)\n",
    "    loss = F.mse_loss(pred.flatten()[data.test_mask > 0.001],data.y[data.test_mask > 0.01])\n",
    "    \n",
    "    testingLosses.append(loss.item())\n",
    "    \n",
    "    print('Training loss: {:e} ({:e})'.format(loss.abs().item(),np.sqrt(loss.abs().item())))\n",
    "    \n",
    "    plt.plot(pred.flatten()[data.test_mask > 0.001].detach().numpy(),data.y[data.test_mask > 0.01],'.')\n",
    "    plt.title(wv)\n",
    "    plt.show()"
   ]
  },
  {
   "cell_type": "code",
   "execution_count": 1033,
   "id": "e14d11ee-4fe6-4905-86ed-8d605070b907",
   "metadata": {},
   "outputs": [],
   "source": [
    "import collections"
   ]
  },
  {
   "cell_type": "code",
   "execution_count": 1069,
   "id": "a2696a3a-022e-4196-ab32-f55ff5235146",
   "metadata": {},
   "outputs": [],
   "source": [
    "threeLayer = d"
   ]
  },
  {
   "cell_type": "code",
   "execution_count": 1046,
   "id": "716d9bb1-bb63-4b03-a56f-1945398ec23b",
   "metadata": {},
   "outputs": [],
   "source": [
    "wvs = ['Probability', 'Achievement', 'Independence', 'Recognition','Relationships', 'Support', 'Working Conditions']"
   ]
  },
  {
   "cell_type": "code",
   "execution_count": 1068,
   "id": "bf52ef73-1c80-4541-ae21-58485f5879fe",
   "metadata": {},
   "outputs": [
    {
     "name": "stdout",
     "output_type": "stream",
     "text": [
      "Probability\n",
      "Train 3.799e-04\n",
      "Test 2.650e-04\n",
      "----\n",
      "\n",
      "Achievement\n",
      "Train 9.159e-05\n",
      "Test 8.832e-05\n",
      "----\n",
      "\n",
      "Independence\n",
      "Train 2.241e-03\n",
      "Test 2.130e-03\n",
      "----\n",
      "\n",
      "Recognition\n",
      "Train 1.405e-06\n",
      "Test 1.485e-06\n",
      "----\n",
      "\n",
      "Relationships\n",
      "Train 2.603e-06\n",
      "Test 2.834e-06\n",
      "----\n",
      "\n",
      "Support\n",
      "Train 9.507e-05\n",
      "Test 7.102e-05\n",
      "----\n",
      "\n",
      "Working Conditions\n",
      "Train 3.019e-02\n",
      "Test 2.034e-02\n",
      "----\n",
      "\n"
     ]
    }
   ],
   "source": [
    "if True:\n",
    "    threeLayer = collections.OrderedDict()\n",
    "    d = threeLayer\n",
    "else:\n",
    "    oneLayer = collections.OrderedDict()\n",
    "    d = oneLayer\n",
    "\n",
    "for tr,te,wv in zip(trainingLosses,testingLosses,wvs):\n",
    "    print('{:s}\\nTrain {:.3e}\\nTest {:.3e}\\n----\\n'.format(wv,tr,te))\n",
    "    \n",
    "    d[wv] = [tr,te]"
   ]
  },
  {
   "cell_type": "code",
   "execution_count": 1064,
   "id": "42594eef-6763-4c99-a458-fde3c68ed05d",
   "metadata": {},
   "outputs": [
    {
     "data": {
      "text/plain": [
       "(0.0, 0.11)"
      ]
     },
     "execution_count": 1064,
     "metadata": {},
     "output_type": "execute_result"
    },
    {
     "data": {
      "image/png": "[encoded data removed]",
      "text/plain": [
       "<Figure size 432x288 with 1 Axes>"
      ]
     },
     "metadata": {
      "needs_background": "light"
     },
     "output_type": "display_data"
    }
   ],
   "source": [
    "ax = plt.subplot(111)\n",
    "\n",
    "ax.bar(range(len(d.keys())),[v[0] for v in oneLayer.values()],0.4,label = 'Train')\n",
    "ax.bar([r +0.5 for r in range(len(d.keys()))],[v[1] for v in oneLayer.values()],0.4,label = 'Test')\n",
    "\n",
    "_ = plt.xticks(range(len(d.keys())),workValues,rotation = 90)\n",
    "\n",
    "_ = plt.title('One Layer')\n",
    "\n",
    "plt.legend()\n",
    "\n",
    "plt.ylim(0,0.11)"
   ]
  },
  {
   "cell_type": "code",
   "execution_count": 1065,
   "id": "ee1c06df-dd22-4a08-963d-d0b134dbfabd",
   "metadata": {},
   "outputs": [
    {
     "data": {
      "text/plain": [
       "(0.0, 0.11)"
      ]
     },
     "execution_count": 1065,
     "metadata": {},
     "output_type": "execute_result"
    },
    {
     "data": {
      "image/png": "[encoded data removed]",
      "text/plain": [
       "<Figure size 432x288 with 1 Axes>"
      ]
     },
     "metadata": {
      "needs_background": "light"
     },
     "output_type": "display_data"
    }
   ],
   "source": [
    "ax = plt.subplot(111)\n",
    "\n",
    "ax.bar(range(len(d.keys())),[v[0] for v in twoLayer.values()],0.4,label = 'Train')\n",
    "ax.bar([r +0.5 for r in range(len(d.keys()))],[v[1] for v in twoLayer.values()],0.4,label = 'Test')\n",
    "\n",
    "_ = plt.xticks(range(len(d.keys())),workValues,rotation = 90)\n",
    "\n",
    "_ = plt.title('Two Layer')\n",
    "\n",
    "plt.legend()\n",
    "\n",
    "plt.ylim(0,0.11)"
   ]
  },
  {
   "cell_type": "code",
   "execution_count": 1072,
   "id": "85b7dee8-31ba-4c5c-9244-13a79dcd9d01",
   "metadata": {},
   "outputs": [
    {
     "data": {
      "text/plain": [
       "(0.0, 0.01)"
      ]
     },
     "execution_count": 1072,
     "metadata": {},
     "output_type": "execute_result"
    },
    {
     "data": {
      "image/png": "[encoded data removed]",
      "text/plain": [
       "<Figure size 432x288 with 1 Axes>"
      ]
     },
     "metadata": {
      "needs_background": "light"
     },
     "output_type": "display_data"
    }
   ],
   "source": [
    "ax = plt.subplot(111)\n",
    "\n",
    "ax.bar(range(len(d.keys())),[v[0] for v in threeLayer.values()],0.4,label = 'Train')\n",
    "ax.bar([r +0.5 for r in range(len(d.keys()))],[v[1] for v in threeLayer.values()],0.4,label = 'Test')\n",
    "\n",
    "_ = plt.xticks(range(len(d.keys())),workValues,rotation = 90)\n",
    "\n",
    "_ = plt.title('Three Layer')\n",
    "\n",
    "plt.legend()\n",
    "\n",
    "plt.ylim(0,0.01)"
   ]
  },
  {
   "cell_type": "markdown",
   "id": "100b6698-db31-4df7-bca5-397c95a6f0ad",
   "metadata": {},
   "source": [
    "## Mostly Garbage Below"
   ]
  },
  {
   "cell_type": "code",
   "execution_count": 964,
   "id": "2a35e2f7-7f69-40e8-966c-5aeeb28cf534",
   "metadata": {},
   "outputs": [
    {
     "data": {
      "text/plain": [
       "array([6.5      , 5.67     , 5.165    , 5.33     , 4.67     , 5.       ,\n",
       "       4.67     , 5.33     , 5.335    , 5.1928573, 4.33     , 4.2233334,\n",
       "       5.       , 5.67     , 5.       , 4.443333 , 4.67     , 4.67     ,\n",
       "       5.67     , 5.33     , 5.33     , 4.33     , 5.       , 4.33     ,\n",
       "       4.33     , 4.67     , 4.89     , 4.       , 4.33     , 5.       ,\n",
       "       5.       , 4.888889 , 5.33     , 3.67     , 3.67     , 4.       ,\n",
       "       3.835    , 3.67     , 3.7766666, 4.       , 4.       , 3.33     ,\n",
       "       4.67     , 5.113333 , 5.       , 5.       , 4.67     , 4.67     ,\n",
       "       3.67     , 4.335    , 4.67     , 3.67     , 4.       , 4.33     ,\n",
       "       5.33     , 4.67     , 4.       , 4.33     , 4.       , 4.67     ,\n",
       "       3.67     , 3.33     , 4.665    , 5.33     , 4.835    , 4.33     ,\n",
       "       4.33     , 5.33     , 5.33     , 5.       , 4.33     , 4.67     ,\n",
       "       4.165    , 4.33     ], dtype=float32)"
      ]
     },
     "execution_count": 964,
     "metadata": {},
     "output_type": "execute_result"
    }
   ],
   "source": [
    "data.y.detach().numpy()[data.test_mask > 0.01]"
   ]
  },
  {
   "cell_type": "code",
   "execution_count": 965,
   "id": "f1ee5c1b-cf13-4c20-853b-fd53814a67fb",
   "metadata": {},
   "outputs": [
    {
     "data": {
      "text/plain": [
       "array([6.500285 , 5.6724377, 5.1634154, 5.334283 , 4.670336 , 5.0038505,\n",
       "       4.6728387, 5.334068 , 5.3361607, 5.1927857, 4.329233 , 4.227877 ,\n",
       "       5.009136 , 5.6692076, 5.0023327, 4.441025 , 4.6732383, 4.669834 ,\n",
       "       5.6715612, 5.3322086, 5.3320923, 4.3260603, 5.0009212, 4.33142  ,\n",
       "       4.327276 , 4.673511 , 4.889444 , 4.0036306, 4.3337893, 5.0015435,\n",
       "       4.997691 , 4.8900104, 5.3316255, 3.671376 , 3.6657789, 4.00489  ,\n",
       "       3.8402975, 3.675309 , 3.7754812, 4.0011015, 4.004677 , 3.3273304,\n",
       "       4.6731224, 5.110247 , 5.0009704, 4.998426 , 4.669442 , 4.6700974,\n",
       "       3.67254  , 4.333946 , 4.6734905, 3.6707106, 4.007004 , 4.332389 ,\n",
       "       5.327133 , 4.6707597, 4.0027175, 4.3269067, 3.998578 , 4.6733785,\n",
       "       3.6730669, 3.3309453, 4.663842 , 5.3297763, 4.832103 , 4.3329997,\n",
       "       4.3345933, 5.328816 , 5.3312616, 4.999258 , 4.3304243, 4.67076  ,\n",
       "       4.1667924, 4.3360667], dtype=float32)"
      ]
     },
     "execution_count": 965,
     "metadata": {},
     "output_type": "execute_result"
    }
   ],
   "source": [
    "pred.detach().numpy()[data.test_mask > 0.01].flatten()"
   ]
  },
  {
   "cell_type": "code",
   "execution_count": 907,
   "id": "b40a912c-30e9-46b8-8941-0154c0b00733",
   "metadata": {},
   "outputs": [
    {
     "name": "stdout",
     "output_type": "stream",
     "text": [
      "('conv1.bias', Parameter containing:\n",
      "tensor([-0.0381, -0.1076], requires_grad=True))\n",
      "('conv1.lin.weight', Parameter containing:\n",
      "tensor([[-0.2099,  0.1609, -0.5871,  0.0720,  0.0653, -0.4709],\n",
      "        [ 0.2294,  0.6159, -0.8854,  0.7664,  0.5942, -0.1413]],\n",
      "       requires_grad=True))\n",
      "('conv2.bias', Parameter containing:\n",
      "tensor([ 0.0261, -0.0039], requires_grad=True))\n",
      "('conv2.lin.weight', Parameter containing:\n",
      "tensor([[-0.8818, -0.6293],\n",
      "        [ 0.0763, -0.4716]], requires_grad=True))\n",
      "('conv3.bias', Parameter containing:\n",
      "tensor([0.0077], requires_grad=True))\n",
      "('conv3.lin.weight', Parameter containing:\n",
      "tensor([[ 0.9487, -1.3316]], requires_grad=True))\n"
     ]
    }
   ],
   "source": [
    "for np in model.named_parameters():\n",
    "    print(np)"
   ]
  },
  {
   "cell_type": "code",
   "execution_count": 904,
   "id": "a45d85d8-c383-4cc4-91fc-6d22f9f69d8e",
   "metadata": {},
   "outputs": [
    {
     "name": "stdout",
     "output_type": "stream",
     "text": [
      "Parameter containing:\n",
      "tensor([-0.0381, -0.1076], requires_grad=True)\n",
      "Parameter containing:\n",
      "tensor([[-0.2099,  0.1609, -0.5871,  0.0720,  0.0653, -0.4709],\n",
      "        [ 0.2294,  0.6159, -0.8854,  0.7664,  0.5942, -0.1413]],\n",
      "       requires_grad=True)\n",
      "Parameter containing:\n",
      "tensor([ 0.0261, -0.0039], requires_grad=True)\n",
      "Parameter containing:\n",
      "tensor([[-0.8818, -0.6293],\n",
      "        [ 0.0763, -0.4716]], requires_grad=True)\n",
      "Parameter containing:\n",
      "tensor([0.0077], requires_grad=True)\n",
      "Parameter containing:\n",
      "tensor([[ 0.9487, -1.3316]], requires_grad=True)\n"
     ]
    }
   ],
   "source": [
    "for p in model.parameters():\n",
    "    print(p)"
   ]
  },
  {
   "cell_type": "code",
   "execution_count": 839,
   "id": "6359f89c-df69-4b55-aca3-daaef35429c3",
   "metadata": {},
   "outputs": [
    {
     "data": {
      "text/plain": [
       "0.05166264"
      ]
     },
     "execution_count": 839,
     "metadata": {},
     "output_type": "execute_result"
    }
   ],
   "source": [
    "np.square(data.y.detach().numpy()[data.test_mask > 0.01] - pred.detach().numpy()[data.test_mask > 0.01].flatten()).mean()\n",
    "# Manually calculate MSE"
   ]
  },
  {
   "cell_type": "code",
   "execution_count": 800,
   "id": "807d8b66-387a-43e5-9179-e10bda95796e",
   "metadata": {},
   "outputs": [],
   "source": [
    "meanOfTraining = data.y.detach().numpy()[data.test_mask < 0.01].mean()"
   ]
  },
  {
   "cell_type": "code",
   "execution_count": 803,
   "id": "b1bbda00-5f50-42d6-9c98-0eb15545cbee",
   "metadata": {},
   "outputs": [
    {
     "data": {
      "text/plain": [
       "0.8112542"
      ]
     },
     "execution_count": 803,
     "metadata": {},
     "output_type": "execute_result"
    }
   ],
   "source": [
    "np.square(pred.detach().numpy()[data.test_mask > 0.01].flatten() - meanOfTraining).mean()"
   ]
  },
  {
   "cell_type": "code",
   "execution_count": 782,
   "id": "5a49bd6c-27f9-4168-a323-ec28c1ba1100",
   "metadata": {},
   "outputs": [
    {
     "data": {
      "text/plain": [
       "Text(0, 0.5, 'True')"
      ]
     },
     "execution_count": 782,
     "metadata": {},
     "output_type": "execute_result"
    },
    {
     "data": {
      "image/png": "[encoded data removed]",
      "text/plain": [
       "<Figure size 432x288 with 1 Axes>"
      ]
     },
     "metadata": {
      "needs_background": "light"
     },
     "output_type": "display_data"
    }
   ],
   "source": [
    "plt.scatter(pred.detach().numpy(),data.y.detach().numpy(),alpha = 0.2)\n",
    "\n",
    "plt.xlim(-1,7)\n",
    "plt.ylim(-1,7)\n",
    "\n",
    "plt.plot([0,6],[0,6])\n",
    "\n",
    "plt.xlabel('Predicted')\n",
    "plt.ylabel('True')"
   ]
  },
  {
   "cell_type": "code",
   "execution_count": 779,
   "id": "9211daad-6da4-41fe-8e8d-3d4f03001055",
   "metadata": {},
   "outputs": [
    {
     "data": {
      "text/plain": [
       "Text(0, 0.5, 'True')"
      ]
     },
     "execution_count": 779,
     "metadata": {},
     "output_type": "execute_result"
    },
    {
     "data": {
      "image/png": "[encoded data removed]",
      "text/plain": [
       "<Figure size 432x288 with 1 Axes>"
      ]
     },
     "metadata": {
      "needs_background": "light"
     },
     "output_type": "display_data"
    }
   ],
   "source": [
    "#plt.scatter(pred.detach().numpy()[data.test_mask],data.y.detach().numpy()[data.test_mask],alpha = 0.3)\n",
    "plt.scatter(pred.detach().numpy()[data.test_mask > 0.01],data.y.detach().numpy()[data.test_mask > 0.01],alpha = 0.3)\n",
    "\n",
    "\n",
    "\n",
    "plt.xlim(-1,7)\n",
    "plt.ylim(-1,7)\n",
    "\n",
    "plt.plot([0,6],[0,6])\n",
    "\n",
    "plt.xlabel('Predicted')\n",
    "plt.ylabel('True')"
   ]
  },
  {
   "cell_type": "code",
   "execution_count": 668,
   "id": "21777b93-2452-40ac-9cec-e0861c96b1e3",
   "metadata": {},
   "outputs": [
    {
     "data": {
      "text/plain": [
       "74"
      ]
     },
     "execution_count": 668,
     "metadata": {},
     "output_type": "execute_result"
    }
   ],
   "source": [
    "data.test_mask.numpy().sum()"
   ]
  },
  {
   "cell_type": "code",
   "execution_count": null,
   "id": "184e6021-4013-4bda-8075-88d4903b43fb",
   "metadata": {},
   "outputs": [],
   "source": []
  },
  {
   "cell_type": "code",
   "execution_count": 700,
   "id": "86933c94-8873-4854-8420-32ccc91a6494",
   "metadata": {},
   "outputs": [
    {
     "data": {
      "text/plain": [
       "GCNConv(-1, 4)"
      ]
     },
     "execution_count": 700,
     "metadata": {},
     "output_type": "execute_result"
    }
   ],
   "source": [
    "model.conv1."
   ]
  },
  {
   "cell_type": "code",
   "execution_count": null,
   "id": "7691d90e-67ff-4e28-882e-aeb5506f64d1",
   "metadata": {},
   "outputs": [],
   "source": []
  }
 ],
 "metadata": {
  "kernelspec": {
   "display_name": "Python 3 (ipykernel)",
   "language": "python",
   "name": "python3"
  },
  "language_info": {
   "codemirror_mode": {
    "name": "ipython",
    "version": 3
   },
   "file_extension": ".py",
   "mimetype": "text/x-python",
   "name": "python",
   "nbconvert_exporter": "python",
   "pygments_lexer": "ipython3",
   "version": "3.7.11"
  }
 },
 "nbformat": 4,
 "nbformat_minor": 5
}
