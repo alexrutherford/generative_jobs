{
 "cells": [
  {
   "cell_type": "code",
   "execution_count": 92,
   "id": "9b389352-a499-4807-a9e3-8be3ffc4a6d8",
   "metadata": {},
   "outputs": [],
   "source": [
    "from torch_geometric.data import Data\n",
    "from torch_geometric.nn import GCNConv\n",
    "import torch\n",
    "import torch.nn.functional as F\n",
    "from torch.autograd import Variable\n",
    "\n",
    "import pandas as pd\n",
    "import numpy as np\n",
    "import matplotlib.pyplot as plt\n",
    "import seaborn as sns"
   ]
  },
  {
   "cell_type": "code",
   "execution_count": 2,
   "id": "548be65e-d598-4d0c-963e-a9e7604687be",
   "metadata": {},
   "outputs": [],
   "source": [
    "df = pd.read_csv('MergedData.csv')"
   ]
  },
  {
   "cell_type": "code",
   "execution_count": 5,
   "id": "96fecd0e-ad41-4841-ba85-50dc43c14baa",
   "metadata": {},
   "outputs": [],
   "source": [
    "df = df.iloc[:,1:]"
   ]
  },
  {
   "cell_type": "code",
   "execution_count": 6,
   "id": "c0dfdef8-1361-4a0a-9446-c7907951ac4a",
   "metadata": {},
   "outputs": [],
   "source": [
    "df = df.iloc[:,1:]"
   ]
  },
  {
   "cell_type": "code",
   "execution_count": 7,
   "id": "6eec1c90-8424-4564-a2d2-9be92c717e5b",
   "metadata": {},
   "outputs": [
    {
     "data": {
      "text/html": [
       "<div>\n",
       "<style scoped>\n",
       "    .dataframe tbody tr th:only-of-type {\n",
       "        vertical-align: middle;\n",
       "    }\n",
       "\n",
       "    .dataframe tbody tr th {\n",
       "        vertical-align: top;\n",
       "    }\n",
       "\n",
       "    .dataframe thead th {\n",
       "        text-align: right;\n",
       "    }\n",
       "</style>\n",
       "<table border=\"1\" class=\"dataframe\">\n",
       "  <thead>\n",
       "    <tr style=\"text-align: right;\">\n",
       "      <th></th>\n",
       "      <th>Achievement</th>\n",
       "      <th>Independence</th>\n",
       "      <th>Recognition</th>\n",
       "      <th>Relationships</th>\n",
       "      <th>Support</th>\n",
       "      <th>Working Conditions</th>\n",
       "    </tr>\n",
       "  </thead>\n",
       "  <tbody>\n",
       "    <tr>\n",
       "      <th>0</th>\n",
       "      <td>6.50</td>\n",
       "      <td>6.835</td>\n",
       "      <td>6.500</td>\n",
       "      <td>5.00</td>\n",
       "      <td>4.33</td>\n",
       "      <td>6.33</td>\n",
       "    </tr>\n",
       "    <tr>\n",
       "      <th>1</th>\n",
       "      <td>5.33</td>\n",
       "      <td>6.000</td>\n",
       "      <td>5.670</td>\n",
       "      <td>6.33</td>\n",
       "      <td>4.67</td>\n",
       "      <td>6.00</td>\n",
       "    </tr>\n",
       "    <tr>\n",
       "      <th>2</th>\n",
       "      <td>5.33</td>\n",
       "      <td>5.330</td>\n",
       "      <td>5.165</td>\n",
       "      <td>5.00</td>\n",
       "      <td>4.00</td>\n",
       "      <td>5.08</td>\n",
       "    </tr>\n",
       "    <tr>\n",
       "      <th>3</th>\n",
       "      <td>6.00</td>\n",
       "      <td>5.670</td>\n",
       "      <td>5.330</td>\n",
       "      <td>5.67</td>\n",
       "      <td>5.00</td>\n",
       "      <td>6.17</td>\n",
       "    </tr>\n",
       "    <tr>\n",
       "      <th>4</th>\n",
       "      <td>5.33</td>\n",
       "      <td>5.670</td>\n",
       "      <td>4.670</td>\n",
       "      <td>4.00</td>\n",
       "      <td>5.33</td>\n",
       "      <td>5.50</td>\n",
       "    </tr>\n",
       "  </tbody>\n",
       "</table>\n",
       "</div>"
      ],
      "text/plain": [
       "   Achievement  Independence  Recognition  Relationships  Support  \\\n",
       "0         6.50         6.835        6.500           5.00     4.33   \n",
       "1         5.33         6.000        5.670           6.33     4.67   \n",
       "2         5.33         5.330        5.165           5.00     4.00   \n",
       "3         6.00         5.670        5.330           5.67     5.00   \n",
       "4         5.33         5.670        4.670           4.00     5.33   \n",
       "\n",
       "   Working Conditions  \n",
       "0                6.33  \n",
       "1                6.00  \n",
       "2                5.08  \n",
       "3                6.17  \n",
       "4                5.50  "
      ]
     },
     "execution_count": 7,
     "metadata": {},
     "output_type": "execute_result"
    }
   ],
   "source": [
    "df.head()"
   ]
  },
  {
   "cell_type": "code",
   "execution_count": 8,
   "id": "69efbf8a-3814-42c9-ad1e-cbd442ef6905",
   "metadata": {},
   "outputs": [],
   "source": [
    "dfNet = pd.read_csv('adjMat.csv')"
   ]
  },
  {
   "cell_type": "code",
   "execution_count": 9,
   "id": "520b9cc1-52da-47c5-a19f-68121bac1c6d",
   "metadata": {},
   "outputs": [],
   "source": [
    "dfNet.set_index(dfNet.iloc[:,0],inplace = True)"
   ]
  },
  {
   "cell_type": "code",
   "execution_count": 10,
   "id": "8cd3e8ee-1c51-4821-8095-018ed93e8765",
   "metadata": {},
   "outputs": [],
   "source": [
    "dfNet.set_index(dfNet.iloc[:,0],inplace = True)"
   ]
  },
  {
   "cell_type": "code",
   "execution_count": 10,
   "id": "87eb9bb8-bca0-431e-9aed-caf598314d07",
   "metadata": {},
   "outputs": [],
   "source": [
    "dfNet = dfNet.iloc[:,1:]"
   ]
  },
  {
   "cell_type": "code",
   "execution_count": 11,
   "id": "fc0e1f56-e9af-4405-97d4-9cbb25d2c128",
   "metadata": {},
   "outputs": [
    {
     "data": {
      "text/html": [
       "<div>\n",
       "<style scoped>\n",
       "    .dataframe tbody tr th:only-of-type {\n",
       "        vertical-align: middle;\n",
       "    }\n",
       "\n",
       "    .dataframe tbody tr th {\n",
       "        vertical-align: top;\n",
       "    }\n",
       "\n",
       "    .dataframe thead th {\n",
       "        text-align: right;\n",
       "    }\n",
       "</style>\n",
       "<table border=\"1\" class=\"dataframe\">\n",
       "  <thead>\n",
       "    <tr style=\"text-align: right;\">\n",
       "      <th></th>\n",
       "      <th>11-1011</th>\n",
       "      <th>11-1021</th>\n",
       "      <th>11-2011</th>\n",
       "      <th>11-2021</th>\n",
       "      <th>11-2022</th>\n",
       "      <th>11-2031</th>\n",
       "      <th>11-3011</th>\n",
       "      <th>11-3021</th>\n",
       "      <th>11-3031</th>\n",
       "      <th>11-3051</th>\n",
       "      <th>...</th>\n",
       "      <th>53-7061</th>\n",
       "      <th>53-7062</th>\n",
       "      <th>53-7063</th>\n",
       "      <th>53-7064</th>\n",
       "      <th>53-7071</th>\n",
       "      <th>53-7072</th>\n",
       "      <th>53-7073</th>\n",
       "      <th>53-7081</th>\n",
       "      <th>53-7111</th>\n",
       "      <th>53-7121</th>\n",
       "    </tr>\n",
       "    <tr>\n",
       "      <th>Unnamed: 0</th>\n",
       "      <th></th>\n",
       "      <th></th>\n",
       "      <th></th>\n",
       "      <th></th>\n",
       "      <th></th>\n",
       "      <th></th>\n",
       "      <th></th>\n",
       "      <th></th>\n",
       "      <th></th>\n",
       "      <th></th>\n",
       "      <th></th>\n",
       "      <th></th>\n",
       "      <th></th>\n",
       "      <th></th>\n",
       "      <th></th>\n",
       "      <th></th>\n",
       "      <th></th>\n",
       "      <th></th>\n",
       "      <th></th>\n",
       "      <th></th>\n",
       "      <th></th>\n",
       "    </tr>\n",
       "  </thead>\n",
       "  <tbody>\n",
       "    <tr>\n",
       "      <th>11-1011</th>\n",
       "      <td>0.000000</td>\n",
       "      <td>0.503597</td>\n",
       "      <td>0.656489</td>\n",
       "      <td>0.705882</td>\n",
       "      <td>0.640288</td>\n",
       "      <td>0.686567</td>\n",
       "      <td>0.618705</td>\n",
       "      <td>0.598540</td>\n",
       "      <td>0.633094</td>\n",
       "      <td>0.312500</td>\n",
       "      <td>...</td>\n",
       "      <td>0.092308</td>\n",
       "      <td>0.046154</td>\n",
       "      <td>0.104712</td>\n",
       "      <td>0.198895</td>\n",
       "      <td>0.107527</td>\n",
       "      <td>0.112299</td>\n",
       "      <td>0.119565</td>\n",
       "      <td>0.071795</td>\n",
       "      <td>0.085561</td>\n",
       "      <td>0.111702</td>\n",
       "    </tr>\n",
       "    <tr>\n",
       "      <th>11-1021</th>\n",
       "      <td>0.503597</td>\n",
       "      <td>0.000000</td>\n",
       "      <td>0.492308</td>\n",
       "      <td>0.503597</td>\n",
       "      <td>0.496350</td>\n",
       "      <td>0.549618</td>\n",
       "      <td>0.590551</td>\n",
       "      <td>0.507692</td>\n",
       "      <td>0.545455</td>\n",
       "      <td>0.416667</td>\n",
       "      <td>...</td>\n",
       "      <td>0.158537</td>\n",
       "      <td>0.138365</td>\n",
       "      <td>0.125749</td>\n",
       "      <td>0.204969</td>\n",
       "      <td>0.122699</td>\n",
       "      <td>0.170886</td>\n",
       "      <td>0.150943</td>\n",
       "      <td>0.155280</td>\n",
       "      <td>0.118012</td>\n",
       "      <td>0.177215</td>\n",
       "    </tr>\n",
       "    <tr>\n",
       "      <th>11-2011</th>\n",
       "      <td>0.656489</td>\n",
       "      <td>0.492308</td>\n",
       "      <td>0.000000</td>\n",
       "      <td>0.722222</td>\n",
       "      <td>0.601504</td>\n",
       "      <td>0.674603</td>\n",
       "      <td>0.590909</td>\n",
       "      <td>0.511111</td>\n",
       "      <td>0.630769</td>\n",
       "      <td>0.226415</td>\n",
       "      <td>...</td>\n",
       "      <td>0.093923</td>\n",
       "      <td>0.080000</td>\n",
       "      <td>0.082873</td>\n",
       "      <td>0.160920</td>\n",
       "      <td>0.067039</td>\n",
       "      <td>0.084270</td>\n",
       "      <td>0.091429</td>\n",
       "      <td>0.077778</td>\n",
       "      <td>0.080460</td>\n",
       "      <td>0.071823</td>\n",
       "    </tr>\n",
       "    <tr>\n",
       "      <th>11-2021</th>\n",
       "      <td>0.705882</td>\n",
       "      <td>0.503597</td>\n",
       "      <td>0.722222</td>\n",
       "      <td>0.000000</td>\n",
       "      <td>0.676471</td>\n",
       "      <td>0.779528</td>\n",
       "      <td>0.666667</td>\n",
       "      <td>0.598540</td>\n",
       "      <td>0.759690</td>\n",
       "      <td>0.312500</td>\n",
       "      <td>...</td>\n",
       "      <td>0.097938</td>\n",
       "      <td>0.085106</td>\n",
       "      <td>0.098958</td>\n",
       "      <td>0.166667</td>\n",
       "      <td>0.084211</td>\n",
       "      <td>0.089005</td>\n",
       "      <td>0.095745</td>\n",
       "      <td>0.077320</td>\n",
       "      <td>0.079787</td>\n",
       "      <td>0.100000</td>\n",
       "    </tr>\n",
       "    <tr>\n",
       "      <th>11-2022</th>\n",
       "      <td>0.640288</td>\n",
       "      <td>0.496350</td>\n",
       "      <td>0.601504</td>\n",
       "      <td>0.676471</td>\n",
       "      <td>0.000000</td>\n",
       "      <td>0.681818</td>\n",
       "      <td>0.625000</td>\n",
       "      <td>0.546763</td>\n",
       "      <td>0.689394</td>\n",
       "      <td>0.295597</td>\n",
       "      <td>...</td>\n",
       "      <td>0.123656</td>\n",
       "      <td>0.117318</td>\n",
       "      <td>0.125000</td>\n",
       "      <td>0.189944</td>\n",
       "      <td>0.109890</td>\n",
       "      <td>0.127072</td>\n",
       "      <td>0.128492</td>\n",
       "      <td>0.114130</td>\n",
       "      <td>0.117978</td>\n",
       "      <td>0.132597</td>\n",
       "    </tr>\n",
       "  </tbody>\n",
       "</table>\n",
       "<p>5 rows × 736 columns</p>\n",
       "</div>"
      ],
      "text/plain": [
       "             11-1011   11-1021   11-2011   11-2021   11-2022   11-2031  \\\n",
       "Unnamed: 0                                                               \n",
       "11-1011     0.000000  0.503597  0.656489  0.705882  0.640288  0.686567   \n",
       "11-1021     0.503597  0.000000  0.492308  0.503597  0.496350  0.549618   \n",
       "11-2011     0.656489  0.492308  0.000000  0.722222  0.601504  0.674603   \n",
       "11-2021     0.705882  0.503597  0.722222  0.000000  0.676471  0.779528   \n",
       "11-2022     0.640288  0.496350  0.601504  0.676471  0.000000  0.681818   \n",
       "\n",
       "             11-3011   11-3021   11-3031   11-3051  ...   53-7061   53-7062  \\\n",
       "Unnamed: 0                                          ...                       \n",
       "11-1011     0.618705  0.598540  0.633094  0.312500  ...  0.092308  0.046154   \n",
       "11-1021     0.590551  0.507692  0.545455  0.416667  ...  0.158537  0.138365   \n",
       "11-2011     0.590909  0.511111  0.630769  0.226415  ...  0.093923  0.080000   \n",
       "11-2021     0.666667  0.598540  0.759690  0.312500  ...  0.097938  0.085106   \n",
       "11-2022     0.625000  0.546763  0.689394  0.295597  ...  0.123656  0.117318   \n",
       "\n",
       "             53-7063   53-7064   53-7071   53-7072   53-7073   53-7081  \\\n",
       "Unnamed: 0                                                               \n",
       "11-1011     0.104712  0.198895  0.107527  0.112299  0.119565  0.071795   \n",
       "11-1021     0.125749  0.204969  0.122699  0.170886  0.150943  0.155280   \n",
       "11-2011     0.082873  0.160920  0.067039  0.084270  0.091429  0.077778   \n",
       "11-2021     0.098958  0.166667  0.084211  0.089005  0.095745  0.077320   \n",
       "11-2022     0.125000  0.189944  0.109890  0.127072  0.128492  0.114130   \n",
       "\n",
       "             53-7111   53-7121  \n",
       "Unnamed: 0                      \n",
       "11-1011     0.085561  0.111702  \n",
       "11-1021     0.118012  0.177215  \n",
       "11-2011     0.080460  0.071823  \n",
       "11-2021     0.079787  0.100000  \n",
       "11-2022     0.117978  0.132597  \n",
       "\n",
       "[5 rows x 736 columns]"
      ]
     },
     "execution_count": 11,
     "metadata": {},
     "output_type": "execute_result"
    }
   ],
   "source": [
    "dfNet.head()"
   ]
  },
  {
   "cell_type": "markdown",
   "id": "34775a51-ef0a-4659-beab-45696d4e6382",
   "metadata": {},
   "source": [
    "## Binary weights"
   ]
  },
  {
   "cell_type": "code",
   "execution_count": 12,
   "id": "c85ce558-8de8-4879-af8d-15528fd142f9",
   "metadata": {},
   "outputs": [],
   "source": [
    "dfBin = dfNet > 0.3"
   ]
  },
  {
   "cell_type": "code",
   "execution_count": 14,
   "id": "f4fe7cd8-7805-4854-90bc-ccc7eac1a8a5",
   "metadata": {},
   "outputs": [],
   "source": [
    "edges1 = []\n",
    "edges2 = []\n",
    "edges = []\n",
    "\n",
    "for i in range(df.shape[0]):\n",
    "    for j in range(i+1,df.shape[0]):\n",
    "        if dfBin.iloc[i,j]:\n",
    "            edges.extend([[i,j],[j,i]])\n",
    "            \n",
    "            edges1.extend([i,j])\n",
    "            edges2.extend([i,j])\n",
    "            "
   ]
  },
  {
   "cell_type": "code",
   "execution_count": 15,
   "id": "5ad284f6-f352-4fd3-8a25-243526166dd8",
   "metadata": {},
   "outputs": [],
   "source": [
    "edge_index = torch.tensor([edges1,edges2], dtype=torch.long)"
   ]
  },
  {
   "cell_type": "code",
   "execution_count": 16,
   "id": "93de6bf3-d5bf-461d-acd5-396a643ca639",
   "metadata": {},
   "outputs": [
    {
     "data": {
      "text/plain": [
       "270480.0"
      ]
     },
     "execution_count": 16,
     "metadata": {},
     "output_type": "execute_result"
    }
   ],
   "source": [
    "(df.shape[0]*(df.shape[0] - 1))/2"
   ]
  },
  {
   "cell_type": "code",
   "execution_count": 17,
   "id": "592979ad-9f63-4fba-8bfc-474d13bf81fb",
   "metadata": {},
   "outputs": [
    {
     "data": {
      "text/plain": [
       "torch.Size([2, 259000])"
      ]
     },
     "execution_count": 17,
     "metadata": {},
     "output_type": "execute_result"
    }
   ],
   "source": [
    "edge_index.shape"
   ]
  },
  {
   "cell_type": "markdown",
   "id": "ccaf3c41-3c6f-480c-815d-a50def29ed36",
   "metadata": {},
   "source": [
    "## Weighted"
   ]
  },
  {
   "cell_type": "code",
   "execution_count": 34,
   "id": "27edd35c-fe0a-47be-b8d4-e4a1667dc6fa",
   "metadata": {},
   "outputs": [],
   "source": [
    "from itertools import combinations_with_replacement,combinations"
   ]
  },
  {
   "cell_type": "code",
   "execution_count": 35,
   "id": "d9fc1ca7-ea77-4a66-8860-a3db3ae30581",
   "metadata": {},
   "outputs": [
    {
     "data": {
      "text/plain": [
       "[(0, 0), (0, 1), (0, 2), (1, 1), (1, 2), (2, 2)]"
      ]
     },
     "execution_count": 35,
     "metadata": {},
     "output_type": "execute_result"
    }
   ],
   "source": [
    "list(combinations_with_replacement(range(3),2))"
   ]
  },
  {
   "cell_type": "code",
   "execution_count": null,
   "id": "8206c1cc-c8dc-4a6c-99f8-26fdfc00551b",
   "metadata": {},
   "outputs": [],
   "source": [
    "edges = "
   ]
  },
  {
   "cell_type": "code",
   "execution_count": null,
   "id": "02569d98-d79a-4877-8cbc-647e896f469f",
   "metadata": {},
   "outputs": [],
   "source": []
  },
  {
   "cell_type": "code",
   "execution_count": 164,
   "id": "0a5b9778-d6a0-453f-bd50-4500a6690ae9",
   "metadata": {
    "tags": []
   },
   "outputs": [],
   "source": [
    "x = torch.tensor(df.values, dtype=torch.float)"
   ]
  },
  {
   "cell_type": "code",
   "execution_count": 165,
   "id": "11f03001-944a-469f-91af-a32bae7bdcf6",
   "metadata": {},
   "outputs": [],
   "source": [
    "y = torch.tensor(df['Achievement'].values, dtype=torch.float)\n",
    "# Try making target the work value itself"
   ]
  },
  {
   "cell_type": "code",
   "execution_count": 166,
   "id": "1c977544-8ff7-426b-9fa1-eff9f24366a4",
   "metadata": {},
   "outputs": [
    {
     "data": {
      "text/plain": [
       "0      6.50\n",
       "1      5.33\n",
       "2      5.33\n",
       "3      6.00\n",
       "4      5.33\n",
       "       ... \n",
       "731    2.33\n",
       "732    2.33\n",
       "733    2.00\n",
       "734    2.00\n",
       "735    2.67\n",
       "Name: Achievement, Length: 736, dtype: float64"
      ]
     },
     "execution_count": 166,
     "metadata": {},
     "output_type": "execute_result"
    }
   ],
   "source": [
    "df.Achievement"
   ]
  },
  {
   "cell_type": "markdown",
   "id": "6057812a-2f46-4faa-a691-3c0931278a6f",
   "metadata": {},
   "source": [
    "## Make test/train split"
   ]
  },
  {
   "cell_type": "code",
   "execution_count": 167,
   "id": "0c546d94-d456-44ea-88c3-a8fab441fd5d",
   "metadata": {},
   "outputs": [],
   "source": [
    "prop = int(y.shape[0]*0.9)\n",
    "prop_bar = y.shape[0] - prop"
   ]
  },
  {
   "cell_type": "code",
   "execution_count": 168,
   "id": "9391823b-487b-4567-a75b-2942c8f0c58a",
   "metadata": {},
   "outputs": [],
   "source": [
    "train_mask = torch.cat((torch.ones(prop),torch.zeros(prop_bar) ))"
   ]
  },
  {
   "cell_type": "code",
   "execution_count": 169,
   "id": "5286b348-91f8-45df-baf1-64ca89cd52c1",
   "metadata": {},
   "outputs": [],
   "source": [
    "train_mask = train_mask.long()"
   ]
  },
  {
   "cell_type": "code",
   "execution_count": 170,
   "id": "bbf80b8e-800b-42f7-aceb-0af213ce2412",
   "metadata": {},
   "outputs": [],
   "source": [
    "test_mask = torch.cat((torch.zeros(prop),torch.ones(prop_bar) ))"
   ]
  },
  {
   "cell_type": "code",
   "execution_count": 171,
   "id": "d6026964-560c-431a-9602-3b2fc614c868",
   "metadata": {},
   "outputs": [],
   "source": [
    "test_mask = test_mask.long()"
   ]
  },
  {
   "cell_type": "code",
   "execution_count": 172,
   "id": "a9e4635a-6b81-4b05-a8e2-03510c327ec2",
   "metadata": {},
   "outputs": [
    {
     "data": {
      "text/plain": [
       "tensor([[  0,   1,   0,  ..., 735, 734, 735],\n",
       "        [  0,   1,   0,  ..., 735, 734, 735]])"
      ]
     },
     "execution_count": 172,
     "metadata": {},
     "output_type": "execute_result"
    }
   ],
   "source": [
    "edge_index.t().contiguous().T"
   ]
  },
  {
   "cell_type": "markdown",
   "id": "1be90ad4-c585-422c-b8ce-a25c933f3445",
   "metadata": {},
   "source": [
    "## Make data object"
   ]
  },
  {
   "cell_type": "code",
   "execution_count": 173,
   "id": "41c0d788-768a-4839-938f-35104560478a",
   "metadata": {},
   "outputs": [],
   "source": [
    "data = Data(x=x, y=y, edge_index=edge_index.t().contiguous().T,train_mask = train_mask, test_mask = test_mask)"
   ]
  },
  {
   "cell_type": "code",
   "execution_count": 174,
   "id": "f2475c4e-97f0-4cd4-8556-f25c8d3010da",
   "metadata": {},
   "outputs": [],
   "source": [
    "edge_index=edge_index.t().contiguous()"
   ]
  },
  {
   "cell_type": "code",
   "execution_count": 175,
   "id": "2970e15a-54cc-401b-a76c-b27f90a49090",
   "metadata": {},
   "outputs": [
    {
     "data": {
      "text/plain": [
       "torch.Size([736, 6])"
      ]
     },
     "execution_count": 175,
     "metadata": {},
     "output_type": "execute_result"
    }
   ],
   "source": [
    "data['x'].shape"
   ]
  },
  {
   "cell_type": "markdown",
   "id": "e0201855-ff93-411c-a6a6-e7b2d6fd4b67",
   "metadata": {},
   "source": [
    "## Make a network"
   ]
  },
  {
   "cell_type": "code",
   "execution_count": 394,
   "id": "586ca298-52de-4d64-8b2c-67307315b5e9",
   "metadata": {},
   "outputs": [],
   "source": [
    "class GCN(torch.nn.Module):\n",
    "    def __init__(self):\n",
    "        super().__init__()\n",
    "        self.conv1 = GCNConv(-1, 2)\n",
    "        self.conv2 = GCNConv(2, 1) # Try to predict one single work value\n",
    "        \n",
    "    def forward(self,data):\n",
    "        x, edge_index = data.x, data.edge_index\n",
    "        \n",
    "        x = self.conv1(x, edge_index)\n",
    "        x = F.dropout(x, training=self.training)\n",
    "        x = self.conv2(x,edge_index)\n",
    "\n",
    "        return x"
   ]
  },
  {
   "cell_type": "code",
   "execution_count": 395,
   "id": "54a66af1-5a49-40a0-9f9b-40aa9244c48b",
   "metadata": {},
   "outputs": [],
   "source": [
    "device = torch.device('cuda' if torch.cuda.is_available() else 'cpu')\n",
    "model = GCN().to(device)"
   ]
  },
  {
   "cell_type": "code",
   "execution_count": 396,
   "id": "68db0d3f-a767-4b6c-a441-bb254d46d3a0",
   "metadata": {},
   "outputs": [],
   "source": [
    "data = data.to(device)"
   ]
  },
  {
   "cell_type": "code",
   "execution_count": 397,
   "id": "50b5c133-7bd4-4cb9-8e5d-5ad98c56c6bc",
   "metadata": {},
   "outputs": [],
   "source": [
    "optimizer = torch.optim.Adam(model.parameters(), lr=0.01, weight_decay=5e-4)"
   ]
  },
  {
   "cell_type": "code",
   "execution_count": 398,
   "id": "673cf8dd-fda9-45b4-93fe-9fe76107c37e",
   "metadata": {},
   "outputs": [
    {
     "data": {
      "text/plain": [
       "GCN(\n",
       "  (conv1): GCNConv(-1, 2)\n",
       "  (conv2): GCNConv(2, 1)\n",
       ")"
      ]
     },
     "execution_count": 398,
     "metadata": {},
     "output_type": "execute_result"
    }
   ],
   "source": [
    "model.train()"
   ]
  },
  {
   "cell_type": "code",
   "execution_count": null,
   "id": "942e280b-1ef1-4d19-b531-c089c044019d",
   "metadata": {},
   "outputs": [],
   "source": []
  },
  {
   "cell_type": "code",
   "execution_count": 399,
   "id": "3ccf6805-b2ba-442e-b659-960d866215ab",
   "metadata": {},
   "outputs": [],
   "source": [
    "for epoch in range(200):\n",
    "    optimizer.zero_grad()\n",
    "    out = model(data)\n",
    "    #loss = F.mse_loss(Variable(data.x[data.train_mask,0],requires_grad = True), data.y[data.train_mask])\n",
    "    loss = F.mse_loss(Variable(data.x[:,1],requires_grad = True), data.y)\n",
    "    loss.backward()\n",
    "    optimizer.step()"
   ]
  },
  {
   "cell_type": "code",
   "execution_count": 400,
   "id": "4eda74ab-8101-422a-90e5-fbb649dc5c90",
   "metadata": {},
   "outputs": [
    {
     "data": {
      "text/plain": [
       "GCN(\n",
       "  (conv1): GCNConv(-1, 2)\n",
       "  (conv2): GCNConv(2, 1)\n",
       ")"
      ]
     },
     "execution_count": 400,
     "metadata": {},
     "output_type": "execute_result"
    }
   ],
   "source": [
    "model.eval()"
   ]
  },
  {
   "cell_type": "code",
   "execution_count": 401,
   "id": "400396b3-7f7e-42e7-8aee-6951e422be9b",
   "metadata": {},
   "outputs": [],
   "source": [
    "pred = model(data)"
   ]
  },
  {
   "cell_type": "code",
   "execution_count": 402,
   "id": "9b97284a-39e2-4288-a919-fc5c04358e13",
   "metadata": {},
   "outputs": [
    {
     "data": {
      "text/plain": [
       "torch.Size([736, 1])"
      ]
     },
     "execution_count": 402,
     "metadata": {},
     "output_type": "execute_result"
    }
   ],
   "source": [
    "pred.shape"
   ]
  },
  {
   "cell_type": "code",
   "execution_count": 403,
   "id": "c7ac1cc1-d0d3-4a27-a097-9d291d2e9674",
   "metadata": {},
   "outputs": [],
   "source": [
    "loss = F.mse_loss(pred[:,0],data.y)"
   ]
  },
  {
   "cell_type": "code",
   "execution_count": 415,
   "id": "2baee634-d075-4338-99f2-d374ea603896",
   "metadata": {},
   "outputs": [
    {
     "data": {
      "text/plain": [
       "(23.5156307220459, 4.8492917753055345)"
      ]
     },
     "execution_count": 415,
     "metadata": {},
     "output_type": "execute_result"
    }
   ],
   "source": [
    "loss.abs().item(),np.sqrt(loss.abs().item())"
   ]
  },
  {
   "cell_type": "code",
   "execution_count": null,
   "id": "a65a46d1-f97f-49a4-ae3e-c9af8a475ec3",
   "metadata": {},
   "outputs": [],
   "source": []
  },
  {
   "cell_type": "code",
   "execution_count": 405,
   "id": "c1000660-e1a0-4bf1-8d98-0d557f40e3f2",
   "metadata": {},
   "outputs": [
    {
     "data": {
      "text/plain": [
       "numpy.ndarray"
      ]
     },
     "execution_count": 405,
     "metadata": {},
     "output_type": "execute_result"
    }
   ],
   "source": [
    "type(pred.detach().numpy())"
   ]
  },
  {
   "cell_type": "code",
   "execution_count": 406,
   "id": "498df8ca-f92e-4bf4-8535-ac46c7407fa0",
   "metadata": {},
   "outputs": [
    {
     "data": {
      "image/png": "[encoded data removed]",
      "text/plain": [
       "<Figure size 432x288 with 1 Axes>"
      ]
     },
     "metadata": {
      "needs_background": "light"
     },
     "output_type": "display_data"
    }
   ],
   "source": [
    "_ = plt.hist(pred.detach().numpy())"
   ]
  },
  {
   "cell_type": "code",
   "execution_count": 407,
   "id": "4284dec2-ff34-4dea-93ac-bb15834d8775",
   "metadata": {},
   "outputs": [
    {
     "data": {
      "image/png": "[encoded data removed]",
      "text/plain": [
       "<Figure size 432x288 with 1 Axes>"
      ]
     },
     "metadata": {
      "needs_background": "light"
     },
     "output_type": "display_data"
    }
   ],
   "source": [
    "_ = plt.hist(data.y.detach().numpy())"
   ]
  },
  {
   "cell_type": "code",
   "execution_count": 445,
   "id": "8a98af82-f250-41c4-ae5e-0001f5f37f97",
   "metadata": {},
   "outputs": [
    {
     "data": {
      "text/plain": [
       "Text(0, 0.5, 'True')"
      ]
     },
     "execution_count": 445,
     "metadata": {},
     "output_type": "execute_result"
    },
    {
     "data": {
      "image/png": "[encoded data removed]",
      "text/plain": [
       "<Figure size 432x288 with 1 Axes>"
      ]
     },
     "metadata": {
      "needs_background": "light"
     },
     "output_type": "display_data"
    }
   ],
   "source": [
    "plt.scatter(pred.detach().numpy(),data.y.detach().numpy(),alpha = 0.3)\n",
    "\n",
    "plt.xlim(-1,7)\n",
    "plt.ylim(-1,7)\n",
    "\n",
    "plt.plot([0,6],[0,6])\n",
    "\n",
    "plt.xlabel('Predicted')\n",
    "plt.ylabel('True')"
   ]
  },
  {
   "cell_type": "markdown",
   "id": "6169a28c-60e8-48bc-9ece-b44ee4f00b3c",
   "metadata": {},
   "source": [
    "## Set up training/testing"
   ]
  },
  {
   "cell_type": "code",
   "execution_count": 492,
   "id": "2d44a327-a5d0-4011-bdeb-e1b76c3a45b6",
   "metadata": {},
   "outputs": [],
   "source": [
    "x = torch.tensor(df.values, dtype=torch.float)"
   ]
  },
  {
   "cell_type": "code",
   "execution_count": null,
   "id": "4f263731-c358-4f15-acd7-a140b2dca561",
   "metadata": {},
   "outputs": [],
   "source": [
    "data = Data(x=x, y=y, edge_index=edge_index.t().contiguous().T,train_mask = train_mask, test_mask = test_mask)"
   ]
  },
  {
   "cell_type": "code",
   "execution_count": 561,
   "id": "608cfee2-55d3-44c2-be99-f290bff16b15",
   "metadata": {},
   "outputs": [],
   "source": [
    "class GCN(torch.nn.Module):\n",
    "    def __init__(self):\n",
    "        super().__init__()\n",
    "        self.conv1 = GCNConv(-1, 4,add_self_loops = False)\n",
    "        self.conv2 = GCNConv(-1, 4,add_self_loops = False)\n",
    "        self.conv3 = GCNConv(4, 1,add_self_loops = False) # Try to predict one single work value\n",
    "        \n",
    "    def forward(self,data):\n",
    "        x, edge_index = data.x, data.edge_index\n",
    "        \n",
    "        x = self.conv1(x, edge_index)\n",
    "        #x = F.dropout(x, training=self.training)\n",
    "        x = self.conv2(x,edge_index)\n",
    "        #x = F.dropout(x, training=self.training)\n",
    "        x = self.conv3(x,edge_index)\n",
    "\n",
    "        return x"
   ]
  },
  {
   "cell_type": "code",
   "execution_count": 562,
   "id": "675052b3-6ef9-49d2-9f03-3522fa16f616",
   "metadata": {},
   "outputs": [],
   "source": [
    "device = torch.device('cuda' if torch.cuda.is_available() else 'cpu')\n",
    "model = GCN().to(device)"
   ]
  },
  {
   "cell_type": "code",
   "execution_count": 563,
   "id": "a975a01b-43f0-4438-a96e-84c7b6992ebd",
   "metadata": {},
   "outputs": [],
   "source": [
    "data = data.to(device)"
   ]
  },
  {
   "cell_type": "code",
   "execution_count": 564,
   "id": "31169c65-ebbc-4be8-9ee8-d25d2651dacb",
   "metadata": {},
   "outputs": [],
   "source": [
    "optimizer = torch.optim.Adam(model.parameters(), lr=0.01, weight_decay=5e-4)"
   ]
  },
  {
   "cell_type": "code",
   "execution_count": 565,
   "id": "32eca429-a1a8-4968-a774-c3c7bafecfe5",
   "metadata": {},
   "outputs": [
    {
     "data": {
      "text/plain": [
       "GCN(\n",
       "  (conv1): GCNConv(-1, 4)\n",
       "  (conv2): GCNConv(-1, 4)\n",
       "  (conv3): GCNConv(4, 1)\n",
       ")"
      ]
     },
     "execution_count": 565,
     "metadata": {},
     "output_type": "execute_result"
    }
   ],
   "source": [
    "model.train()"
   ]
  },
  {
   "cell_type": "code",
   "execution_count": 566,
   "id": "3ed30b84-4ad6-4b10-ad3d-a59ae0160294",
   "metadata": {},
   "outputs": [
    {
     "name": "stderr",
     "output_type": "stream",
     "text": [
      "/Users/alexisrutherford/opt/anaconda3/lib/python3.7/site-packages/ipykernel_launcher.py:6: UserWarning: Using a target size (torch.Size([736])) that is different to the input size (torch.Size([736, 1])). This will likely lead to incorrect results due to broadcasting. Please ensure they have the same size.\n",
      "  \n"
     ]
    },
    {
     "name": "stdout",
     "output_type": "stream",
     "text": [
      "LOSS = 52.4844\n",
      "LOSS = 8.1272\n",
      "LOSS = 2.9046\n",
      "LOSS = 0.2399\n",
      "LOSS = 0.3423\n",
      "LOSS = 0.2872\n",
      "LOSS = 0.1584\n",
      "LOSS = 0.1269\n",
      "LOSS = 0.1273\n",
      "LOSS = 0.1277\n",
      "LOSS = 0.1269\n",
      "LOSS = 0.1262\n",
      "LOSS = 0.1258\n",
      "LOSS = 0.1256\n",
      "LOSS = 0.1255\n",
      "LOSS = 0.1253\n",
      "LOSS = 0.1252\n",
      "LOSS = 0.1251\n",
      "LOSS = 0.1250\n",
      "LOSS = 0.1249\n"
     ]
    }
   ],
   "source": [
    "for epoch in range(200):\n",
    "    optimizer.zero_grad()\n",
    "    out = model(data)\n",
    "    #loss = F.mse_loss(Variable(data.x[data.train_mask,0],requires_grad = True), data.y[data.train_mask])\n",
    "    #loss = F.mse_loss(Variable(data.x[:,1],requires_grad = True), data.y)\n",
    "    loss = F.mse_loss(out[data.train_mask], data.y[data.train_mask])\n",
    "    loss.backward()\n",
    "    optimizer.step()\n",
    "    \n",
    "    if epoch % 10 == 0:\n",
    "        print('LOSS = {:.4f}'.format(loss.item()))"
   ]
  },
  {
   "cell_type": "code",
   "execution_count": 567,
   "id": "4b3b5abd-8587-4c30-a16f-665d80c7efef",
   "metadata": {},
   "outputs": [],
   "source": [
    "pred = model(data)"
   ]
  },
  {
   "cell_type": "code",
   "execution_count": 568,
   "id": "8e06ca51-e20d-4998-b70b-614dc83d7d45",
   "metadata": {},
   "outputs": [
    {
     "name": "stderr",
     "output_type": "stream",
     "text": [
      "/Users/alexisrutherford/opt/anaconda3/lib/python3.7/site-packages/ipykernel_launcher.py:2: UserWarning: Using a target size (torch.Size([736])) that is different to the input size (torch.Size([736, 1])). This will likely lead to incorrect results due to broadcasting. Please ensure they have the same size.\n",
      "  \n"
     ]
    }
   ],
   "source": [
    "#loss = F.mse_loss(pred[:,0],data.y)\n",
    "loss = F.mse_loss(pred[data.test_mask],data.y[data.test_mask])"
   ]
  },
  {
   "cell_type": "code",
   "execution_count": 569,
   "id": "35e39930-66bc-4d2e-906b-163034420b5d",
   "metadata": {},
   "outputs": [
    {
     "data": {
      "text/plain": [
       "(0.8461951613426208, 0.9198886679064053)"
      ]
     },
     "execution_count": 569,
     "metadata": {},
     "output_type": "execute_result"
    }
   ],
   "source": [
    "loss.abs().item(),np.sqrt(loss.abs().item())"
   ]
  },
  {
   "cell_type": "code",
   "execution_count": 570,
   "id": "5a49bd6c-27f9-4168-a323-ec28c1ba1100",
   "metadata": {},
   "outputs": [
    {
     "data": {
      "text/plain": [
       "Text(0, 0.5, 'True')"
      ]
     },
     "execution_count": 570,
     "metadata": {},
     "output_type": "execute_result"
    },
    {
     "data": {
      "image/png": "[encoded data removed]",
      "text/plain": [
       "<Figure size 432x288 with 1 Axes>"
      ]
     },
     "metadata": {
      "needs_background": "light"
     },
     "output_type": "display_data"
    }
   ],
   "source": [
    "plt.scatter(pred.detach().numpy(),data.y.detach().numpy(),alpha = 0.3)\n",
    "\n",
    "plt.xlim(-1,7)\n",
    "plt.ylim(-1,7)\n",
    "\n",
    "plt.plot([0,6],[0,6])\n",
    "\n",
    "plt.xlabel('Predicted')\n",
    "plt.ylabel('True')"
   ]
  },
  {
   "cell_type": "code",
   "execution_count": 571,
   "id": "9211daad-6da4-41fe-8e8d-3d4f03001055",
   "metadata": {},
   "outputs": [
    {
     "name": "stdout",
     "output_type": "stream",
     "text": [
      "/Users/alexisrutherford/Desktop/foh_vae\n"
     ]
    }
   ],
   "source": [
    "!pwd"
   ]
  },
  {
   "cell_type": "code",
   "execution_count": null,
   "id": "21777b93-2452-40ac-9cec-e0861c96b1e3",
   "metadata": {},
   "outputs": [],
   "source": []
  }
 ],
 "metadata": {
  "kernelspec": {
   "display_name": "Python 3",
   "language": "python",
   "name": "python3"
  },
  "language_info": {
   "codemirror_mode": {
    "name": "ipython",
    "version": 3
   },
   "file_extension": ".py",
   "mimetype": "text/x-python",
   "name": "python",
   "nbconvert_exporter": "python",
   "pygments_lexer": "ipython3",
   "version": "3.7.11"
  }
 },
 "nbformat": 4,
 "nbformat_minor": 5
}
